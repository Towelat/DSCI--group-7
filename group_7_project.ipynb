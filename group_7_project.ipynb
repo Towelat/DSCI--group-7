{
 "cells": [
  {
   "cell_type": "code",
   "execution_count": 8,
   "metadata": {},
   "outputs": [
    {
     "name": "stderr",
     "output_type": "stream",
     "text": [
      "Updating HTML index of packages in '.Library'\n",
      "Making 'packages.html' ... done\n",
      "also installing the dependencies ‘progress’, ‘reshape’\n",
      "\n",
      "Updating HTML index of packages in '.Library'\n",
      "Making 'packages.html' ... done\n",
      "\n",
      "Attaching package: ‘GGally’\n",
      "\n",
      "The following object is masked from ‘package:dplyr’:\n",
      "\n",
      "    nasa\n",
      "\n"
     ]
    }
   ],
   "source": [
    "library(tidyverse)\n",
    "library(testthat)\n",
    "library(digest)\n",
    "library(repr)\n",
    "library(caret)\n",
    "library(stringr)\n",
    "install.packages(\"e1071\", dependencies=TRUE, type='source')\n",
    "library(e1071)\n",
    "install.packages(\"GGally\")\n",
    "library(GGally)"
   ]
  },
  {
   "cell_type": "markdown",
   "metadata": {},
   "source": [
    "# “Who’s that Pokémon?”: Predicting Pokémon Types and Legendary status from their Generation and various Attributes using k-nn classification. \n",
    "\n",
    "## Introduction\n",
    "\n",
    "On February 27 2019, the 23rd anniversary of the Pokémon franchise, Nintendo announced its latest Pokémon games, which will introduce the eighth generation of Pokémon. What unique Pokémon might we expect in this new game? The goal of this project is to train a k-nearest neighbours classification model that can predict a given Pokémon’s Type(s) as well as its Legendary status given its Generation number and Stats (a measure of a Pokémon’s capabilities). To train this model, we will use the Pokémon Stats Data Set, which contains the Names, Types, Generation, Stats, and Legendary-status of 800 Pokémon from six generations."
   ]
  },
  {
   "cell_type": "code",
   "execution_count": 9,
   "metadata": {
    "scrolled": false
   },
   "outputs": [
    {
     "name": "stderr",
     "output_type": "stream",
     "text": [
      "Parsed with column specification:\n",
      "cols(\n",
      "  `#` = col_integer(),\n",
      "  Name = col_character(),\n",
      "  `Type 1` = col_character(),\n",
      "  `Type 2` = col_character(),\n",
      "  Total = col_integer(),\n",
      "  HP = col_integer(),\n",
      "  Attack = col_integer(),\n",
      "  Defense = col_integer(),\n",
      "  `Sp. Atk` = col_integer(),\n",
      "  `Sp. Def` = col_integer(),\n",
      "  Speed = col_integer(),\n",
      "  Generation = col_integer(),\n",
      "  Legendary = col_character()\n",
      ")\n"
     ]
    },
    {
     "data": {
      "text/html": [
       "<table>\n",
       "<thead><tr><th scope=col>#</th><th scope=col>Name</th><th scope=col>Type 1</th><th scope=col>Type 2</th><th scope=col>Total</th><th scope=col>HP</th><th scope=col>Attack</th><th scope=col>Defense</th><th scope=col>Sp. Atk</th><th scope=col>Sp. Def</th><th scope=col>Speed</th><th scope=col>Generation</th><th scope=col>Legendary</th></tr></thead>\n",
       "<tbody>\n",
       "\t<tr><td>1                    </td><td>Bulbasaur            </td><td>Grass                </td><td>Poison               </td><td>318                  </td><td>45                   </td><td> 49                  </td><td> 49                  </td><td> 65                  </td><td> 65                  </td><td>45                   </td><td>1                    </td><td>False                </td></tr>\n",
       "\t<tr><td>2                    </td><td>Ivysaur              </td><td>Grass                </td><td>Poison               </td><td>405                  </td><td>60                   </td><td> 62                  </td><td> 63                  </td><td> 80                  </td><td> 80                  </td><td>60                   </td><td>1                    </td><td>False                </td></tr>\n",
       "\t<tr><td>3                    </td><td>Venusaur             </td><td>Grass                </td><td>Poison               </td><td>525                  </td><td>80                   </td><td> 82                  </td><td> 83                  </td><td>100                  </td><td>100                  </td><td>80                   </td><td>1                    </td><td>False                </td></tr>\n",
       "\t<tr><td>3                    </td><td>VenusaurMega Venusaur</td><td>Grass                </td><td>Poison               </td><td>625                  </td><td>80                   </td><td>100                  </td><td>123                  </td><td>122                  </td><td>120                  </td><td>80                   </td><td>1                    </td><td>False                </td></tr>\n",
       "\t<tr><td>4                    </td><td>Charmander           </td><td>Fire                 </td><td>NA                   </td><td>309                  </td><td>39                   </td><td> 52                  </td><td> 43                  </td><td> 60                  </td><td> 50                  </td><td>65                   </td><td>1                    </td><td>False                </td></tr>\n",
       "\t<tr><td>5                    </td><td>Charmeleon           </td><td>Fire                 </td><td>NA                   </td><td>405                  </td><td>58                   </td><td> 64                  </td><td> 58                  </td><td> 80                  </td><td> 65                  </td><td>80                   </td><td>1                    </td><td>False                </td></tr>\n",
       "</tbody>\n",
       "</table>\n"
      ],
      "text/latex": [
       "\\begin{tabular}{r|lllllllllllll}\n",
       " \\# & Name & Type 1 & Type 2 & Total & HP & Attack & Defense & Sp. Atk & Sp. Def & Speed & Generation & Legendary\\\\\n",
       "\\hline\n",
       "\t 1                     & Bulbasaur             & Grass                 & Poison                & 318                   & 45                    &  49                   &  49                   &  65                   &  65                   & 45                    & 1                     & False                \\\\\n",
       "\t 2                     & Ivysaur               & Grass                 & Poison                & 405                   & 60                    &  62                   &  63                   &  80                   &  80                   & 60                    & 1                     & False                \\\\\n",
       "\t 3                     & Venusaur              & Grass                 & Poison                & 525                   & 80                    &  82                   &  83                   & 100                   & 100                   & 80                    & 1                     & False                \\\\\n",
       "\t 3                     & VenusaurMega Venusaur & Grass                 & Poison                & 625                   & 80                    & 100                   & 123                   & 122                   & 120                   & 80                    & 1                     & False                \\\\\n",
       "\t 4                     & Charmander            & Fire                  & NA                    & 309                   & 39                    &  52                   &  43                   &  60                   &  50                   & 65                    & 1                     & False                \\\\\n",
       "\t 5                     & Charmeleon            & Fire                  & NA                    & 405                   & 58                    &  64                   &  58                   &  80                   &  65                   & 80                    & 1                     & False                \\\\\n",
       "\\end{tabular}\n"
      ],
      "text/markdown": [
       "\n",
       "# | Name | Type 1 | Type 2 | Total | HP | Attack | Defense | Sp. Atk | Sp. Def | Speed | Generation | Legendary | \n",
       "|---|---|---|---|---|---|\n",
       "| 1                     | Bulbasaur             | Grass                 | Poison                | 318                   | 45                    |  49                   |  49                   |  65                   |  65                   | 45                    | 1                     | False                 | \n",
       "| 2                     | Ivysaur               | Grass                 | Poison                | 405                   | 60                    |  62                   |  63                   |  80                   |  80                   | 60                    | 1                     | False                 | \n",
       "| 3                     | Venusaur              | Grass                 | Poison                | 525                   | 80                    |  82                   |  83                   | 100                   | 100                   | 80                    | 1                     | False                 | \n",
       "| 3                     | VenusaurMega Venusaur | Grass                 | Poison                | 625                   | 80                    | 100                   | 123                   | 122                   | 120                   | 80                    | 1                     | False                 | \n",
       "| 4                     | Charmander            | Fire                  | NA                    | 309                   | 39                    |  52                   |  43                   |  60                   |  50                   | 65                    | 1                     | False                 | \n",
       "| 5                     | Charmeleon            | Fire                  | NA                    | 405                   | 58                    |  64                   |  58                   |  80                   |  65                   | 80                    | 1                     | False                 | \n",
       "\n",
       "\n"
      ],
      "text/plain": [
       "  # Name                  Type 1 Type 2 Total HP Attack Defense Sp. Atk Sp. Def\n",
       "1 1 Bulbasaur             Grass  Poison 318   45  49     49      65      65    \n",
       "2 2 Ivysaur               Grass  Poison 405   60  62     63      80      80    \n",
       "3 3 Venusaur              Grass  Poison 525   80  82     83     100     100    \n",
       "4 3 VenusaurMega Venusaur Grass  Poison 625   80 100    123     122     120    \n",
       "5 4 Charmander            Fire   NA     309   39  52     43      60      50    \n",
       "6 5 Charmeleon            Fire   NA     405   58  64     58      80      65    \n",
       "  Speed Generation Legendary\n",
       "1 45    1          False    \n",
       "2 60    1          False    \n",
       "3 80    1          False    \n",
       "4 80    1          False    \n",
       "5 65    1          False    \n",
       "6 80    1          False    "
      ]
     },
     "metadata": {},
     "output_type": "display_data"
    }
   ],
   "source": [
    "pokemon <- read_csv(\"https://raw.githubusercontent.com/UBC-DSCI/datasets/master/pokemon/Pokemon.csv\")\n",
    "head(pokemon)"
   ]
  },
  {
   "cell_type": "markdown",
   "metadata": {},
   "source": [
    "## Data Wrangling\n",
    "\n",
    "Looking at the data as it is, it needs to be wrangled and cleaned to get it to a format necessary for classification. This process will involve, renaming the column names, removing unnecessary columns, adding new columns, and scaling the data."
   ]
  },
  {
   "cell_type": "code",
   "execution_count": 10,
   "metadata": {},
   "outputs": [
    {
     "data": {
      "text/html": [
       "<ol class=list-inline>\n",
       "\t<li>'Number'</li>\n",
       "\t<li>'Name'</li>\n",
       "\t<li>'Type_1'</li>\n",
       "\t<li>'Type_2'</li>\n",
       "\t<li>'Total'</li>\n",
       "\t<li>'Hit_Points'</li>\n",
       "</ol>\n"
      ],
      "text/latex": [
       "\\begin{enumerate*}\n",
       "\\item 'Number'\n",
       "\\item 'Name'\n",
       "\\item 'Type\\_1'\n",
       "\\item 'Type\\_2'\n",
       "\\item 'Total'\n",
       "\\item 'Hit\\_Points'\n",
       "\\end{enumerate*}\n"
      ],
      "text/markdown": [
       "1. 'Number'\n",
       "2. 'Name'\n",
       "3. 'Type_1'\n",
       "4. 'Type_2'\n",
       "5. 'Total'\n",
       "6. 'Hit_Points'\n",
       "\n",
       "\n"
      ],
      "text/plain": [
       "[1] \"Number\"     \"Name\"       \"Type_1\"     \"Type_2\"     \"Total\"     \n",
       "[6] \"Hit_Points\""
      ]
     },
     "metadata": {},
     "output_type": "display_data"
    }
   ],
   "source": [
    "#renaming the column headings to remove spaces between Type 1 and Type 2 and make the rest more understandable.\n",
    "cleaning_data <- names(pokemon) <- c(\"Number\",\"Name\",\"Type_1\", \"Type_2\", \"Total\", \"Hit_Points\", \"Attack\", \"Defense\", \n",
    "                                     \"Special_Attack\",\"Special_Defense\", \"Speed\", \"Generation\", \"Legendary\")\n",
    "head(cleaning_data)"
   ]
  },
  {
   "cell_type": "code",
   "execution_count": 11,
   "metadata": {},
   "outputs": [
    {
     "data": {
      "text/html": [
       "<table>\n",
       "<thead><tr><th scope=col>Type_1</th><th scope=col>Type_2</th><th scope=col>Total</th><th scope=col>Hit_Points</th><th scope=col>Attack</th><th scope=col>Defense</th><th scope=col>Special_Attack</th><th scope=col>Special_Defense</th><th scope=col>Speed</th><th scope=col>Generation</th><th scope=col>Legendary</th></tr></thead>\n",
       "<tbody>\n",
       "\t<tr><td>Grass </td><td>Poison</td><td>318   </td><td>45    </td><td> 49   </td><td> 49   </td><td> 65   </td><td> 65   </td><td>45    </td><td>1     </td><td>False </td></tr>\n",
       "\t<tr><td>Grass </td><td>Poison</td><td>405   </td><td>60    </td><td> 62   </td><td> 63   </td><td> 80   </td><td> 80   </td><td>60    </td><td>1     </td><td>False </td></tr>\n",
       "\t<tr><td>Grass </td><td>Poison</td><td>525   </td><td>80    </td><td> 82   </td><td> 83   </td><td>100   </td><td>100   </td><td>80    </td><td>1     </td><td>False </td></tr>\n",
       "\t<tr><td>Grass </td><td>Poison</td><td>625   </td><td>80    </td><td>100   </td><td>123   </td><td>122   </td><td>120   </td><td>80    </td><td>1     </td><td>False </td></tr>\n",
       "\t<tr><td>Fire  </td><td>NA    </td><td>309   </td><td>39    </td><td> 52   </td><td> 43   </td><td> 60   </td><td> 50   </td><td>65    </td><td>1     </td><td>False </td></tr>\n",
       "\t<tr><td>Fire  </td><td>NA    </td><td>405   </td><td>58    </td><td> 64   </td><td> 58   </td><td> 80   </td><td> 65   </td><td>80    </td><td>1     </td><td>False </td></tr>\n",
       "</tbody>\n",
       "</table>\n"
      ],
      "text/latex": [
       "\\begin{tabular}{r|lllllllllll}\n",
       " Type\\_1 & Type\\_2 & Total & Hit\\_Points & Attack & Defense & Special\\_Attack & Special\\_Defense & Speed & Generation & Legendary\\\\\n",
       "\\hline\n",
       "\t Grass  & Poison & 318    & 45     &  49    &  49    &  65    &  65    & 45     & 1      & False \\\\\n",
       "\t Grass  & Poison & 405    & 60     &  62    &  63    &  80    &  80    & 60     & 1      & False \\\\\n",
       "\t Grass  & Poison & 525    & 80     &  82    &  83    & 100    & 100    & 80     & 1      & False \\\\\n",
       "\t Grass  & Poison & 625    & 80     & 100    & 123    & 122    & 120    & 80     & 1      & False \\\\\n",
       "\t Fire   & NA     & 309    & 39     &  52    &  43    &  60    &  50    & 65     & 1      & False \\\\\n",
       "\t Fire   & NA     & 405    & 58     &  64    &  58    &  80    &  65    & 80     & 1      & False \\\\\n",
       "\\end{tabular}\n"
      ],
      "text/markdown": [
       "\n",
       "Type_1 | Type_2 | Total | Hit_Points | Attack | Defense | Special_Attack | Special_Defense | Speed | Generation | Legendary | \n",
       "|---|---|---|---|---|---|\n",
       "| Grass  | Poison | 318    | 45     |  49    |  49    |  65    |  65    | 45     | 1      | False  | \n",
       "| Grass  | Poison | 405    | 60     |  62    |  63    |  80    |  80    | 60     | 1      | False  | \n",
       "| Grass  | Poison | 525    | 80     |  82    |  83    | 100    | 100    | 80     | 1      | False  | \n",
       "| Grass  | Poison | 625    | 80     | 100    | 123    | 122    | 120    | 80     | 1      | False  | \n",
       "| Fire   | NA     | 309    | 39     |  52    |  43    |  60    |  50    | 65     | 1      | False  | \n",
       "| Fire   | NA     | 405    | 58     |  64    |  58    |  80    |  65    | 80     | 1      | False  | \n",
       "\n",
       "\n"
      ],
      "text/plain": [
       "  Type_1 Type_2 Total Hit_Points Attack Defense Special_Attack Special_Defense\n",
       "1 Grass  Poison 318   45          49     49      65             65            \n",
       "2 Grass  Poison 405   60          62     63      80             80            \n",
       "3 Grass  Poison 525   80          82     83     100            100            \n",
       "4 Grass  Poison 625   80         100    123     122            120            \n",
       "5 Fire   NA     309   39          52     43      60             50            \n",
       "6 Fire   NA     405   58          64     58      80             65            \n",
       "  Speed Generation Legendary\n",
       "1 45    1          False    \n",
       "2 60    1          False    \n",
       "3 80    1          False    \n",
       "4 80    1          False    \n",
       "5 65    1          False    \n",
       "6 80    1          False    "
      ]
     },
     "metadata": {},
     "output_type": "display_data"
    }
   ],
   "source": [
    "# removing the unnecessary columns\n",
    "cleaned_pokemon <- pokemon %>% \n",
    "    select(-Number, -Name)\n",
    "head(cleaned_pokemon)"
   ]
  },
  {
   "cell_type": "markdown",
   "metadata": {},
   "source": [
    "Below we will be creating new columns namely the Type_summary column and the Gen_1, Gen_2... columns.\n",
    "The Type_summary column is required because it will be used to separate the data into pokemon with one or two types for further classification. The Generation column is split into six separate ones because,it is a categorical variable and would not have been evenly spaced."
   ]
  },
  {
   "cell_type": "code",
   "execution_count": 12,
   "metadata": {},
   "outputs": [
    {
     "data": {
      "text/html": [
       "<table>\n",
       "<thead><tr><th scope=col>Type_1</th><th scope=col>Type_2</th><th scope=col>Total</th><th scope=col>Hit_Points</th><th scope=col>Attack</th><th scope=col>Defense</th><th scope=col>Special_Attack</th><th scope=col>Special_Defense</th><th scope=col>Speed</th><th scope=col>Generation</th><th scope=col>Legendary</th><th scope=col>Type_sum</th><th scope=col>Gen_1</th><th scope=col>Gen_2</th><th scope=col>Gen_3</th><th scope=col>Gen_4</th><th scope=col>Gen_5</th><th scope=col>Gen_6</th><th scope=col>Type_summary</th></tr></thead>\n",
       "<tbody>\n",
       "\t<tr><td>Grass </td><td>Poison</td><td>318   </td><td>45    </td><td> 49   </td><td> 49   </td><td> 65   </td><td> 65   </td><td> 45   </td><td>1     </td><td>False </td><td>FALSE </td><td>1     </td><td>0     </td><td>0     </td><td>0     </td><td>0     </td><td>0     </td><td>Dual  </td></tr>\n",
       "\t<tr><td>Grass </td><td>Poison</td><td>405   </td><td>60    </td><td> 62   </td><td> 63   </td><td> 80   </td><td> 80   </td><td> 60   </td><td>1     </td><td>False </td><td>FALSE </td><td>1     </td><td>0     </td><td>0     </td><td>0     </td><td>0     </td><td>0     </td><td>Dual  </td></tr>\n",
       "\t<tr><td>Grass </td><td>Poison</td><td>525   </td><td>80    </td><td> 82   </td><td> 83   </td><td>100   </td><td>100   </td><td> 80   </td><td>1     </td><td>False </td><td>FALSE </td><td>1     </td><td>0     </td><td>0     </td><td>0     </td><td>0     </td><td>0     </td><td>Dual  </td></tr>\n",
       "\t<tr><td>Grass </td><td>Poison</td><td>625   </td><td>80    </td><td>100   </td><td>123   </td><td>122   </td><td>120   </td><td> 80   </td><td>1     </td><td>False </td><td>FALSE </td><td>1     </td><td>0     </td><td>0     </td><td>0     </td><td>0     </td><td>0     </td><td>Dual  </td></tr>\n",
       "\t<tr><td>Fire  </td><td>NA    </td><td>309   </td><td>39    </td><td> 52   </td><td> 43   </td><td> 60   </td><td> 50   </td><td> 65   </td><td>1     </td><td>False </td><td>   NA </td><td>1     </td><td>0     </td><td>0     </td><td>0     </td><td>0     </td><td>0     </td><td>Mono  </td></tr>\n",
       "\t<tr><td>Fire  </td><td>NA    </td><td>405   </td><td>58    </td><td> 64   </td><td> 58   </td><td> 80   </td><td> 65   </td><td> 80   </td><td>1     </td><td>False </td><td>   NA </td><td>1     </td><td>0     </td><td>0     </td><td>0     </td><td>0     </td><td>0     </td><td>Mono  </td></tr>\n",
       "\t<tr><td>Fire  </td><td>Flying</td><td>534   </td><td>78    </td><td> 84   </td><td> 78   </td><td>109   </td><td> 85   </td><td>100   </td><td>1     </td><td>False </td><td>FALSE </td><td>1     </td><td>0     </td><td>0     </td><td>0     </td><td>0     </td><td>0     </td><td>Dual  </td></tr>\n",
       "\t<tr><td>Fire  </td><td>Dragon</td><td>634   </td><td>78    </td><td>130   </td><td>111   </td><td>130   </td><td> 85   </td><td>100   </td><td>1     </td><td>False </td><td>FALSE </td><td>1     </td><td>0     </td><td>0     </td><td>0     </td><td>0     </td><td>0     </td><td>Dual  </td></tr>\n",
       "\t<tr><td>Fire  </td><td>Flying</td><td>634   </td><td>78    </td><td>104   </td><td> 78   </td><td>159   </td><td>115   </td><td>100   </td><td>1     </td><td>False </td><td>FALSE </td><td>1     </td><td>0     </td><td>0     </td><td>0     </td><td>0     </td><td>0     </td><td>Dual  </td></tr>\n",
       "\t<tr><td>Water </td><td>NA    </td><td>314   </td><td>44    </td><td> 48   </td><td> 65   </td><td> 50   </td><td> 64   </td><td> 43   </td><td>1     </td><td>False </td><td>   NA </td><td>1     </td><td>0     </td><td>0     </td><td>0     </td><td>0     </td><td>0     </td><td>Mono  </td></tr>\n",
       "</tbody>\n",
       "</table>\n"
      ],
      "text/latex": [
       "\\begin{tabular}{r|lllllllllllllllllll}\n",
       " Type\\_1 & Type\\_2 & Total & Hit\\_Points & Attack & Defense & Special\\_Attack & Special\\_Defense & Speed & Generation & Legendary & Type\\_sum & Gen\\_1 & Gen\\_2 & Gen\\_3 & Gen\\_4 & Gen\\_5 & Gen\\_6 & Type\\_summary\\\\\n",
       "\\hline\n",
       "\t Grass  & Poison & 318    & 45     &  49    &  49    &  65    &  65    &  45    & 1      & False  & FALSE  & 1      & 0      & 0      & 0      & 0      & 0      & Dual  \\\\\n",
       "\t Grass  & Poison & 405    & 60     &  62    &  63    &  80    &  80    &  60    & 1      & False  & FALSE  & 1      & 0      & 0      & 0      & 0      & 0      & Dual  \\\\\n",
       "\t Grass  & Poison & 525    & 80     &  82    &  83    & 100    & 100    &  80    & 1      & False  & FALSE  & 1      & 0      & 0      & 0      & 0      & 0      & Dual  \\\\\n",
       "\t Grass  & Poison & 625    & 80     & 100    & 123    & 122    & 120    &  80    & 1      & False  & FALSE  & 1      & 0      & 0      & 0      & 0      & 0      & Dual  \\\\\n",
       "\t Fire   & NA     & 309    & 39     &  52    &  43    &  60    &  50    &  65    & 1      & False  &    NA  & 1      & 0      & 0      & 0      & 0      & 0      & Mono  \\\\\n",
       "\t Fire   & NA     & 405    & 58     &  64    &  58    &  80    &  65    &  80    & 1      & False  &    NA  & 1      & 0      & 0      & 0      & 0      & 0      & Mono  \\\\\n",
       "\t Fire   & Flying & 534    & 78     &  84    &  78    & 109    &  85    & 100    & 1      & False  & FALSE  & 1      & 0      & 0      & 0      & 0      & 0      & Dual  \\\\\n",
       "\t Fire   & Dragon & 634    & 78     & 130    & 111    & 130    &  85    & 100    & 1      & False  & FALSE  & 1      & 0      & 0      & 0      & 0      & 0      & Dual  \\\\\n",
       "\t Fire   & Flying & 634    & 78     & 104    &  78    & 159    & 115    & 100    & 1      & False  & FALSE  & 1      & 0      & 0      & 0      & 0      & 0      & Dual  \\\\\n",
       "\t Water  & NA     & 314    & 44     &  48    &  65    &  50    &  64    &  43    & 1      & False  &    NA  & 1      & 0      & 0      & 0      & 0      & 0      & Mono  \\\\\n",
       "\\end{tabular}\n"
      ],
      "text/markdown": [
       "\n",
       "Type_1 | Type_2 | Total | Hit_Points | Attack | Defense | Special_Attack | Special_Defense | Speed | Generation | Legendary | Type_sum | Gen_1 | Gen_2 | Gen_3 | Gen_4 | Gen_5 | Gen_6 | Type_summary | \n",
       "|---|---|---|---|---|---|---|---|---|---|\n",
       "| Grass  | Poison | 318    | 45     |  49    |  49    |  65    |  65    |  45    | 1      | False  | FALSE  | 1      | 0      | 0      | 0      | 0      | 0      | Dual   | \n",
       "| Grass  | Poison | 405    | 60     |  62    |  63    |  80    |  80    |  60    | 1      | False  | FALSE  | 1      | 0      | 0      | 0      | 0      | 0      | Dual   | \n",
       "| Grass  | Poison | 525    | 80     |  82    |  83    | 100    | 100    |  80    | 1      | False  | FALSE  | 1      | 0      | 0      | 0      | 0      | 0      | Dual   | \n",
       "| Grass  | Poison | 625    | 80     | 100    | 123    | 122    | 120    |  80    | 1      | False  | FALSE  | 1      | 0      | 0      | 0      | 0      | 0      | Dual   | \n",
       "| Fire   | NA     | 309    | 39     |  52    |  43    |  60    |  50    |  65    | 1      | False  |    NA  | 1      | 0      | 0      | 0      | 0      | 0      | Mono   | \n",
       "| Fire   | NA     | 405    | 58     |  64    |  58    |  80    |  65    |  80    | 1      | False  |    NA  | 1      | 0      | 0      | 0      | 0      | 0      | Mono   | \n",
       "| Fire   | Flying | 534    | 78     |  84    |  78    | 109    |  85    | 100    | 1      | False  | FALSE  | 1      | 0      | 0      | 0      | 0      | 0      | Dual   | \n",
       "| Fire   | Dragon | 634    | 78     | 130    | 111    | 130    |  85    | 100    | 1      | False  | FALSE  | 1      | 0      | 0      | 0      | 0      | 0      | Dual   | \n",
       "| Fire   | Flying | 634    | 78     | 104    |  78    | 159    | 115    | 100    | 1      | False  | FALSE  | 1      | 0      | 0      | 0      | 0      | 0      | Dual   | \n",
       "| Water  | NA     | 314    | 44     |  48    |  65    |  50    |  64    |  43    | 1      | False  |    NA  | 1      | 0      | 0      | 0      | 0      | 0      | Mono   | \n",
       "\n",
       "\n"
      ],
      "text/plain": [
       "   Type_1 Type_2 Total Hit_Points Attack Defense Special_Attack Special_Defense\n",
       "1  Grass  Poison 318   45          49     49      65             65            \n",
       "2  Grass  Poison 405   60          62     63      80             80            \n",
       "3  Grass  Poison 525   80          82     83     100            100            \n",
       "4  Grass  Poison 625   80         100    123     122            120            \n",
       "5  Fire   NA     309   39          52     43      60             50            \n",
       "6  Fire   NA     405   58          64     58      80             65            \n",
       "7  Fire   Flying 534   78          84     78     109             85            \n",
       "8  Fire   Dragon 634   78         130    111     130             85            \n",
       "9  Fire   Flying 634   78         104     78     159            115            \n",
       "10 Water  NA     314   44          48     65      50             64            \n",
       "   Speed Generation Legendary Type_sum Gen_1 Gen_2 Gen_3 Gen_4 Gen_5 Gen_6\n",
       "1   45   1          False     FALSE    1     0     0     0     0     0    \n",
       "2   60   1          False     FALSE    1     0     0     0     0     0    \n",
       "3   80   1          False     FALSE    1     0     0     0     0     0    \n",
       "4   80   1          False     FALSE    1     0     0     0     0     0    \n",
       "5   65   1          False        NA    1     0     0     0     0     0    \n",
       "6   80   1          False        NA    1     0     0     0     0     0    \n",
       "7  100   1          False     FALSE    1     0     0     0     0     0    \n",
       "8  100   1          False     FALSE    1     0     0     0     0     0    \n",
       "9  100   1          False     FALSE    1     0     0     0     0     0    \n",
       "10  43   1          False        NA    1     0     0     0     0     0    \n",
       "   Type_summary\n",
       "1  Dual        \n",
       "2  Dual        \n",
       "3  Dual        \n",
       "4  Dual        \n",
       "5  Mono        \n",
       "6  Mono        \n",
       "7  Dual        \n",
       "8  Dual        \n",
       "9  Dual        \n",
       "10 Mono        "
      ]
     },
     "metadata": {},
     "output_type": "display_data"
    }
   ],
   "source": [
    "#creating new columns \n",
    "cleaned_pokemon2 <- cleaned_pokemon %>% \n",
    "    mutate(Type_sum =(Type_1 == Type_2),\n",
    "    Gen_1 = as.numeric(Generation == 1),\n",
    "    Gen_2 = as.numeric(Generation == 2),\n",
    "    Gen_3 = as.numeric(Generation == 3),\n",
    "    Gen_4 = as.numeric(Generation == 4),\n",
    "    Gen_5 = as.numeric(Generation == 5),\n",
    "    Gen_6 = as.numeric(Generation == 6),\n",
    "    Type_summary = if_else(is.na(`Type_2`), \"Mono\", \"Dual\"))\n",
    "                                        \n",
    "head(n = 10, cleaned_pokemon2)"
   ]
  },
  {
   "cell_type": "code",
   "execution_count": 13,
   "metadata": {},
   "outputs": [
    {
     "data": {
      "text/html": [
       "<table>\n",
       "<thead><tr><th scope=col>Type_1</th><th scope=col>Type_2</th><th scope=col>Legendary</th><th scope=col>Type_summary</th><th scope=col>scaled_Total</th><th scope=col>scaled_Hit_Points</th><th scope=col>scaled_Attack</th><th scope=col>scaled_Defense</th><th scope=col>scaled_Special_Attack</th><th scope=col>scaled_Special_Defense</th><th scope=col>scaled_Speed</th><th scope=col>scaled_Gen_1</th><th scope=col>scaled_Gen_2</th><th scope=col>scaled_Gen_3</th><th scope=col>scaled_Gen_4</th><th scope=col>scaled_Gen_5</th><th scope=col>scaled_Gen_6</th></tr></thead>\n",
       "<tbody>\n",
       "\t<tr><td>Grass    </td><td>Poison   </td><td>False    </td><td>Dual     </td><td>0.7041635</td><td>0.6092888</td><td>0.5734039</td><td>0.6109768</td><td>0.8137637</td><td>0.8426019</td><td>0.6061101</td><td>2.193913 </td><td>0        </td><td>0        </td><td>0        </td><td>0        </td><td>0        </td></tr>\n",
       "\t<tr><td>Grass    </td><td>Poison   </td><td>False    </td><td>Dual     </td><td>0.8968120</td><td>0.8123851</td><td>0.7255314</td><td>0.7855417</td><td>1.0015554</td><td>1.0370485</td><td>0.8081468</td><td>2.193913 </td><td>0        </td><td>0        </td><td>0        </td><td>0        </td><td>0        </td></tr>\n",
       "\t<tr><td>Grass    </td><td>Poison   </td><td>False    </td><td>Dual     </td><td>1.1625341</td><td>1.0831801</td><td>0.9595738</td><td>1.0349200</td><td>1.2519442</td><td>1.2963107</td><td>1.0775290</td><td>2.193913 </td><td>0        </td><td>0        </td><td>0        </td><td>0        </td><td>0        </td></tr>\n",
       "\t<tr><td>Grass    </td><td>Poison   </td><td>False    </td><td>Dual     </td><td>1.3839691</td><td>1.0831801</td><td>1.1702120</td><td>1.5336766</td><td>1.5273719</td><td>1.5555728</td><td>1.0775290</td><td>2.193913 </td><td>0        </td><td>0        </td><td>0        </td><td>0        </td><td>0        </td></tr>\n",
       "\t<tr><td>Fire     </td><td>NA       </td><td>False    </td><td>Mono     </td><td>0.6842343</td><td>0.5280503</td><td>0.6085102</td><td>0.5361634</td><td>0.7511665</td><td>0.6481553</td><td>0.8754923</td><td>2.193913 </td><td>0        </td><td>0        </td><td>0        </td><td>0        </td><td>0        </td></tr>\n",
       "\t<tr><td>Fire     </td><td>NA       </td><td>False    </td><td>Mono     </td><td>0.8968120</td><td>0.7853056</td><td>0.7489357</td><td>0.7231971</td><td>1.0015554</td><td>0.8426019</td><td>1.0775290</td><td>2.193913 </td><td>0        </td><td>0        </td><td>0        </td><td>0        </td><td>0        </td></tr>\n",
       "</tbody>\n",
       "</table>\n"
      ],
      "text/latex": [
       "\\begin{tabular}{r|lllllllllllllllll}\n",
       " Type\\_1 & Type\\_2 & Legendary & Type\\_summary & scaled\\_Total & scaled\\_Hit\\_Points & scaled\\_Attack & scaled\\_Defense & scaled\\_Special\\_Attack & scaled\\_Special\\_Defense & scaled\\_Speed & scaled\\_Gen\\_1 & scaled\\_Gen\\_2 & scaled\\_Gen\\_3 & scaled\\_Gen\\_4 & scaled\\_Gen\\_5 & scaled\\_Gen\\_6\\\\\n",
       "\\hline\n",
       "\t Grass     & Poison    & False     & Dual      & 0.7041635 & 0.6092888 & 0.5734039 & 0.6109768 & 0.8137637 & 0.8426019 & 0.6061101 & 2.193913  & 0         & 0         & 0         & 0         & 0        \\\\\n",
       "\t Grass     & Poison    & False     & Dual      & 0.8968120 & 0.8123851 & 0.7255314 & 0.7855417 & 1.0015554 & 1.0370485 & 0.8081468 & 2.193913  & 0         & 0         & 0         & 0         & 0        \\\\\n",
       "\t Grass     & Poison    & False     & Dual      & 1.1625341 & 1.0831801 & 0.9595738 & 1.0349200 & 1.2519442 & 1.2963107 & 1.0775290 & 2.193913  & 0         & 0         & 0         & 0         & 0        \\\\\n",
       "\t Grass     & Poison    & False     & Dual      & 1.3839691 & 1.0831801 & 1.1702120 & 1.5336766 & 1.5273719 & 1.5555728 & 1.0775290 & 2.193913  & 0         & 0         & 0         & 0         & 0        \\\\\n",
       "\t Fire      & NA        & False     & Mono      & 0.6842343 & 0.5280503 & 0.6085102 & 0.5361634 & 0.7511665 & 0.6481553 & 0.8754923 & 2.193913  & 0         & 0         & 0         & 0         & 0        \\\\\n",
       "\t Fire      & NA        & False     & Mono      & 0.8968120 & 0.7853056 & 0.7489357 & 0.7231971 & 1.0015554 & 0.8426019 & 1.0775290 & 2.193913  & 0         & 0         & 0         & 0         & 0        \\\\\n",
       "\\end{tabular}\n"
      ],
      "text/markdown": [
       "\n",
       "Type_1 | Type_2 | Legendary | Type_summary | scaled_Total | scaled_Hit_Points | scaled_Attack | scaled_Defense | scaled_Special_Attack | scaled_Special_Defense | scaled_Speed | scaled_Gen_1 | scaled_Gen_2 | scaled_Gen_3 | scaled_Gen_4 | scaled_Gen_5 | scaled_Gen_6 | \n",
       "|---|---|---|---|---|---|\n",
       "| Grass     | Poison    | False     | Dual      | 0.7041635 | 0.6092888 | 0.5734039 | 0.6109768 | 0.8137637 | 0.8426019 | 0.6061101 | 2.193913  | 0         | 0         | 0         | 0         | 0         | \n",
       "| Grass     | Poison    | False     | Dual      | 0.8968120 | 0.8123851 | 0.7255314 | 0.7855417 | 1.0015554 | 1.0370485 | 0.8081468 | 2.193913  | 0         | 0         | 0         | 0         | 0         | \n",
       "| Grass     | Poison    | False     | Dual      | 1.1625341 | 1.0831801 | 0.9595738 | 1.0349200 | 1.2519442 | 1.2963107 | 1.0775290 | 2.193913  | 0         | 0         | 0         | 0         | 0         | \n",
       "| Grass     | Poison    | False     | Dual      | 1.3839691 | 1.0831801 | 1.1702120 | 1.5336766 | 1.5273719 | 1.5555728 | 1.0775290 | 2.193913  | 0         | 0         | 0         | 0         | 0         | \n",
       "| Fire      | NA        | False     | Mono      | 0.6842343 | 0.5280503 | 0.6085102 | 0.5361634 | 0.7511665 | 0.6481553 | 0.8754923 | 2.193913  | 0         | 0         | 0         | 0         | 0         | \n",
       "| Fire      | NA        | False     | Mono      | 0.8968120 | 0.7853056 | 0.7489357 | 0.7231971 | 1.0015554 | 0.8426019 | 1.0775290 | 2.193913  | 0         | 0         | 0         | 0         | 0         | \n",
       "\n",
       "\n"
      ],
      "text/plain": [
       "  Type_1 Type_2 Legendary Type_summary scaled_Total scaled_Hit_Points\n",
       "1 Grass  Poison False     Dual         0.7041635    0.6092888        \n",
       "2 Grass  Poison False     Dual         0.8968120    0.8123851        \n",
       "3 Grass  Poison False     Dual         1.1625341    1.0831801        \n",
       "4 Grass  Poison False     Dual         1.3839691    1.0831801        \n",
       "5 Fire   NA     False     Mono         0.6842343    0.5280503        \n",
       "6 Fire   NA     False     Mono         0.8968120    0.7853056        \n",
       "  scaled_Attack scaled_Defense scaled_Special_Attack scaled_Special_Defense\n",
       "1 0.5734039     0.6109768      0.8137637             0.8426019             \n",
       "2 0.7255314     0.7855417      1.0015554             1.0370485             \n",
       "3 0.9595738     1.0349200      1.2519442             1.2963107             \n",
       "4 1.1702120     1.5336766      1.5273719             1.5555728             \n",
       "5 0.6085102     0.5361634      0.7511665             0.6481553             \n",
       "6 0.7489357     0.7231971      1.0015554             0.8426019             \n",
       "  scaled_Speed scaled_Gen_1 scaled_Gen_2 scaled_Gen_3 scaled_Gen_4 scaled_Gen_5\n",
       "1 0.6061101    2.193913     0            0            0            0           \n",
       "2 0.8081468    2.193913     0            0            0            0           \n",
       "3 1.0775290    2.193913     0            0            0            0           \n",
       "4 1.0775290    2.193913     0            0            0            0           \n",
       "5 0.8754923    2.193913     0            0            0            0           \n",
       "6 1.0775290    2.193913     0            0            0            0           \n",
       "  scaled_Gen_6\n",
       "1 0           \n",
       "2 0           \n",
       "3 0           \n",
       "4 0           \n",
       "5 0           \n",
       "6 0           "
      ]
     },
     "metadata": {},
     "output_type": "display_data"
    }
   ],
   "source": [
    "#scaling relevant column data to normalize the features because different magnitudes in the attributes would\n",
    "#bias the predictions. \n",
    "#Also removing unneccessary columns.\n",
    "scaled_pokemon <- cleaned_pokemon2 %>%\n",
    "    mutate(scaled_Total = scale(Total,center = FALSE), \n",
    "    scaled_Hit_Points = scale(Hit_Points, center = FALSE), \n",
    "    scaled_Attack = scale(Attack, center = FALSE),\n",
    "    scaled_Defense = scale(Defense, center = FALSE),\n",
    "    scaled_Special_Attack = scale(Special_Attack, center = FALSE),\n",
    "    scaled_Special_Defense = scale(Special_Defense, center = FALSE),\n",
    "    scaled_Speed = scale(Speed, center = FALSE),\n",
    "    scaled_Gen_1 = scale(Gen_1, center = FALSE),\n",
    "    scaled_Gen_2 = scale(Gen_2, center = FALSE),\n",
    "    scaled_Gen_3 = scale(Gen_3, center = FALSE),\n",
    "    scaled_Gen_4 = scale(Gen_4, center = FALSE),\n",
    "    scaled_Gen_5 = scale(Gen_5, center = FALSE),\n",
    "    scaled_Gen_6 = scale(Gen_6, center = FALSE)) %>%\n",
    "    select(-Type_sum, -Generation,-Total, -Hit_Points, -Attack, -Defense, -Special_Attack, \n",
    "           -Special_Defense, -Speed, -Gen_1, -Gen_2, -Gen_3, -Gen_4, -Gen_5, -Gen_6)\n",
    "head(scaled_pokemon)"
   ]
  },
  {
   "cell_type": "markdown",
   "metadata": {},
   "source": [
    "## Exploratory Data Visualisations\n",
    "\n",
    "(Include visualisations)"
   ]
  },
  {
   "cell_type": "markdown",
   "metadata": {},
   "source": [
    "## Models\n",
    "\n",
    "(write-up about what are the three models we are using, why we do so, and what we expect)"
   ]
  },
  {
   "cell_type": "code",
   "execution_count": null,
   "metadata": {},
   "outputs": [],
   "source": [
    "#knn using full data (model 1)\n",
    "set.seed(151)\n",
    "training_rows <- scaled_pokemon %>%\n",
    "    select(Legendary) %>%\n",
    "    unlist() %>%\n",
    "    createDataPartition(p=0.80, list=FALSE)\n",
    "\n",
    "scaled_pokemon <- scaled_pokemon %>%\n",
    "    mutate(Legendary=as.factor(Legendary))\n",
    "\n",
    "scaled_pokemon$Type_2[is.na(scaled_pokemon$Type_2)] <- 'Not_Dual'\n",
    "\n",
    "X_train <- scaled_pokemon %>% \n",
    "    select(scaled_Total, scaled_Hit_Points, scaled_Attack, scaled_Defense, scaled_Special_Attack, \n",
    "           scaled_Special_Defense, scaled_Speed, scaled_Gen_1, scaled_Gen_2, scaled_Gen_3,\n",
    "           scaled_Gen_4, scaled_Gen_5, scaled_Gen_6) %>% \n",
    "    slice(training_rows) %>% \n",
    "    data.frame()\n",
    "\n",
    "Y_train_legendary <- scaled_pokemon %>% \n",
    "    select(Legendary) %>% \n",
    "    slice(training_rows) %>% \n",
    "    unlist()\n",
    "\n",
    "Y_train_type1 <- scaled_pokemon %>% \n",
    "    select(Type_1) %>% \n",
    "    slice(training_rows) %>% \n",
    "    unlist()\n",
    "\n",
    "Y_train_type2 <- scaled_pokemon %>% \n",
    "    select(Type_2) %>% \n",
    "    slice(training_rows) %>% \n",
    "    unlist()\n",
    "\n",
    "X_test <- scaled_pokemon %>% \n",
    "    select(scaled_Total, scaled_Hit_Points, scaled_Attack, scaled_Defense, scaled_Special_Attack, \n",
    "           scaled_Special_Defense, scaled_Speed, scaled_Gen_1, scaled_Gen_2, scaled_Gen_3,\n",
    "           scaled_Gen_4, scaled_Gen_5, scaled_Gen_6) %>% \n",
    "    slice(-training_rows) %>% \n",
    "    data.frame()\n",
    "\n",
    "Y_test_legendary <- scaled_pokemon %>% \n",
    "    select(Legendary) %>% \n",
    "    slice(-training_rows) %>%\n",
    "    unlist()\n",
    "\n",
    "Y_test_type1 <- scaled_pokemon %>% \n",
    "    select(Type_1) %>% \n",
    "    slice(training_rows) %>% \n",
    "    unlist()\n",
    "\n",
    "Y_test_type2 <- scaled_pokemon %>% \n",
    "    select(Type_2) %>% \n",
    "    slice(training_rows) %>% \n",
    "    unlist()\n",
    "\n",
    "ks <- data.frame(k=c(1:11))\n",
    "train_control <- trainControl(method='cv', number=10)"
   ]
  },
  {
   "cell_type": "code",
   "execution_count": null,
   "metadata": {},
   "outputs": [],
   "source": [
    "set.seed(151)\n",
    "knn_cv_legendary <- train(x=X_train, y=Y_train_legendary, method='knn', tuneGrid=ks, trControl=train_control)\n",
    "knn_cv_legendary"
   ]
  },
  {
   "cell_type": "code",
   "execution_count": null,
   "metadata": {},
   "outputs": [],
   "source": [
    "set.seed(151)\n",
    "knn_cv_type1 <- train(x=X_train, y=Y_train_type1, method='knn', tuneGrid=ks, trControl=train_control)\n",
    "knn_cv_type1"
   ]
  },
  {
   "cell_type": "code",
   "execution_count": null,
   "metadata": {},
   "outputs": [],
   "source": [
    "set.seed(151)\n",
    "knn_cv_type2 <- train(x=X_train, y=Y_train_type2, method='knn', tuneGrid=ks, trControl=train_control)\n",
    "knn_cv_type2"
   ]
  },
  {
   "cell_type": "code",
   "execution_count": null,
   "metadata": {},
   "outputs": [],
   "source": [
    "#knn using mono types data only to predict legendary status (model 2)\n",
    "\n",
    "set.seed(1234)\n",
    "training_rows <- scaled_pokemon %>% \n",
    "mutate(Legendary = as.factor(Legendary)) %>%\n",
    "  select(Legendary) %>% \n",
    "  unlist() %>% \n",
    "  createDataPartition(p = 0.80, list = FALSE)\n",
    "\n",
    "training_set <- scaled_pokemon %>% filter(Type_summary == \"Mono\") %>% slice(training_rows)\n",
    "testing_set <- scaled_pokemon %>%  slice(-training_rows) %>% filter(Type_summary == \"Mono\")\n",
    "\n",
    "head(training_set)\n",
    "head(testing_set)"
   ]
  },
  {
   "cell_type": "code",
   "execution_count": null,
   "metadata": {},
   "outputs": [],
   "source": [
    "Y_status <- training_set %>% select(Legendary) %>% unlist()\n",
    "X_attributes <- training_set %>% select(scaled_Hit_Points, scaled_Attack, scaled_Defense, \n",
    "                                        scaled_Special_Attack, scaled_Special_Defense, \n",
    "                                        scaled_Speed, scaled_Gen_1, scaled_Gen_2, scaled_Gen_3, \n",
    "                                        scaled_Gen_4, scaled_Gen_5, scaled_Gen_6) %>% data.frame()\n",
    "\n",
    "k <- c(1,3,5,7,9,11)\n",
    "ks <- data.frame(k)\n",
    "\n",
    "train_control <- trainControl(method = \"cv\", number = 10)\n",
    "choose_k <- train(x = X_attributes, y = Y_status, method = 'knn', tuneGrid = ks, trControl = train_control)\n",
    "choose_k\n",
    "\n",
    "k_accuracies <- choose_k$results\n",
    "k_accuracies "
   ]
  },
  {
   "cell_type": "code",
   "execution_count": null,
   "metadata": {},
   "outputs": [],
   "source": [
    "\n",
    "Y_train <- training_set %>% select(Legendary) %>% unlist()\n",
    "X_train <- training_set %>% select(scaled_Hit_Points, scaled_Attack, scaled_Defense, \n",
    "                                        scaled_Special_Attack, scaled_Special_Defense, \n",
    "                                        scaled_Speed, scaled_Gen_1, scaled_Gen_2, scaled_Gen_3, \n",
    "                                        scaled_Gen_4, scaled_Gen_5, scaled_Gen_6) %>% data.frame()\n",
    "\n",
    "\n",
    "final_k = data.frame(k = 1)\n",
    "final_classifier_legendary <- train(x = X_train, y = Y_train, method = \"knn\", tuneGrid = final_k)\n",
    "final_classifier_legendary\n",
    "\n",
    "\n",
    "X_test <- testing_set %>% \n",
    "    select(scaled_Hit_Points, scaled_Attack, scaled_Defense, \n",
    "        scaled_Special_Attack, scaled_Special_Defense, \n",
    "        scaled_Speed, scaled_Gen_1, scaled_Gen_2, scaled_Gen_3, \n",
    "        scaled_Gen_4, scaled_Gen_5, scaled_Gen_6) %>% \n",
    "        data.frame()\n",
    "\n",
    "Y_test <- testing_set %>% \n",
    "    select(Legendary) %>% \n",
    "    unlist()\n",
    "test_pred <- predict(final_classifier_legendary, X_test) \n",
    "head(test_pred)\n"
   ]
  },
  {
   "cell_type": "code",
   "execution_count": null,
   "metadata": {},
   "outputs": [],
   "source": [
    "#knn using mono types data only to predict Type_1 (model 2)\n",
    "set.seed(5678)   \n",
    "training_rows2 <- scaled_pokemon %>% \n",
    "mutate(Type_1 = as.factor(Type_1)) %>%\n",
    "  select(Type_1) %>% \n",
    "  unlist() %>% \n",
    "  createDataPartition(p = 0.80, list = FALSE)\n",
    "\n",
    "Y_type1 <- training_set %>% select(Type_1) %>% unlist()\n",
    "\n",
    "k <- c(1,3,5,7,9,11)\n",
    "ks <- data.frame(k)\n",
    "\n",
    "\n",
    "train_control2 <- trainControl(method = \"cv\", number = 10)\n",
    "\n",
    "choose_k <- train(x = X_attributes, y = Y_type1, method = 'knn', tuneGrid = ks, trControl = train_control2)\n",
    "choose_k\n",
    "\n",
    "k_accuracies2 <- choose_k$results\n",
    "k_accuracies2 "
   ]
  },
  {
   "cell_type": "code",
   "execution_count": null,
   "metadata": {
    "scrolled": false
   },
   "outputs": [],
   "source": [
    "\n",
    "final_k = data.frame(k = 1)\n",
    "final_classifier_type1 <- train(x = X_attributes, y = Y_type1, method = \"knn\", tuneGrid = final_k)\n",
    "final_classifier_type1\n",
    "\n",
    "test_pred <- predict(final_classifier_type1, X_test) \n",
    "head(test_pred)\n"
   ]
  },
  {
   "cell_type": "code",
   "execution_count": null,
   "metadata": {},
   "outputs": [],
   "source": [
    "#knn using mono types data only to predict Type_2 (model 2)\n",
    "set.seed(1435)   \n",
    "training_rows3 <- scaled_pokemon %>% \n",
    "mutate(Type_2 = as.factor(Type_2)) %>%\n",
    "  select(Type_2) %>% \n",
    "  unlist() %>% \n",
    "  createDataPartition(p = 0.80, list = FALSE)\n",
    "\n",
    "Y_type2 <- training_set %>% select(Type_2) %>% unlist()\n",
    "\n",
    "k <- c(1,3,5,7,9,11)\n",
    "ks <- data.frame(k)\n",
    "\n",
    "\n",
    "train_control3 <- trainControl(method = \"cv\", number = 10)\n",
    "\n",
    "choose_k <- train(x = X_attributes, y = Y_type2, method = 'knn', tuneGrid = ks, trControl = train_control3)\n",
    "choose_k\n",
    "\n",
    "k_accuracies2 <- choose_k$results\n",
    "k_accuracies2 "
   ]
  },
  {
   "cell_type": "code",
   "execution_count": null,
   "metadata": {},
   "outputs": [],
   "source": [
    "final_k = data.frame(k = 1)\n",
    "final_classifier_type2 <- train(x = X_attributes, y = Y_type2, method = \"knn\", tuneGrid = final_k)\n",
    "final_classifier_type2\n",
    "\n",
    "test_pred <- predict(final_classifier_type2, X_test) \n",
    "head(test_pred)"
   ]
  },
  {
   "cell_type": "markdown",
   "metadata": {},
   "source": [
    "From the mono-models we see that training the model on mono type pokemon makes it very accurate in predicting legendary status of mono-type pokemon(95%) and distinguishing between a type1 and type2 pokemon with an accuracy of 100% when predicting type2. But it has a very low accuracy(19%) when predicting the types of the type1 pokemon which suggests that the predictor/ x variables are too similar amongst mono type pokemon to distinguish between them accurately."
   ]
  },
  {
   "cell_type": "code",
   "execution_count": null,
   "metadata": {},
   "outputs": [],
   "source": [
    "#knn using Dual type only predicting legendary status (model 2)\n",
    "set.seed(1234)\n",
    "training_rows_d <- scaled_pokemon %>% \n",
    "mutate(Legendary = as.factor(Legendary)) %>%\n",
    "  select(Legendary) %>% \n",
    "  unlist() %>% \n",
    "  createDataPartition(p = 0.80, list = FALSE)\n",
    "\n",
    "training_set_d <- scaled_pokemon %>% filter(Type_summary == \"Dual\") %>% slice(training_rows)\n",
    "testing_set_d <- scaled_pokemon %>%  slice(-training_rows) %>% filter(Type_summary == \"Dual\")\n",
    "\n",
    "head(training_set_d)\n",
    "head(testing_set_d)"
   ]
  },
  {
   "cell_type": "code",
   "execution_count": null,
   "metadata": {},
   "outputs": [],
   "source": [
    "Y_train_d <- training_set_d %>% select(Legendary) %>% unlist()\n",
    "X_train_d <- training_set_d %>% select(scaled_Hit_Points, scaled_Attack, scaled_Defense, \n",
    "                                        scaled_Special_Attack, scaled_Special_Defense, \n",
    "                                        scaled_Speed, scaled_Gen_1, scaled_Gen_2, scaled_Gen_3, \n",
    "                                        scaled_Gen_4, scaled_Gen_5, scaled_Gen_6) %>% data.frame()\n",
    "\n",
    "k <- c(1,3,5,7,9,11)\n",
    "ks <- data.frame(k)\n",
    "\n",
    "train_control <- trainControl(method = \"cv\", number = 10)\n",
    "choose_k_d <- train(x = X_train_d, y = Y_train_d, method = 'knn', tuneGrid = ks, trControl = train_control)\n",
    "choose_k_d\n",
    "\n",
    "k_accuracies_d <- choose_k_d$results\n",
    "k_accuracies_d"
   ]
  },
  {
   "cell_type": "code",
   "execution_count": null,
   "metadata": {},
   "outputs": [],
   "source": [
    "#test on k = 3\n",
    "Y_train_d2 <- training_set %>% select(Legendary) %>% unlist()\n",
    "X_train_d2 <- training_set %>% select(scaled_Hit_Points, scaled_Attack, scaled_Defense, \n",
    "                                        scaled_Special_Attack, scaled_Special_Defense, \n",
    "                                        scaled_Speed, scaled_Gen_1, scaled_Gen_2, scaled_Gen_3, \n",
    "                                        scaled_Gen_4, scaled_Gen_5, scaled_Gen_6) %>% data.frame()\n",
    "\n",
    "\n",
    "final_kd = data.frame(k = 3)\n",
    "final_classifier_legendary_d <- train(x = X_train_d2, y = Y_train_d2, method = \"knn\", tuneGrid = final_kd)\n",
    "final_classifier_legendary_d\n",
    "\n",
    "\n",
    "X_test_d2 <- testing_set_d %>% \n",
    "    select(scaled_Hit_Points, scaled_Attack, scaled_Defense, \n",
    "        scaled_Special_Attack, scaled_Special_Defense, \n",
    "        scaled_Speed, scaled_Gen_1, scaled_Gen_2, scaled_Gen_3, \n",
    "        scaled_Gen_4, scaled_Gen_5, scaled_Gen_6) %>% \n",
    "        data.frame()\n",
    "\n",
    "Y_test_d2 <- testing_set_d %>% \n",
    "    select(Legendary) %>% \n",
    "    unlist()\n",
    "test_pred_d <- predict(final_classifier_legendary_d, X_test_d2) \n",
    "head(test_pred_d)"
   ]
  },
  {
   "cell_type": "code",
   "execution_count": null,
   "metadata": {},
   "outputs": [],
   "source": [
    "#knn using dual types data only to predict Type_1 (model 2)\n",
    "set.seed(5678)   \n",
    "training_rows2_d <- scaled_pokemon %>% \n",
    "mutate(Type_1 = as.factor(Type_1)) %>%\n",
    "  select(Type_1) %>% \n",
    "  unlist() %>% \n",
    "  createDataPartition(p = 0.80, list = FALSE)\n",
    "\n",
    "Y_type1_d <- training_set_d %>% select(Type_1) %>% unlist()\n",
    "\n",
    "k <- c(1,3,5,7,9,11)\n",
    "kks <- data.frame(k)\n",
    "\n",
    "\n",
    "train_control2_d <- trainControl(method = \"cv\", number = 10)\n",
    "\n",
    "choose_k_d3 <- train(x = X_train_d, y = Y_type1_d, method = 'knn', tuneGrid = kks, trControl = train_control2_d)\n",
    "choose_k_d3\n",
    "\n",
    "k_accuracies2_d <- choose_k_d3$results\n",
    "k_accuracies2_d"
   ]
  },
  {
   "cell_type": "code",
   "execution_count": null,
   "metadata": {},
   "outputs": [],
   "source": [
    "final_k = data.frame(k = 1)\n",
    "final_classifier_type1_d <- train(x = X_train_d, y = Y_type1_d, method = \"knn\", tuneGrid = final_k)\n",
    "final_classifier_type1_d\n",
    "\n",
    "test_pred_d <- predict(final_classifier_type1_d, X_test_d2) \n",
    "head(test_pred_d)"
   ]
  },
  {
   "cell_type": "code",
   "execution_count": null,
   "metadata": {},
   "outputs": [],
   "source": [
    "#knn using Dual types data only to predict Type_2 (model 2)\n",
    "set.seed(1435)   \n",
    "training_rows3_d <- scaled_pokemon %>% \n",
    "mutate(Type_2 = as.factor(Type_2)) %>%\n",
    "  select(Type_2) %>% \n",
    "  unlist() %>% \n",
    "  createDataPartition(p = 0.80, list = FALSE)\n",
    "\n",
    "Y_type2_d <- training_set_d %>% select(Type_2) %>% unlist()\n",
    "\n",
    "k <- c(1,3,5,7,9,11)\n",
    "ks <- data.frame(k)\n",
    "\n",
    "\n",
    "train_control3_d <- trainControl(method = \"cv\", number = 10)\n",
    "\n",
    "choose_k_d <- train(x = X_train_d, y = Y_type2_d, method = 'knn', tuneGrid = ks, trControl = train_control3_d)\n",
    "choose_k_d\n",
    "\n",
    "k_accuracies2_d <- choose_k_d$results\n",
    "k_accuracies2_d"
   ]
  },
  {
   "cell_type": "code",
   "execution_count": null,
   "metadata": {},
   "outputs": [],
   "source": [
    "final_k_d = data.frame(k = 1)\n",
    "final_classifier_type2_d <- train(x = X_train_d, y = Y_type2_d, method = \"knn\", tuneGrid = final_k_d)\n",
    "final_classifier_type2_d\n",
    "\n",
    "test_pred_d <- predict(final_classifier_type2_d, X_test_d2) \n",
    "head(test_pred_d)"
   ]
  },
  {
   "cell_type": "code",
   "execution_count": null,
   "metadata": {},
   "outputs": [],
   "source": [
    "##CAN BE DELETED\n",
    "\n",
    "#trying to see if we can use a subset of the x-variables based on those that differentiate between \n",
    "#the mono and dual types best.(i.e those that have a significant difference in the means)\n",
    "#All in an effort to see if we could have increased the accuracy of the prediction models\n",
    "means <- scaled_pokemon %>% \n",
    "        group_by(Type_summary) %>%\n",
    "        summarise(average_Hit_Points = mean(scaled_Hit_Points, trim = 0,na.rm = TRUE),\n",
    "                average_attack = mean(scaled_Attack,trim = 0,na.rm = TRUE),\n",
    "                average_defense = mean(scaled_Defense,trim = 0,na.rm = TRUE),\n",
    "                average_SPattack = mean(scaled_Special_Attack,trim = 0,na.rm = TRUE),\n",
    "                average_SPdefense = mean(scaled_Special_Defense,trim = 0,na.rm = TRUE),\n",
    "                average_speed = mean(scaled_Speed,trim = 0,na.rm = TRUE),\n",
    "                average_Gen1 = mean(scaled_Gen_1,trim = 0,na.rm = TRUE),\n",
    "                average_Gen2 = mean(scaled_Gen_2,trim = 0,na.rm = TRUE),\n",
    "                average_Gen3 = mean(scaled_Gen_3,trim = 0,na.rm = TRUE),\n",
    "                average_Gen4 = mean(scaled_Gen_4,trim = 0,na.rm = TRUE),\n",
    "                average_Gen5 = mean(scaled_Gen_5,trim = 0,na.rm = TRUE),\n",
    "                average_Gen6 = mean(scaled_Gen_6,trim = 0,na.rm = TRUE))\n",
    "        \n",
    "means\n",
    "#Gen2 and Gen3 seem to have the smallest difference in means but removing them would make the models inaccurate because\n",
    "#we would still include the other generations data. To combat this we would have to remove all generation column data...\n",
    "#so lets try that."
   ]
  },
  {
   "cell_type": "markdown",
   "metadata": {},
   "source": [
    "## Discussion"
   ]
  },
  {
   "cell_type": "markdown",
   "metadata": {},
   "source": [
    "## Conclusion"
   ]
  }
 ],
 "metadata": {
  "kernelspec": {
   "display_name": "R",
   "language": "R",
   "name": "ir"
  },
  "language_info": {
   "codemirror_mode": "r",
   "file_extension": ".r",
   "mimetype": "text/x-r-source",
   "name": "R",
   "pygments_lexer": "r",
   "version": "3.4.1"
  }
 },
 "nbformat": 4,
 "nbformat_minor": 2
}
