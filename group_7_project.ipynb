{
 "cells": [
  {
   "cell_type": "code",
   "execution_count": 2,
   "metadata": {},
   "outputs": [
    {
     "name": "stderr",
     "output_type": "stream",
     "text": [
      "Loading tidyverse: ggplot2\n",
      "Loading tidyverse: tibble\n",
      "Loading tidyverse: tidyr\n",
      "Loading tidyverse: readr\n",
      "Loading tidyverse: purrr\n",
      "Loading tidyverse: dplyr\n",
      "Conflicts with tidy packages ---------------------------------------------------\n",
      "filter(): dplyr, stats\n",
      "lag():    dplyr, stats\n",
      "\n",
      "Attaching package: ‘testthat’\n",
      "\n",
      "The following object is masked from ‘package:dplyr’:\n",
      "\n",
      "    matches\n",
      "\n",
      "The following object is masked from ‘package:purrr’:\n",
      "\n",
      "    is_null\n",
      "\n",
      "Loading required package: lattice\n",
      "\n",
      "Attaching package: ‘caret’\n",
      "\n",
      "The following object is masked from ‘package:purrr’:\n",
      "\n",
      "    lift\n",
      "\n"
     ]
    }
   ],
   "source": [
    "library(tidyverse)\n",
    "library(testthat)\n",
    "library(digest)\n",
    "library(repr)\n",
    "library(caret)\n",
    "library(stringr)"
   ]
  },
  {
   "cell_type": "code",
   "execution_count": null,
   "metadata": {},
   "outputs": [],
   "source": []
  },
  {
   "cell_type": "markdown",
   "metadata": {},
   "source": [
    "## “Who’s that Pokémon?”: Predicting Pokémon Types and Legendary status from their Generation and various Attributes using k-nn classification. "
   ]
  },
  {
   "cell_type": "code",
   "execution_count": 3,
   "metadata": {
    "scrolled": false
   },
   "outputs": [
    {
     "name": "stderr",
     "output_type": "stream",
     "text": [
      "Parsed with column specification:\n",
      "cols(\n",
      "  `#` = col_integer(),\n",
      "  Name = col_character(),\n",
      "  `Type 1` = col_character(),\n",
      "  `Type 2` = col_character(),\n",
      "  Total = col_integer(),\n",
      "  HP = col_integer(),\n",
      "  Attack = col_integer(),\n",
      "  Defense = col_integer(),\n",
      "  `Sp. Atk` = col_integer(),\n",
      "  `Sp. Def` = col_integer(),\n",
      "  Speed = col_integer(),\n",
      "  Generation = col_integer(),\n",
      "  Legendary = col_character()\n",
      ")\n"
     ]
    },
    {
     "data": {
      "text/html": [
       "<table>\n",
       "<thead><tr><th scope=col>#</th><th scope=col>Name</th><th scope=col>Type 1</th><th scope=col>Type 2</th><th scope=col>Total</th><th scope=col>HP</th><th scope=col>Attack</th><th scope=col>Defense</th><th scope=col>Sp. Atk</th><th scope=col>Sp. Def</th><th scope=col>Speed</th><th scope=col>Generation</th><th scope=col>Legendary</th></tr></thead>\n",
       "<tbody>\n",
       "\t<tr><td>1                    </td><td>Bulbasaur            </td><td>Grass                </td><td>Poison               </td><td>318                  </td><td>45                   </td><td> 49                  </td><td> 49                  </td><td> 65                  </td><td> 65                  </td><td>45                   </td><td>1                    </td><td>False                </td></tr>\n",
       "\t<tr><td>2                    </td><td>Ivysaur              </td><td>Grass                </td><td>Poison               </td><td>405                  </td><td>60                   </td><td> 62                  </td><td> 63                  </td><td> 80                  </td><td> 80                  </td><td>60                   </td><td>1                    </td><td>False                </td></tr>\n",
       "\t<tr><td>3                    </td><td>Venusaur             </td><td>Grass                </td><td>Poison               </td><td>525                  </td><td>80                   </td><td> 82                  </td><td> 83                  </td><td>100                  </td><td>100                  </td><td>80                   </td><td>1                    </td><td>False                </td></tr>\n",
       "\t<tr><td>3                    </td><td>VenusaurMega Venusaur</td><td>Grass                </td><td>Poison               </td><td>625                  </td><td>80                   </td><td>100                  </td><td>123                  </td><td>122                  </td><td>120                  </td><td>80                   </td><td>1                    </td><td>False                </td></tr>\n",
       "\t<tr><td>4                    </td><td>Charmander           </td><td>Fire                 </td><td>NA                   </td><td>309                  </td><td>39                   </td><td> 52                  </td><td> 43                  </td><td> 60                  </td><td> 50                  </td><td>65                   </td><td>1                    </td><td>False                </td></tr>\n",
       "\t<tr><td>5                    </td><td>Charmeleon           </td><td>Fire                 </td><td>NA                   </td><td>405                  </td><td>58                   </td><td> 64                  </td><td> 58                  </td><td> 80                  </td><td> 65                  </td><td>80                   </td><td>1                    </td><td>False                </td></tr>\n",
       "</tbody>\n",
       "</table>\n"
      ],
      "text/latex": [
       "\\begin{tabular}{r|lllllllllllll}\n",
       " \\# & Name & Type 1 & Type 2 & Total & HP & Attack & Defense & Sp. Atk & Sp. Def & Speed & Generation & Legendary\\\\\n",
       "\\hline\n",
       "\t 1                     & Bulbasaur             & Grass                 & Poison                & 318                   & 45                    &  49                   &  49                   &  65                   &  65                   & 45                    & 1                     & False                \\\\\n",
       "\t 2                     & Ivysaur               & Grass                 & Poison                & 405                   & 60                    &  62                   &  63                   &  80                   &  80                   & 60                    & 1                     & False                \\\\\n",
       "\t 3                     & Venusaur              & Grass                 & Poison                & 525                   & 80                    &  82                   &  83                   & 100                   & 100                   & 80                    & 1                     & False                \\\\\n",
       "\t 3                     & VenusaurMega Venusaur & Grass                 & Poison                & 625                   & 80                    & 100                   & 123                   & 122                   & 120                   & 80                    & 1                     & False                \\\\\n",
       "\t 4                     & Charmander            & Fire                  & NA                    & 309                   & 39                    &  52                   &  43                   &  60                   &  50                   & 65                    & 1                     & False                \\\\\n",
       "\t 5                     & Charmeleon            & Fire                  & NA                    & 405                   & 58                    &  64                   &  58                   &  80                   &  65                   & 80                    & 1                     & False                \\\\\n",
       "\\end{tabular}\n"
      ],
      "text/markdown": [
       "\n",
       "# | Name | Type 1 | Type 2 | Total | HP | Attack | Defense | Sp. Atk | Sp. Def | Speed | Generation | Legendary | \n",
       "|---|---|---|---|---|---|\n",
       "| 1                     | Bulbasaur             | Grass                 | Poison                | 318                   | 45                    |  49                   |  49                   |  65                   |  65                   | 45                    | 1                     | False                 | \n",
       "| 2                     | Ivysaur               | Grass                 | Poison                | 405                   | 60                    |  62                   |  63                   |  80                   |  80                   | 60                    | 1                     | False                 | \n",
       "| 3                     | Venusaur              | Grass                 | Poison                | 525                   | 80                    |  82                   |  83                   | 100                   | 100                   | 80                    | 1                     | False                 | \n",
       "| 3                     | VenusaurMega Venusaur | Grass                 | Poison                | 625                   | 80                    | 100                   | 123                   | 122                   | 120                   | 80                    | 1                     | False                 | \n",
       "| 4                     | Charmander            | Fire                  | NA                    | 309                   | 39                    |  52                   |  43                   |  60                   |  50                   | 65                    | 1                     | False                 | \n",
       "| 5                     | Charmeleon            | Fire                  | NA                    | 405                   | 58                    |  64                   |  58                   |  80                   |  65                   | 80                    | 1                     | False                 | \n",
       "\n",
       "\n"
      ],
      "text/plain": [
       "  # Name                  Type 1 Type 2 Total HP Attack Defense Sp. Atk Sp. Def\n",
       "1 1 Bulbasaur             Grass  Poison 318   45  49     49      65      65    \n",
       "2 2 Ivysaur               Grass  Poison 405   60  62     63      80      80    \n",
       "3 3 Venusaur              Grass  Poison 525   80  82     83     100     100    \n",
       "4 3 VenusaurMega Venusaur Grass  Poison 625   80 100    123     122     120    \n",
       "5 4 Charmander            Fire   NA     309   39  52     43      60      50    \n",
       "6 5 Charmeleon            Fire   NA     405   58  64     58      80      65    \n",
       "  Speed Generation Legendary\n",
       "1 45    1          False    \n",
       "2 60    1          False    \n",
       "3 80    1          False    \n",
       "4 80    1          False    \n",
       "5 65    1          False    \n",
       "6 80    1          False    "
      ]
     },
     "metadata": {},
     "output_type": "display_data"
    }
   ],
   "source": [
    "pokemon <- read_csv(\"https://raw.githubusercontent.com/UBC-DSCI/datasets/master/pokemon/Pokemon.csv\")\n",
    "head(pokemon)"
   ]
  },
  {
   "cell_type": "markdown",
   "metadata": {},
   "source": [
    "Looking at the data as it is, it needs to be wrangled and cleaned to get it to a format necessary for classification. This process will involve, renaming the column names, removing unnecessary columns, adding new columns, and scaling the data."
   ]
  },
  {
   "cell_type": "code",
   "execution_count": 4,
   "metadata": {},
   "outputs": [
    {
     "data": {
      "text/html": [
       "<ol class=list-inline>\n",
       "\t<li>'Number'</li>\n",
       "\t<li>'Name'</li>\n",
       "\t<li>'Type_1'</li>\n",
       "\t<li>'Type_2'</li>\n",
       "\t<li>'Total'</li>\n",
       "\t<li>'Hit_Points'</li>\n",
       "\t<li>'Attack'</li>\n",
       "\t<li>'Defense'</li>\n",
       "\t<li>'Special_Attack'</li>\n",
       "\t<li>'Special_Defense'</li>\n",
       "\t<li>'Speed'</li>\n",
       "\t<li>'Generation'</li>\n",
       "\t<li>'Legendary'</li>\n",
       "</ol>\n"
      ],
      "text/latex": [
       "\\begin{enumerate*}\n",
       "\\item 'Number'\n",
       "\\item 'Name'\n",
       "\\item 'Type\\_1'\n",
       "\\item 'Type\\_2'\n",
       "\\item 'Total'\n",
       "\\item 'Hit\\_Points'\n",
       "\\item 'Attack'\n",
       "\\item 'Defense'\n",
       "\\item 'Special\\_Attack'\n",
       "\\item 'Special\\_Defense'\n",
       "\\item 'Speed'\n",
       "\\item 'Generation'\n",
       "\\item 'Legendary'\n",
       "\\end{enumerate*}\n"
      ],
      "text/markdown": [
       "1. 'Number'\n",
       "2. 'Name'\n",
       "3. 'Type_1'\n",
       "4. 'Type_2'\n",
       "5. 'Total'\n",
       "6. 'Hit_Points'\n",
       "7. 'Attack'\n",
       "8. 'Defense'\n",
       "9. 'Special_Attack'\n",
       "10. 'Special_Defense'\n",
       "11. 'Speed'\n",
       "12. 'Generation'\n",
       "13. 'Legendary'\n",
       "\n",
       "\n"
      ],
      "text/plain": [
       " [1] \"Number\"          \"Name\"            \"Type_1\"          \"Type_2\"         \n",
       " [5] \"Total\"           \"Hit_Points\"      \"Attack\"          \"Defense\"        \n",
       " [9] \"Special_Attack\"  \"Special_Defense\" \"Speed\"           \"Generation\"     \n",
       "[13] \"Legendary\"      "
      ]
     },
     "metadata": {},
     "output_type": "display_data"
    },
    {
     "data": {
      "text/html": [
       "<table>\n",
       "<thead><tr><th scope=col>Number</th><th scope=col>Name</th><th scope=col>Type_1</th><th scope=col>Type_2</th><th scope=col>Total</th><th scope=col>Hit_Points</th><th scope=col>Attack</th><th scope=col>Defense</th><th scope=col>Special_Attack</th><th scope=col>Special_Defense</th><th scope=col>Speed</th><th scope=col>Generation</th><th scope=col>Legendary</th></tr></thead>\n",
       "<tbody>\n",
       "\t<tr><td>1                    </td><td>Bulbasaur            </td><td>Grass                </td><td>Poison               </td><td>318                  </td><td>45                   </td><td> 49                  </td><td> 49                  </td><td> 65                  </td><td> 65                  </td><td>45                   </td><td>1                    </td><td>False                </td></tr>\n",
       "\t<tr><td>2                    </td><td>Ivysaur              </td><td>Grass                </td><td>Poison               </td><td>405                  </td><td>60                   </td><td> 62                  </td><td> 63                  </td><td> 80                  </td><td> 80                  </td><td>60                   </td><td>1                    </td><td>False                </td></tr>\n",
       "\t<tr><td>3                    </td><td>Venusaur             </td><td>Grass                </td><td>Poison               </td><td>525                  </td><td>80                   </td><td> 82                  </td><td> 83                  </td><td>100                  </td><td>100                  </td><td>80                   </td><td>1                    </td><td>False                </td></tr>\n",
       "\t<tr><td>3                    </td><td>VenusaurMega Venusaur</td><td>Grass                </td><td>Poison               </td><td>625                  </td><td>80                   </td><td>100                  </td><td>123                  </td><td>122                  </td><td>120                  </td><td>80                   </td><td>1                    </td><td>False                </td></tr>\n",
       "\t<tr><td>4                    </td><td>Charmander           </td><td>Fire                 </td><td>NA                   </td><td>309                  </td><td>39                   </td><td> 52                  </td><td> 43                  </td><td> 60                  </td><td> 50                  </td><td>65                   </td><td>1                    </td><td>False                </td></tr>\n",
       "\t<tr><td>5                    </td><td>Charmeleon           </td><td>Fire                 </td><td>NA                   </td><td>405                  </td><td>58                   </td><td> 64                  </td><td> 58                  </td><td> 80                  </td><td> 65                  </td><td>80                   </td><td>1                    </td><td>False                </td></tr>\n",
       "</tbody>\n",
       "</table>\n"
      ],
      "text/latex": [
       "\\begin{tabular}{r|lllllllllllll}\n",
       " Number & Name & Type\\_1 & Type\\_2 & Total & Hit\\_Points & Attack & Defense & Special\\_Attack & Special\\_Defense & Speed & Generation & Legendary\\\\\n",
       "\\hline\n",
       "\t 1                     & Bulbasaur             & Grass                 & Poison                & 318                   & 45                    &  49                   &  49                   &  65                   &  65                   & 45                    & 1                     & False                \\\\\n",
       "\t 2                     & Ivysaur               & Grass                 & Poison                & 405                   & 60                    &  62                   &  63                   &  80                   &  80                   & 60                    & 1                     & False                \\\\\n",
       "\t 3                     & Venusaur              & Grass                 & Poison                & 525                   & 80                    &  82                   &  83                   & 100                   & 100                   & 80                    & 1                     & False                \\\\\n",
       "\t 3                     & VenusaurMega Venusaur & Grass                 & Poison                & 625                   & 80                    & 100                   & 123                   & 122                   & 120                   & 80                    & 1                     & False                \\\\\n",
       "\t 4                     & Charmander            & Fire                  & NA                    & 309                   & 39                    &  52                   &  43                   &  60                   &  50                   & 65                    & 1                     & False                \\\\\n",
       "\t 5                     & Charmeleon            & Fire                  & NA                    & 405                   & 58                    &  64                   &  58                   &  80                   &  65                   & 80                    & 1                     & False                \\\\\n",
       "\\end{tabular}\n"
      ],
      "text/markdown": [
       "\n",
       "Number | Name | Type_1 | Type_2 | Total | Hit_Points | Attack | Defense | Special_Attack | Special_Defense | Speed | Generation | Legendary | \n",
       "|---|---|---|---|---|---|\n",
       "| 1                     | Bulbasaur             | Grass                 | Poison                | 318                   | 45                    |  49                   |  49                   |  65                   |  65                   | 45                    | 1                     | False                 | \n",
       "| 2                     | Ivysaur               | Grass                 | Poison                | 405                   | 60                    |  62                   |  63                   |  80                   |  80                   | 60                    | 1                     | False                 | \n",
       "| 3                     | Venusaur              | Grass                 | Poison                | 525                   | 80                    |  82                   |  83                   | 100                   | 100                   | 80                    | 1                     | False                 | \n",
       "| 3                     | VenusaurMega Venusaur | Grass                 | Poison                | 625                   | 80                    | 100                   | 123                   | 122                   | 120                   | 80                    | 1                     | False                 | \n",
       "| 4                     | Charmander            | Fire                  | NA                    | 309                   | 39                    |  52                   |  43                   |  60                   |  50                   | 65                    | 1                     | False                 | \n",
       "| 5                     | Charmeleon            | Fire                  | NA                    | 405                   | 58                    |  64                   |  58                   |  80                   |  65                   | 80                    | 1                     | False                 | \n",
       "\n",
       "\n"
      ],
      "text/plain": [
       "  Number Name                  Type_1 Type_2 Total Hit_Points Attack Defense\n",
       "1 1      Bulbasaur             Grass  Poison 318   45          49     49    \n",
       "2 2      Ivysaur               Grass  Poison 405   60          62     63    \n",
       "3 3      Venusaur              Grass  Poison 525   80          82     83    \n",
       "4 3      VenusaurMega Venusaur Grass  Poison 625   80         100    123    \n",
       "5 4      Charmander            Fire   NA     309   39          52     43    \n",
       "6 5      Charmeleon            Fire   NA     405   58          64     58    \n",
       "  Special_Attack Special_Defense Speed Generation Legendary\n",
       "1  65             65             45    1          False    \n",
       "2  80             80             60    1          False    \n",
       "3 100            100             80    1          False    \n",
       "4 122            120             80    1          False    \n",
       "5  60             50             65    1          False    \n",
       "6  80             65             80    1          False    "
      ]
     },
     "metadata": {},
     "output_type": "display_data"
    }
   ],
   "source": [
    "#renaming the column headings to remove spaces between Type 1 and Type 2 and make the rest more understandable.\n",
    "cleaning_data <- names(pokemon) <- c(\"Number\",\"Name\",\"Type_1\", \"Type_2\", \"Total\", \"Hit_Points\", \"Attack\", \"Defense\", \n",
    "                                     \"Special_Attack\",\"Special_Defense\", \"Speed\", \"Generation\", \"Legendary\")\n",
    "cleaning_data\n",
    "head(pokemon)"
   ]
  },
  {
   "cell_type": "code",
   "execution_count": 5,
   "metadata": {},
   "outputs": [
    {
     "data": {
      "text/html": [
       "<table>\n",
       "<thead><tr><th scope=col>Type_1</th><th scope=col>Type_2</th><th scope=col>Total</th><th scope=col>Hit_Points</th><th scope=col>Attack</th><th scope=col>Defense</th><th scope=col>Special_Attack</th><th scope=col>Special_Defense</th><th scope=col>Speed</th><th scope=col>Generation</th><th scope=col>Legendary</th></tr></thead>\n",
       "<tbody>\n",
       "\t<tr><td>Grass </td><td>Poison</td><td>318   </td><td>45    </td><td> 49   </td><td> 49   </td><td> 65   </td><td> 65   </td><td>45    </td><td>1     </td><td>False </td></tr>\n",
       "\t<tr><td>Grass </td><td>Poison</td><td>405   </td><td>60    </td><td> 62   </td><td> 63   </td><td> 80   </td><td> 80   </td><td>60    </td><td>1     </td><td>False </td></tr>\n",
       "\t<tr><td>Grass </td><td>Poison</td><td>525   </td><td>80    </td><td> 82   </td><td> 83   </td><td>100   </td><td>100   </td><td>80    </td><td>1     </td><td>False </td></tr>\n",
       "\t<tr><td>Grass </td><td>Poison</td><td>625   </td><td>80    </td><td>100   </td><td>123   </td><td>122   </td><td>120   </td><td>80    </td><td>1     </td><td>False </td></tr>\n",
       "\t<tr><td>Fire  </td><td>NA    </td><td>309   </td><td>39    </td><td> 52   </td><td> 43   </td><td> 60   </td><td> 50   </td><td>65    </td><td>1     </td><td>False </td></tr>\n",
       "\t<tr><td>Fire  </td><td>NA    </td><td>405   </td><td>58    </td><td> 64   </td><td> 58   </td><td> 80   </td><td> 65   </td><td>80    </td><td>1     </td><td>False </td></tr>\n",
       "</tbody>\n",
       "</table>\n"
      ],
      "text/latex": [
       "\\begin{tabular}{r|lllllllllll}\n",
       " Type\\_1 & Type\\_2 & Total & Hit\\_Points & Attack & Defense & Special\\_Attack & Special\\_Defense & Speed & Generation & Legendary\\\\\n",
       "\\hline\n",
       "\t Grass  & Poison & 318    & 45     &  49    &  49    &  65    &  65    & 45     & 1      & False \\\\\n",
       "\t Grass  & Poison & 405    & 60     &  62    &  63    &  80    &  80    & 60     & 1      & False \\\\\n",
       "\t Grass  & Poison & 525    & 80     &  82    &  83    & 100    & 100    & 80     & 1      & False \\\\\n",
       "\t Grass  & Poison & 625    & 80     & 100    & 123    & 122    & 120    & 80     & 1      & False \\\\\n",
       "\t Fire   & NA     & 309    & 39     &  52    &  43    &  60    &  50    & 65     & 1      & False \\\\\n",
       "\t Fire   & NA     & 405    & 58     &  64    &  58    &  80    &  65    & 80     & 1      & False \\\\\n",
       "\\end{tabular}\n"
      ],
      "text/markdown": [
       "\n",
       "Type_1 | Type_2 | Total | Hit_Points | Attack | Defense | Special_Attack | Special_Defense | Speed | Generation | Legendary | \n",
       "|---|---|---|---|---|---|\n",
       "| Grass  | Poison | 318    | 45     |  49    |  49    |  65    |  65    | 45     | 1      | False  | \n",
       "| Grass  | Poison | 405    | 60     |  62    |  63    |  80    |  80    | 60     | 1      | False  | \n",
       "| Grass  | Poison | 525    | 80     |  82    |  83    | 100    | 100    | 80     | 1      | False  | \n",
       "| Grass  | Poison | 625    | 80     | 100    | 123    | 122    | 120    | 80     | 1      | False  | \n",
       "| Fire   | NA     | 309    | 39     |  52    |  43    |  60    |  50    | 65     | 1      | False  | \n",
       "| Fire   | NA     | 405    | 58     |  64    |  58    |  80    |  65    | 80     | 1      | False  | \n",
       "\n",
       "\n"
      ],
      "text/plain": [
       "  Type_1 Type_2 Total Hit_Points Attack Defense Special_Attack Special_Defense\n",
       "1 Grass  Poison 318   45          49     49      65             65            \n",
       "2 Grass  Poison 405   60          62     63      80             80            \n",
       "3 Grass  Poison 525   80          82     83     100            100            \n",
       "4 Grass  Poison 625   80         100    123     122            120            \n",
       "5 Fire   NA     309   39          52     43      60             50            \n",
       "6 Fire   NA     405   58          64     58      80             65            \n",
       "  Speed Generation Legendary\n",
       "1 45    1          False    \n",
       "2 60    1          False    \n",
       "3 80    1          False    \n",
       "4 80    1          False    \n",
       "5 65    1          False    \n",
       "6 80    1          False    "
      ]
     },
     "metadata": {},
     "output_type": "display_data"
    }
   ],
   "source": [
    "# removing the unnecessary columns\n",
    "cleaned_pokemon <- pokemon %>% \n",
    "                    select(-Number, -Name)\n",
    "head(cleaned_pokemon)"
   ]
  },
  {
   "cell_type": "markdown",
   "metadata": {},
   "source": [
    "Below we will be creating new columns namely the Type_summary column and the Gen_1, Gen_2... columns.\n",
    "The Type_summary column is required because it will be used to separate the data into pokemon with one or two types for further classification. The Generation column is split into six separate ones because,it is a categorical variable and would not have been evenly spaced."
   ]
  },
  {
   "cell_type": "code",
   "execution_count": 6,
   "metadata": {},
   "outputs": [
    {
     "data": {
      "text/html": [
       "<table>\n",
       "<thead><tr><th scope=col>Type_1</th><th scope=col>Type_2</th><th scope=col>Total</th><th scope=col>Hit_Points</th><th scope=col>Attack</th><th scope=col>Defense</th><th scope=col>Special_Attack</th><th scope=col>Special_Defense</th><th scope=col>Speed</th><th scope=col>Generation</th><th scope=col>Legendary</th><th scope=col>Type_sum</th><th scope=col>Gen_1</th><th scope=col>Gen_2</th><th scope=col>Gen_3</th><th scope=col>Gen_4</th><th scope=col>Gen_5</th><th scope=col>Gen_6</th><th scope=col>Type_summary</th></tr></thead>\n",
       "<tbody>\n",
       "\t<tr><td>Grass </td><td>Poison</td><td>318   </td><td>45    </td><td> 49   </td><td> 49   </td><td> 65   </td><td> 65   </td><td> 45   </td><td>1     </td><td>False </td><td>FALSE </td><td>1     </td><td>0     </td><td>0     </td><td>0     </td><td>0     </td><td>0     </td><td>Dual  </td></tr>\n",
       "\t<tr><td>Grass </td><td>Poison</td><td>405   </td><td>60    </td><td> 62   </td><td> 63   </td><td> 80   </td><td> 80   </td><td> 60   </td><td>1     </td><td>False </td><td>FALSE </td><td>1     </td><td>0     </td><td>0     </td><td>0     </td><td>0     </td><td>0     </td><td>Dual  </td></tr>\n",
       "\t<tr><td>Grass </td><td>Poison</td><td>525   </td><td>80    </td><td> 82   </td><td> 83   </td><td>100   </td><td>100   </td><td> 80   </td><td>1     </td><td>False </td><td>FALSE </td><td>1     </td><td>0     </td><td>0     </td><td>0     </td><td>0     </td><td>0     </td><td>Dual  </td></tr>\n",
       "\t<tr><td>Grass </td><td>Poison</td><td>625   </td><td>80    </td><td>100   </td><td>123   </td><td>122   </td><td>120   </td><td> 80   </td><td>1     </td><td>False </td><td>FALSE </td><td>1     </td><td>0     </td><td>0     </td><td>0     </td><td>0     </td><td>0     </td><td>Dual  </td></tr>\n",
       "\t<tr><td>Fire  </td><td>NA    </td><td>309   </td><td>39    </td><td> 52   </td><td> 43   </td><td> 60   </td><td> 50   </td><td> 65   </td><td>1     </td><td>False </td><td>   NA </td><td>1     </td><td>0     </td><td>0     </td><td>0     </td><td>0     </td><td>0     </td><td>Mono  </td></tr>\n",
       "\t<tr><td>Fire  </td><td>NA    </td><td>405   </td><td>58    </td><td> 64   </td><td> 58   </td><td> 80   </td><td> 65   </td><td> 80   </td><td>1     </td><td>False </td><td>   NA </td><td>1     </td><td>0     </td><td>0     </td><td>0     </td><td>0     </td><td>0     </td><td>Mono  </td></tr>\n",
       "\t<tr><td>Fire  </td><td>Flying</td><td>534   </td><td>78    </td><td> 84   </td><td> 78   </td><td>109   </td><td> 85   </td><td>100   </td><td>1     </td><td>False </td><td>FALSE </td><td>1     </td><td>0     </td><td>0     </td><td>0     </td><td>0     </td><td>0     </td><td>Dual  </td></tr>\n",
       "\t<tr><td>Fire  </td><td>Dragon</td><td>634   </td><td>78    </td><td>130   </td><td>111   </td><td>130   </td><td> 85   </td><td>100   </td><td>1     </td><td>False </td><td>FALSE </td><td>1     </td><td>0     </td><td>0     </td><td>0     </td><td>0     </td><td>0     </td><td>Dual  </td></tr>\n",
       "\t<tr><td>Fire  </td><td>Flying</td><td>634   </td><td>78    </td><td>104   </td><td> 78   </td><td>159   </td><td>115   </td><td>100   </td><td>1     </td><td>False </td><td>FALSE </td><td>1     </td><td>0     </td><td>0     </td><td>0     </td><td>0     </td><td>0     </td><td>Dual  </td></tr>\n",
       "\t<tr><td>Water </td><td>NA    </td><td>314   </td><td>44    </td><td> 48   </td><td> 65   </td><td> 50   </td><td> 64   </td><td> 43   </td><td>1     </td><td>False </td><td>   NA </td><td>1     </td><td>0     </td><td>0     </td><td>0     </td><td>0     </td><td>0     </td><td>Mono  </td></tr>\n",
       "</tbody>\n",
       "</table>\n"
      ],
      "text/latex": [
       "\\begin{tabular}{r|lllllllllllllllllll}\n",
       " Type\\_1 & Type\\_2 & Total & Hit\\_Points & Attack & Defense & Special\\_Attack & Special\\_Defense & Speed & Generation & Legendary & Type\\_sum & Gen\\_1 & Gen\\_2 & Gen\\_3 & Gen\\_4 & Gen\\_5 & Gen\\_6 & Type\\_summary\\\\\n",
       "\\hline\n",
       "\t Grass  & Poison & 318    & 45     &  49    &  49    &  65    &  65    &  45    & 1      & False  & FALSE  & 1      & 0      & 0      & 0      & 0      & 0      & Dual  \\\\\n",
       "\t Grass  & Poison & 405    & 60     &  62    &  63    &  80    &  80    &  60    & 1      & False  & FALSE  & 1      & 0      & 0      & 0      & 0      & 0      & Dual  \\\\\n",
       "\t Grass  & Poison & 525    & 80     &  82    &  83    & 100    & 100    &  80    & 1      & False  & FALSE  & 1      & 0      & 0      & 0      & 0      & 0      & Dual  \\\\\n",
       "\t Grass  & Poison & 625    & 80     & 100    & 123    & 122    & 120    &  80    & 1      & False  & FALSE  & 1      & 0      & 0      & 0      & 0      & 0      & Dual  \\\\\n",
       "\t Fire   & NA     & 309    & 39     &  52    &  43    &  60    &  50    &  65    & 1      & False  &    NA  & 1      & 0      & 0      & 0      & 0      & 0      & Mono  \\\\\n",
       "\t Fire   & NA     & 405    & 58     &  64    &  58    &  80    &  65    &  80    & 1      & False  &    NA  & 1      & 0      & 0      & 0      & 0      & 0      & Mono  \\\\\n",
       "\t Fire   & Flying & 534    & 78     &  84    &  78    & 109    &  85    & 100    & 1      & False  & FALSE  & 1      & 0      & 0      & 0      & 0      & 0      & Dual  \\\\\n",
       "\t Fire   & Dragon & 634    & 78     & 130    & 111    & 130    &  85    & 100    & 1      & False  & FALSE  & 1      & 0      & 0      & 0      & 0      & 0      & Dual  \\\\\n",
       "\t Fire   & Flying & 634    & 78     & 104    &  78    & 159    & 115    & 100    & 1      & False  & FALSE  & 1      & 0      & 0      & 0      & 0      & 0      & Dual  \\\\\n",
       "\t Water  & NA     & 314    & 44     &  48    &  65    &  50    &  64    &  43    & 1      & False  &    NA  & 1      & 0      & 0      & 0      & 0      & 0      & Mono  \\\\\n",
       "\\end{tabular}\n"
      ],
      "text/markdown": [
       "\n",
       "Type_1 | Type_2 | Total | Hit_Points | Attack | Defense | Special_Attack | Special_Defense | Speed | Generation | Legendary | Type_sum | Gen_1 | Gen_2 | Gen_3 | Gen_4 | Gen_5 | Gen_6 | Type_summary | \n",
       "|---|---|---|---|---|---|---|---|---|---|\n",
       "| Grass  | Poison | 318    | 45     |  49    |  49    |  65    |  65    |  45    | 1      | False  | FALSE  | 1      | 0      | 0      | 0      | 0      | 0      | Dual   | \n",
       "| Grass  | Poison | 405    | 60     |  62    |  63    |  80    |  80    |  60    | 1      | False  | FALSE  | 1      | 0      | 0      | 0      | 0      | 0      | Dual   | \n",
       "| Grass  | Poison | 525    | 80     |  82    |  83    | 100    | 100    |  80    | 1      | False  | FALSE  | 1      | 0      | 0      | 0      | 0      | 0      | Dual   | \n",
       "| Grass  | Poison | 625    | 80     | 100    | 123    | 122    | 120    |  80    | 1      | False  | FALSE  | 1      | 0      | 0      | 0      | 0      | 0      | Dual   | \n",
       "| Fire   | NA     | 309    | 39     |  52    |  43    |  60    |  50    |  65    | 1      | False  |    NA  | 1      | 0      | 0      | 0      | 0      | 0      | Mono   | \n",
       "| Fire   | NA     | 405    | 58     |  64    |  58    |  80    |  65    |  80    | 1      | False  |    NA  | 1      | 0      | 0      | 0      | 0      | 0      | Mono   | \n",
       "| Fire   | Flying | 534    | 78     |  84    |  78    | 109    |  85    | 100    | 1      | False  | FALSE  | 1      | 0      | 0      | 0      | 0      | 0      | Dual   | \n",
       "| Fire   | Dragon | 634    | 78     | 130    | 111    | 130    |  85    | 100    | 1      | False  | FALSE  | 1      | 0      | 0      | 0      | 0      | 0      | Dual   | \n",
       "| Fire   | Flying | 634    | 78     | 104    |  78    | 159    | 115    | 100    | 1      | False  | FALSE  | 1      | 0      | 0      | 0      | 0      | 0      | Dual   | \n",
       "| Water  | NA     | 314    | 44     |  48    |  65    |  50    |  64    |  43    | 1      | False  |    NA  | 1      | 0      | 0      | 0      | 0      | 0      | Mono   | \n",
       "\n",
       "\n"
      ],
      "text/plain": [
       "   Type_1 Type_2 Total Hit_Points Attack Defense Special_Attack Special_Defense\n",
       "1  Grass  Poison 318   45          49     49      65             65            \n",
       "2  Grass  Poison 405   60          62     63      80             80            \n",
       "3  Grass  Poison 525   80          82     83     100            100            \n",
       "4  Grass  Poison 625   80         100    123     122            120            \n",
       "5  Fire   NA     309   39          52     43      60             50            \n",
       "6  Fire   NA     405   58          64     58      80             65            \n",
       "7  Fire   Flying 534   78          84     78     109             85            \n",
       "8  Fire   Dragon 634   78         130    111     130             85            \n",
       "9  Fire   Flying 634   78         104     78     159            115            \n",
       "10 Water  NA     314   44          48     65      50             64            \n",
       "   Speed Generation Legendary Type_sum Gen_1 Gen_2 Gen_3 Gen_4 Gen_5 Gen_6\n",
       "1   45   1          False     FALSE    1     0     0     0     0     0    \n",
       "2   60   1          False     FALSE    1     0     0     0     0     0    \n",
       "3   80   1          False     FALSE    1     0     0     0     0     0    \n",
       "4   80   1          False     FALSE    1     0     0     0     0     0    \n",
       "5   65   1          False        NA    1     0     0     0     0     0    \n",
       "6   80   1          False        NA    1     0     0     0     0     0    \n",
       "7  100   1          False     FALSE    1     0     0     0     0     0    \n",
       "8  100   1          False     FALSE    1     0     0     0     0     0    \n",
       "9  100   1          False     FALSE    1     0     0     0     0     0    \n",
       "10  43   1          False        NA    1     0     0     0     0     0    \n",
       "   Type_summary\n",
       "1  Dual        \n",
       "2  Dual        \n",
       "3  Dual        \n",
       "4  Dual        \n",
       "5  Mono        \n",
       "6  Mono        \n",
       "7  Dual        \n",
       "8  Dual        \n",
       "9  Dual        \n",
       "10 Mono        "
      ]
     },
     "metadata": {},
     "output_type": "display_data"
    }
   ],
   "source": [
    "#creating new columns \n",
    "cleaned_pokemon2 <- cleaned_pokemon %>% mutate(Type_sum =(Type_1 == Type_2),\n",
    "                                               Gen_1 = as.numeric(Generation == 1),\n",
    "                                               Gen_2 = as.numeric(Generation == 2),\n",
    "                                               Gen_3 = as.numeric(Generation == 3),\n",
    "                                               Gen_4 = as.numeric(Generation == 4),\n",
    "                                               Gen_5 = as.numeric(Generation == 5),\n",
    "                                               Gen_6 = as.numeric(Generation == 6),\n",
    "                                               Type_summary = if_else(is.na(`Type_2`), \"Mono\", \"Dual\"))\n",
    "                                        \n",
    "head(n = 10, cleaned_pokemon2)\n",
    "\n"
   ]
  },
  {
   "cell_type": "code",
   "execution_count": 7,
   "metadata": {},
   "outputs": [
    {
     "data": {
      "text/html": [
       "<table>\n",
       "<thead><tr><th scope=col>Type_1</th><th scope=col>Type_2</th><th scope=col>Legendary</th><th scope=col>Type_summary</th><th scope=col>scaled_Total</th><th scope=col>scaled_Hit_Points</th><th scope=col>scaled_Attack</th><th scope=col>scaled_Defense</th><th scope=col>scaled_Special_Attack</th><th scope=col>scaled_Special_Defense</th><th scope=col>scaled_Speed</th><th scope=col>scaled_Gen_1</th><th scope=col>scaled_Gen_2</th><th scope=col>scaled_Gen_3</th><th scope=col>scaled_Gen_4</th><th scope=col>scaled_Gen_5</th><th scope=col>scaled_Gen_6</th></tr></thead>\n",
       "<tbody>\n",
       "\t<tr><td>Grass    </td><td>Poison   </td><td>False    </td><td>Dual     </td><td>0.7041635</td><td>0.6092888</td><td>0.5734039</td><td>0.6109768</td><td>0.8137637</td><td>0.8426019</td><td>0.6061101</td><td>2.193913 </td><td>0        </td><td>0        </td><td>0        </td><td>0        </td><td>0        </td></tr>\n",
       "\t<tr><td>Grass    </td><td>Poison   </td><td>False    </td><td>Dual     </td><td>0.8968120</td><td>0.8123851</td><td>0.7255314</td><td>0.7855417</td><td>1.0015554</td><td>1.0370485</td><td>0.8081468</td><td>2.193913 </td><td>0        </td><td>0        </td><td>0        </td><td>0        </td><td>0        </td></tr>\n",
       "\t<tr><td>Grass    </td><td>Poison   </td><td>False    </td><td>Dual     </td><td>1.1625341</td><td>1.0831801</td><td>0.9595738</td><td>1.0349200</td><td>1.2519442</td><td>1.2963107</td><td>1.0775290</td><td>2.193913 </td><td>0        </td><td>0        </td><td>0        </td><td>0        </td><td>0        </td></tr>\n",
       "\t<tr><td>Grass    </td><td>Poison   </td><td>False    </td><td>Dual     </td><td>1.3839691</td><td>1.0831801</td><td>1.1702120</td><td>1.5336766</td><td>1.5273719</td><td>1.5555728</td><td>1.0775290</td><td>2.193913 </td><td>0        </td><td>0        </td><td>0        </td><td>0        </td><td>0        </td></tr>\n",
       "\t<tr><td>Fire     </td><td>NA       </td><td>False    </td><td>Mono     </td><td>0.6842343</td><td>0.5280503</td><td>0.6085102</td><td>0.5361634</td><td>0.7511665</td><td>0.6481553</td><td>0.8754923</td><td>2.193913 </td><td>0        </td><td>0        </td><td>0        </td><td>0        </td><td>0        </td></tr>\n",
       "\t<tr><td>Fire     </td><td>NA       </td><td>False    </td><td>Mono     </td><td>0.8968120</td><td>0.7853056</td><td>0.7489357</td><td>0.7231971</td><td>1.0015554</td><td>0.8426019</td><td>1.0775290</td><td>2.193913 </td><td>0        </td><td>0        </td><td>0        </td><td>0        </td><td>0        </td></tr>\n",
       "</tbody>\n",
       "</table>\n"
      ],
      "text/latex": [
       "\\begin{tabular}{r|lllllllllllllllll}\n",
       " Type\\_1 & Type\\_2 & Legendary & Type\\_summary & scaled\\_Total & scaled\\_Hit\\_Points & scaled\\_Attack & scaled\\_Defense & scaled\\_Special\\_Attack & scaled\\_Special\\_Defense & scaled\\_Speed & scaled\\_Gen\\_1 & scaled\\_Gen\\_2 & scaled\\_Gen\\_3 & scaled\\_Gen\\_4 & scaled\\_Gen\\_5 & scaled\\_Gen\\_6\\\\\n",
       "\\hline\n",
       "\t Grass     & Poison    & False     & Dual      & 0.7041635 & 0.6092888 & 0.5734039 & 0.6109768 & 0.8137637 & 0.8426019 & 0.6061101 & 2.193913  & 0         & 0         & 0         & 0         & 0        \\\\\n",
       "\t Grass     & Poison    & False     & Dual      & 0.8968120 & 0.8123851 & 0.7255314 & 0.7855417 & 1.0015554 & 1.0370485 & 0.8081468 & 2.193913  & 0         & 0         & 0         & 0         & 0        \\\\\n",
       "\t Grass     & Poison    & False     & Dual      & 1.1625341 & 1.0831801 & 0.9595738 & 1.0349200 & 1.2519442 & 1.2963107 & 1.0775290 & 2.193913  & 0         & 0         & 0         & 0         & 0        \\\\\n",
       "\t Grass     & Poison    & False     & Dual      & 1.3839691 & 1.0831801 & 1.1702120 & 1.5336766 & 1.5273719 & 1.5555728 & 1.0775290 & 2.193913  & 0         & 0         & 0         & 0         & 0        \\\\\n",
       "\t Fire      & NA        & False     & Mono      & 0.6842343 & 0.5280503 & 0.6085102 & 0.5361634 & 0.7511665 & 0.6481553 & 0.8754923 & 2.193913  & 0         & 0         & 0         & 0         & 0        \\\\\n",
       "\t Fire      & NA        & False     & Mono      & 0.8968120 & 0.7853056 & 0.7489357 & 0.7231971 & 1.0015554 & 0.8426019 & 1.0775290 & 2.193913  & 0         & 0         & 0         & 0         & 0        \\\\\n",
       "\\end{tabular}\n"
      ],
      "text/markdown": [
       "\n",
       "Type_1 | Type_2 | Legendary | Type_summary | scaled_Total | scaled_Hit_Points | scaled_Attack | scaled_Defense | scaled_Special_Attack | scaled_Special_Defense | scaled_Speed | scaled_Gen_1 | scaled_Gen_2 | scaled_Gen_3 | scaled_Gen_4 | scaled_Gen_5 | scaled_Gen_6 | \n",
       "|---|---|---|---|---|---|\n",
       "| Grass     | Poison    | False     | Dual      | 0.7041635 | 0.6092888 | 0.5734039 | 0.6109768 | 0.8137637 | 0.8426019 | 0.6061101 | 2.193913  | 0         | 0         | 0         | 0         | 0         | \n",
       "| Grass     | Poison    | False     | Dual      | 0.8968120 | 0.8123851 | 0.7255314 | 0.7855417 | 1.0015554 | 1.0370485 | 0.8081468 | 2.193913  | 0         | 0         | 0         | 0         | 0         | \n",
       "| Grass     | Poison    | False     | Dual      | 1.1625341 | 1.0831801 | 0.9595738 | 1.0349200 | 1.2519442 | 1.2963107 | 1.0775290 | 2.193913  | 0         | 0         | 0         | 0         | 0         | \n",
       "| Grass     | Poison    | False     | Dual      | 1.3839691 | 1.0831801 | 1.1702120 | 1.5336766 | 1.5273719 | 1.5555728 | 1.0775290 | 2.193913  | 0         | 0         | 0         | 0         | 0         | \n",
       "| Fire      | NA        | False     | Mono      | 0.6842343 | 0.5280503 | 0.6085102 | 0.5361634 | 0.7511665 | 0.6481553 | 0.8754923 | 2.193913  | 0         | 0         | 0         | 0         | 0         | \n",
       "| Fire      | NA        | False     | Mono      | 0.8968120 | 0.7853056 | 0.7489357 | 0.7231971 | 1.0015554 | 0.8426019 | 1.0775290 | 2.193913  | 0         | 0         | 0         | 0         | 0         | \n",
       "\n",
       "\n"
      ],
      "text/plain": [
       "  Type_1 Type_2 Legendary Type_summary scaled_Total scaled_Hit_Points\n",
       "1 Grass  Poison False     Dual         0.7041635    0.6092888        \n",
       "2 Grass  Poison False     Dual         0.8968120    0.8123851        \n",
       "3 Grass  Poison False     Dual         1.1625341    1.0831801        \n",
       "4 Grass  Poison False     Dual         1.3839691    1.0831801        \n",
       "5 Fire   NA     False     Mono         0.6842343    0.5280503        \n",
       "6 Fire   NA     False     Mono         0.8968120    0.7853056        \n",
       "  scaled_Attack scaled_Defense scaled_Special_Attack scaled_Special_Defense\n",
       "1 0.5734039     0.6109768      0.8137637             0.8426019             \n",
       "2 0.7255314     0.7855417      1.0015554             1.0370485             \n",
       "3 0.9595738     1.0349200      1.2519442             1.2963107             \n",
       "4 1.1702120     1.5336766      1.5273719             1.5555728             \n",
       "5 0.6085102     0.5361634      0.7511665             0.6481553             \n",
       "6 0.7489357     0.7231971      1.0015554             0.8426019             \n",
       "  scaled_Speed scaled_Gen_1 scaled_Gen_2 scaled_Gen_3 scaled_Gen_4 scaled_Gen_5\n",
       "1 0.6061101    2.193913     0            0            0            0           \n",
       "2 0.8081468    2.193913     0            0            0            0           \n",
       "3 1.0775290    2.193913     0            0            0            0           \n",
       "4 1.0775290    2.193913     0            0            0            0           \n",
       "5 0.8754923    2.193913     0            0            0            0           \n",
       "6 1.0775290    2.193913     0            0            0            0           \n",
       "  scaled_Gen_6\n",
       "1 0           \n",
       "2 0           \n",
       "3 0           \n",
       "4 0           \n",
       "5 0           \n",
       "6 0           "
      ]
     },
     "metadata": {},
     "output_type": "display_data"
    }
   ],
   "source": [
    "#scaling relevant column data to normalize the features because different magnitudes in the attributes would\n",
    "#bias the predictions. \n",
    "#Also removing unneccessary columns.\n",
    "scaled_pokemon <- cleaned_pokemon2 %>%\n",
    "                                    mutate(scaled_Total = scale(Total,center = FALSE), \n",
    "                                    scaled_Hit_Points = scale(Hit_Points, center = FALSE), \n",
    "                                    scaled_Attack = scale(Attack, center = FALSE),\n",
    "                                    scaled_Defense = scale(Defense, center = FALSE),\n",
    "                                    scaled_Special_Attack = scale(Special_Attack, center = FALSE),\n",
    "                                    scaled_Special_Defense = scale(Special_Defense, center = FALSE),\n",
    "                                    scaled_Speed = scale(Speed, center = FALSE),\n",
    "                                    scaled_Gen_1 = scale(Gen_1, center = FALSE),\n",
    "                                    scaled_Gen_2 = scale(Gen_2, center = FALSE),\n",
    "                                    scaled_Gen_3 = scale(Gen_3, center = FALSE),\n",
    "                                    scaled_Gen_4 = scale(Gen_4, center = FALSE),\n",
    "                                    scaled_Gen_5 = scale(Gen_5, center = FALSE),\n",
    "                                    scaled_Gen_6 = scale(Gen_6, center = FALSE)) %>%\n",
    "                                    select(-Type_sum, -Generation,-Total, -Hit_Points, -Attack, -Defense, -Special_Attack, \n",
    "                                           -Special_Defense, -Speed, -Gen_1, -Gen_2, -Gen_3, -Gen_4, -Gen_5, -Gen_6)\n",
    "head(scaled_pokemon)"
   ]
  },
  {
   "cell_type": "code",
   "execution_count": 8,
   "metadata": {},
   "outputs": [],
   "source": [
    "#knn using full data (model 1)\n",
    "set.seed(151)\n",
    "training_rows <- scaled_pokemon %>%\n",
    "    select(Legendary) %>%\n",
    "    unlist() %>%\n",
    "    createDataPartition(p=0.80, list=FALSE)\n",
    "\n",
    "scaled_pokemon <- scaled_pokemon %>%\n",
    "    mutate(Legendary=as.factor(Legendary))\n",
    "\n",
    "scaled_pokemon$Type_2[is.na(scaled_pokemon$Type_2)] <- 'Not_Dual'\n",
    "\n",
    "X_train <- scaled_pokemon %>% \n",
    "    select(scaled_Total, scaled_Hit_Points, scaled_Attack, scaled_Defense, scaled_Special_Attack, scaled_Special_Defense, \n",
    "                       scaled_Speed,scaled_Gen_1, scaled_Gen_2, scaled_Gen_3, \n",
    "                                        scaled_Gen_4, scaled_Gen_5, scaled_Gen_6) %>% \n",
    "    slice(training_rows) %>% \n",
    "    data.frame()\n",
    "\n",
    "Y_train_legendary <- scaled_pokemon %>% \n",
    "    select(Legendary) %>% \n",
    "    slice(training_rows) %>% \n",
    "    unlist()\n",
    "\n",
    "Y_train_type1 <- scaled_pokemon %>% \n",
    "    select(Type_1) %>% \n",
    "    slice(training_rows) %>% \n",
    "    unlist()\n",
    "\n",
    "Y_train_type2 <- scaled_pokemon %>% \n",
    "    select(Type_2) %>% \n",
    "    slice(training_rows) %>% \n",
    "    unlist()\n",
    "\n",
    "X_test <- scaled_pokemon %>% \n",
    "    select(scaled_Total, scaled_Hit_Points, scaled_Attack, scaled_Defense, scaled_Special_Attack, \n",
    "           scaled_Special_Defense, scaled_Speed,\n",
    "          scaled_Gen_1, scaled_Gen_2, scaled_Gen_3, \n",
    "        scaled_Gen_4, scaled_Gen_5, scaled_Gen_6) %>% \n",
    "    slice(-training_rows) %>% \n",
    "    data.frame()\n",
    "\n",
    "Y_test_legendary <- scaled_pokemon %>% \n",
    "    select(Legendary) %>% \n",
    "    slice(-training_rows) %>%\n",
    "    unlist()\n",
    "\n",
    "Y_test_type1 <- scaled_pokemon %>% \n",
    "    select(Type_1) %>% \n",
    "    slice(training_rows) %>% \n",
    "    unlist()\n",
    "\n",
    "Y_test_type2 <- scaled_pokemon %>% \n",
    "    select(Type_2) %>% \n",
    "    slice(training_rows) %>% \n",
    "    unlist()\n",
    "\n",
    "ks <- data.frame(k=c(1:11))\n",
    "train_control <- trainControl(method='cv', number=10)"
   ]
  },
  {
   "cell_type": "code",
   "execution_count": 9,
   "metadata": {},
   "outputs": [
    {
     "name": "stderr",
     "output_type": "stream",
     "text": [
      "also installing the dependencies ‘cluster’, ‘mlbench’, ‘SparseM’\n",
      "\n",
      "Updating HTML index of packages in '.Library'\n",
      "Making 'packages.html' ... done\n"
     ]
    }
   ],
   "source": [
    "install.packages(\"e1071\", dependencies=TRUE, type='source')\n",
    "library(e1071)"
   ]
  },
  {
   "cell_type": "code",
   "execution_count": 10,
   "metadata": {},
   "outputs": [
    {
     "data": {
      "text/plain": [
       "k-Nearest Neighbors \n",
       "\n",
       "640 samples\n",
       " 13 predictor\n",
       "  2 classes: 'False', 'True' \n",
       "\n",
       "No pre-processing\n",
       "Resampling: Cross-Validated (10 fold) \n",
       "Summary of sample sizes: 576, 577, 576, 576, 576, 576, ... \n",
       "Resampling results across tuning parameters:\n",
       "\n",
       "  k   Accuracy   Kappa    \n",
       "   1  0.9343487  0.5426931\n",
       "   2  0.9344200  0.5106458\n",
       "   3  0.9390346  0.5127300\n",
       "   4  0.9374969  0.4811038\n",
       "   5  0.9328335  0.4091742\n",
       "   6  0.9359585  0.4178401\n",
       "   7  0.9327846  0.3727026\n",
       "   8  0.9312221  0.3576159\n",
       "   9  0.9296837  0.3169050\n",
       "  10  0.9359096  0.3616908\n",
       "  11  0.9312462  0.3304880\n",
       "\n",
       "Accuracy was used to select the optimal model using the largest value.\n",
       "The final value used for the model was k = 3."
      ]
     },
     "metadata": {},
     "output_type": "display_data"
    }
   ],
   "source": [
    "set.seed(151)\n",
    "knn_cv_legendary <- train(x=X_train, y=Y_train_legendary, method='knn', tuneGrid=ks, trControl=train_control)\n",
    "knn_cv_legendary"
   ]
  },
  {
   "cell_type": "code",
   "execution_count": 11,
   "metadata": {},
   "outputs": [
    {
     "data": {
      "text/plain": [
       "k-Nearest Neighbors \n",
       "\n",
       "640 samples\n",
       " 13 predictor\n",
       " 18 classes: 'Bug', 'Dark', 'Dragon', 'Electric', 'Fairy', 'Fighting', 'Fire', 'Flying', 'Ghost', 'Grass', 'Ground', 'Ice', 'Normal', 'Poison', 'Psychic', 'Rock', 'Steel', 'Water' \n",
       "\n",
       "No pre-processing\n",
       "Resampling: Cross-Validated (10 fold) \n",
       "Summary of sample sizes: 579, 576, 575, 576, 578, 577, ... \n",
       "Resampling results across tuning parameters:\n",
       "\n",
       "  k   Accuracy   Kappa     \n",
       "   1  0.2003617  0.13394645\n",
       "   2  0.1531383  0.08220157\n",
       "   3  0.1593651  0.08532505\n",
       "   4  0.1630684  0.08822271\n",
       "   5  0.1638363  0.08529651\n",
       "   6  0.1720942  0.09395249\n",
       "   7  0.1534087  0.06984438\n",
       "   8  0.1567841  0.07312510\n",
       "   9  0.1644225  0.07985860\n",
       "  10  0.1610713  0.07310562\n",
       "  11  0.1506313  0.06157116\n",
       "\n",
       "Accuracy was used to select the optimal model using the largest value.\n",
       "The final value used for the model was k = 1."
      ]
     },
     "metadata": {},
     "output_type": "display_data"
    }
   ],
   "source": [
    "set.seed(151)\n",
    "knn_cv_type1 <- train(x=X_train, y=Y_train_type1, method='knn', tuneGrid=ks, trControl=train_control)\n",
    "knn_cv_type1"
   ]
  },
  {
   "cell_type": "code",
   "execution_count": 12,
   "metadata": {},
   "outputs": [
    {
     "data": {
      "text/plain": [
       "k-Nearest Neighbors \n",
       "\n",
       "640 samples\n",
       " 13 predictor\n",
       " 19 classes: 'Bug', 'Dark', 'Dragon', 'Electric', 'Fairy', 'Fighting', 'Fire', 'Flying', 'Ghost', 'Grass', 'Ground', 'Ice', 'Normal', 'Not_Dual', 'Poison', 'Psychic', 'Rock', 'Steel', 'Water' \n",
       "\n",
       "No pre-processing\n",
       "Resampling: Cross-Validated (10 fold) \n",
       "Summary of sample sizes: 575, 576, 576, 575, 577, 577, ... \n",
       "Resampling results across tuning parameters:\n",
       "\n",
       "  k   Accuracy   Kappa     \n",
       "   1  0.3592586  0.10662712\n",
       "   2  0.3262950  0.08354574\n",
       "   3  0.3579155  0.06810994\n",
       "   4  0.3937622  0.07730063\n",
       "   5  0.4171058  0.08288832\n",
       "   6  0.4404472  0.08455648\n",
       "   7  0.4451362  0.07050778\n",
       "   8  0.4529976  0.06065438\n",
       "   9  0.4576873  0.06034738\n",
       "  10  0.4625206  0.05509807\n",
       "  11  0.4703812  0.04541751\n",
       "\n",
       "Accuracy was used to select the optimal model using the largest value.\n",
       "The final value used for the model was k = 11."
      ]
     },
     "metadata": {},
     "output_type": "display_data"
    }
   ],
   "source": [
    "set.seed(151)\n",
    "knn_cv_type2 <- train(x=X_train, y=Y_train_type2, method='knn', tuneGrid=ks, trControl=train_control)\n",
    "knn_cv_type2"
   ]
  },
  {
   "cell_type": "code",
   "execution_count": 13,
   "metadata": {},
   "outputs": [
    {
     "data": {
      "text/html": [
       "<table>\n",
       "<thead><tr><th scope=col>Type_1</th><th scope=col>Type_2</th><th scope=col>Legendary</th><th scope=col>Type_summary</th><th scope=col>scaled_Total</th><th scope=col>scaled_Hit_Points</th><th scope=col>scaled_Attack</th><th scope=col>scaled_Defense</th><th scope=col>scaled_Special_Attack</th><th scope=col>scaled_Special_Defense</th><th scope=col>scaled_Speed</th><th scope=col>scaled_Gen_1</th><th scope=col>scaled_Gen_2</th><th scope=col>scaled_Gen_3</th><th scope=col>scaled_Gen_4</th><th scope=col>scaled_Gen_5</th><th scope=col>scaled_Gen_6</th></tr></thead>\n",
       "<tbody>\n",
       "\t<tr><td>Fire     </td><td>Not_Dual </td><td>False    </td><td>Mono     </td><td>0.6842343</td><td>0.5280503</td><td>0.6085102</td><td>0.5361634</td><td>0.7511665</td><td>0.6481553</td><td>0.8754923</td><td>2.193913 </td><td>0        </td><td>0        </td><td>0        </td><td>0        </td><td>0        </td></tr>\n",
       "\t<tr><td>Fire     </td><td>Not_Dual </td><td>False    </td><td>Mono     </td><td>0.8968120</td><td>0.7853056</td><td>0.7489357</td><td>0.7231971</td><td>1.0015554</td><td>0.8426019</td><td>1.0775290</td><td>2.193913 </td><td>0        </td><td>0        </td><td>0        </td><td>0        </td><td>0        </td></tr>\n",
       "\t<tr><td>Water    </td><td>Not_Dual </td><td>False    </td><td>Mono     </td><td>1.3950409</td><td>1.0696404</td><td>1.2053183</td><td>1.4962698</td><td>1.6901247</td><td>1.4907572</td><td>1.0505908</td><td>2.193913 </td><td>0        </td><td>0        </td><td>0        </td><td>0        </td><td>0        </td></tr>\n",
       "\t<tr><td>Bug      </td><td>Not_Dual </td><td>False    </td><td>Mono     </td><td>0.4317984</td><td>0.6092888</td><td>0.3510636</td><td>0.4364120</td><td>0.2503888</td><td>0.2592621</td><td>0.6061101</td><td>2.193913 </td><td>0        </td><td>0        </td><td>0        </td><td>0        </td><td>0        </td></tr>\n",
       "\t<tr><td>Bug      </td><td>Not_Dual </td><td>False    </td><td>Mono     </td><td>0.4539419</td><td>0.6769876</td><td>0.2340424</td><td>0.6857903</td><td>0.3129861</td><td>0.3240777</td><td>0.4040734</td><td>2.193913 </td><td>0        </td><td>0        </td><td>0        </td><td>0        </td><td>0        </td></tr>\n",
       "\t<tr><td>Normal   </td><td>Not_Dual </td><td>False    </td><td>Mono     </td><td>0.5602307</td><td>0.4061925</td><td>0.6553187</td><td>0.4364120</td><td>0.3129861</td><td>0.4537087</td><td>0.9697761</td><td>2.193913 </td><td>0        </td><td>0        </td><td>0        </td><td>0        </td><td>0        </td></tr>\n",
       "</tbody>\n",
       "</table>\n"
      ],
      "text/latex": [
       "\\begin{tabular}{r|lllllllllllllllll}\n",
       " Type\\_1 & Type\\_2 & Legendary & Type\\_summary & scaled\\_Total & scaled\\_Hit\\_Points & scaled\\_Attack & scaled\\_Defense & scaled\\_Special\\_Attack & scaled\\_Special\\_Defense & scaled\\_Speed & scaled\\_Gen\\_1 & scaled\\_Gen\\_2 & scaled\\_Gen\\_3 & scaled\\_Gen\\_4 & scaled\\_Gen\\_5 & scaled\\_Gen\\_6\\\\\n",
       "\\hline\n",
       "\t Fire       & Not\\_Dual & False      & Mono       & 0.6842343  & 0.5280503  & 0.6085102  & 0.5361634  & 0.7511665  & 0.6481553  & 0.8754923  & 2.193913   & 0          & 0          & 0          & 0          & 0         \\\\\n",
       "\t Fire       & Not\\_Dual & False      & Mono       & 0.8968120  & 0.7853056  & 0.7489357  & 0.7231971  & 1.0015554  & 0.8426019  & 1.0775290  & 2.193913   & 0          & 0          & 0          & 0          & 0         \\\\\n",
       "\t Water      & Not\\_Dual & False      & Mono       & 1.3950409  & 1.0696404  & 1.2053183  & 1.4962698  & 1.6901247  & 1.4907572  & 1.0505908  & 2.193913   & 0          & 0          & 0          & 0          & 0         \\\\\n",
       "\t Bug        & Not\\_Dual & False      & Mono       & 0.4317984  & 0.6092888  & 0.3510636  & 0.4364120  & 0.2503888  & 0.2592621  & 0.6061101  & 2.193913   & 0          & 0          & 0          & 0          & 0         \\\\\n",
       "\t Bug        & Not\\_Dual & False      & Mono       & 0.4539419  & 0.6769876  & 0.2340424  & 0.6857903  & 0.3129861  & 0.3240777  & 0.4040734  & 2.193913   & 0          & 0          & 0          & 0          & 0         \\\\\n",
       "\t Normal     & Not\\_Dual & False      & Mono       & 0.5602307  & 0.4061925  & 0.6553187  & 0.4364120  & 0.3129861  & 0.4537087  & 0.9697761  & 2.193913   & 0          & 0          & 0          & 0          & 0         \\\\\n",
       "\\end{tabular}\n"
      ],
      "text/markdown": [
       "\n",
       "Type_1 | Type_2 | Legendary | Type_summary | scaled_Total | scaled_Hit_Points | scaled_Attack | scaled_Defense | scaled_Special_Attack | scaled_Special_Defense | scaled_Speed | scaled_Gen_1 | scaled_Gen_2 | scaled_Gen_3 | scaled_Gen_4 | scaled_Gen_5 | scaled_Gen_6 | \n",
       "|---|---|---|---|---|---|\n",
       "| Fire      | Not_Dual  | False     | Mono      | 0.6842343 | 0.5280503 | 0.6085102 | 0.5361634 | 0.7511665 | 0.6481553 | 0.8754923 | 2.193913  | 0         | 0         | 0         | 0         | 0         | \n",
       "| Fire      | Not_Dual  | False     | Mono      | 0.8968120 | 0.7853056 | 0.7489357 | 0.7231971 | 1.0015554 | 0.8426019 | 1.0775290 | 2.193913  | 0         | 0         | 0         | 0         | 0         | \n",
       "| Water     | Not_Dual  | False     | Mono      | 1.3950409 | 1.0696404 | 1.2053183 | 1.4962698 | 1.6901247 | 1.4907572 | 1.0505908 | 2.193913  | 0         | 0         | 0         | 0         | 0         | \n",
       "| Bug       | Not_Dual  | False     | Mono      | 0.4317984 | 0.6092888 | 0.3510636 | 0.4364120 | 0.2503888 | 0.2592621 | 0.6061101 | 2.193913  | 0         | 0         | 0         | 0         | 0         | \n",
       "| Bug       | Not_Dual  | False     | Mono      | 0.4539419 | 0.6769876 | 0.2340424 | 0.6857903 | 0.3129861 | 0.3240777 | 0.4040734 | 2.193913  | 0         | 0         | 0         | 0         | 0         | \n",
       "| Normal    | Not_Dual  | False     | Mono      | 0.5602307 | 0.4061925 | 0.6553187 | 0.4364120 | 0.3129861 | 0.4537087 | 0.9697761 | 2.193913  | 0         | 0         | 0         | 0         | 0         | \n",
       "\n",
       "\n"
      ],
      "text/plain": [
       "  Type_1 Type_2   Legendary Type_summary scaled_Total scaled_Hit_Points\n",
       "1 Fire   Not_Dual False     Mono         0.6842343    0.5280503        \n",
       "2 Fire   Not_Dual False     Mono         0.8968120    0.7853056        \n",
       "3 Water  Not_Dual False     Mono         1.3950409    1.0696404        \n",
       "4 Bug    Not_Dual False     Mono         0.4317984    0.6092888        \n",
       "5 Bug    Not_Dual False     Mono         0.4539419    0.6769876        \n",
       "6 Normal Not_Dual False     Mono         0.5602307    0.4061925        \n",
       "  scaled_Attack scaled_Defense scaled_Special_Attack scaled_Special_Defense\n",
       "1 0.6085102     0.5361634      0.7511665             0.6481553             \n",
       "2 0.7489357     0.7231971      1.0015554             0.8426019             \n",
       "3 1.2053183     1.4962698      1.6901247             1.4907572             \n",
       "4 0.3510636     0.4364120      0.2503888             0.2592621             \n",
       "5 0.2340424     0.6857903      0.3129861             0.3240777             \n",
       "6 0.6553187     0.4364120      0.3129861             0.4537087             \n",
       "  scaled_Speed scaled_Gen_1 scaled_Gen_2 scaled_Gen_3 scaled_Gen_4 scaled_Gen_5\n",
       "1 0.8754923    2.193913     0            0            0            0           \n",
       "2 1.0775290    2.193913     0            0            0            0           \n",
       "3 1.0505908    2.193913     0            0            0            0           \n",
       "4 0.6061101    2.193913     0            0            0            0           \n",
       "5 0.4040734    2.193913     0            0            0            0           \n",
       "6 0.9697761    2.193913     0            0            0            0           \n",
       "  scaled_Gen_6\n",
       "1 0           \n",
       "2 0           \n",
       "3 0           \n",
       "4 0           \n",
       "5 0           \n",
       "6 0           "
      ]
     },
     "metadata": {},
     "output_type": "display_data"
    },
    {
     "data": {
      "text/html": [
       "<table>\n",
       "<thead><tr><th scope=col>Type_1</th><th scope=col>Type_2</th><th scope=col>Legendary</th><th scope=col>Type_summary</th><th scope=col>scaled_Total</th><th scope=col>scaled_Hit_Points</th><th scope=col>scaled_Attack</th><th scope=col>scaled_Defense</th><th scope=col>scaled_Special_Attack</th><th scope=col>scaled_Special_Defense</th><th scope=col>scaled_Speed</th><th scope=col>scaled_Gen_1</th><th scope=col>scaled_Gen_2</th><th scope=col>scaled_Gen_3</th><th scope=col>scaled_Gen_4</th><th scope=col>scaled_Gen_5</th><th scope=col>scaled_Gen_6</th></tr></thead>\n",
       "<tbody>\n",
       "\t<tr><td>Fire     </td><td>Not_Dual </td><td>False    </td><td>Mono     </td><td>0.6842343</td><td>0.5280503</td><td>0.6085102</td><td>0.5361634</td><td>0.7511665</td><td>0.6481553</td><td>0.8754923</td><td>2.193913 </td><td>0        </td><td>0        </td><td>0        </td><td>0        </td><td>0        </td></tr>\n",
       "\t<tr><td>Water    </td><td>Not_Dual </td><td>False    </td><td>Mono     </td><td>0.8968120</td><td>0.7988453</td><td>0.7372335</td><td>0.9975132</td><td>0.8137637</td><td>1.0370485</td><td>0.7812085</td><td>2.193913 </td><td>0        </td><td>0        </td><td>0        </td><td>0        </td><td>0        </td></tr>\n",
       "\t<tr><td>Normal   </td><td>Not_Dual </td><td>False    </td><td>Mono     </td><td>0.9145268</td><td>0.7446863</td><td>0.9478717</td><td>0.7481349</td><td>0.6259721</td><td>0.9074175</td><td>1.3065039</td><td>2.193913 </td><td>0        </td><td>0        </td><td>0        </td><td>0        </td><td>0        </td></tr>\n",
       "\t<tr><td>Ground   </td><td>Not_Dual </td><td>False    </td><td>Mono     </td><td>0.9964578</td><td>1.0154814</td><td>1.1702120</td><td>1.3715807</td><td>0.5633749</td><td>0.7129709</td><td>0.8754923</td><td>2.193913 </td><td>0        </td><td>0        </td><td>0        </td><td>0        </td><td>0        </td></tr>\n",
       "\t<tr><td>Poison   </td><td>Not_Dual </td><td>False    </td><td>Mono     </td><td>0.8082380</td><td>0.9477826</td><td>0.7255314</td><td>0.8354173</td><td>0.6885693</td><td>0.7129709</td><td>0.7542703</td><td>2.193913 </td><td>0        </td><td>0        </td><td>0        </td><td>0        </td><td>0        </td></tr>\n",
       "\t<tr><td>Fire     </td><td>Not_Dual </td><td>False    </td><td>Mono     </td><td>1.1182471</td><td>0.9884019</td><td>0.8893611</td><td>0.9351686</td><td>1.0140748</td><td>1.2963107</td><td>1.3469113</td><td>2.193913 </td><td>0        </td><td>0        </td><td>0        </td><td>0        </td><td>0        </td></tr>\n",
       "</tbody>\n",
       "</table>\n"
      ],
      "text/latex": [
       "\\begin{tabular}{r|lllllllllllllllll}\n",
       " Type\\_1 & Type\\_2 & Legendary & Type\\_summary & scaled\\_Total & scaled\\_Hit\\_Points & scaled\\_Attack & scaled\\_Defense & scaled\\_Special\\_Attack & scaled\\_Special\\_Defense & scaled\\_Speed & scaled\\_Gen\\_1 & scaled\\_Gen\\_2 & scaled\\_Gen\\_3 & scaled\\_Gen\\_4 & scaled\\_Gen\\_5 & scaled\\_Gen\\_6\\\\\n",
       "\\hline\n",
       "\t Fire       & Not\\_Dual & False      & Mono       & 0.6842343  & 0.5280503  & 0.6085102  & 0.5361634  & 0.7511665  & 0.6481553  & 0.8754923  & 2.193913   & 0          & 0          & 0          & 0          & 0         \\\\\n",
       "\t Water      & Not\\_Dual & False      & Mono       & 0.8968120  & 0.7988453  & 0.7372335  & 0.9975132  & 0.8137637  & 1.0370485  & 0.7812085  & 2.193913   & 0          & 0          & 0          & 0          & 0         \\\\\n",
       "\t Normal     & Not\\_Dual & False      & Mono       & 0.9145268  & 0.7446863  & 0.9478717  & 0.7481349  & 0.6259721  & 0.9074175  & 1.3065039  & 2.193913   & 0          & 0          & 0          & 0          & 0         \\\\\n",
       "\t Ground     & Not\\_Dual & False      & Mono       & 0.9964578  & 1.0154814  & 1.1702120  & 1.3715807  & 0.5633749  & 0.7129709  & 0.8754923  & 2.193913   & 0          & 0          & 0          & 0          & 0         \\\\\n",
       "\t Poison     & Not\\_Dual & False      & Mono       & 0.8082380  & 0.9477826  & 0.7255314  & 0.8354173  & 0.6885693  & 0.7129709  & 0.7542703  & 2.193913   & 0          & 0          & 0          & 0          & 0         \\\\\n",
       "\t Fire       & Not\\_Dual & False      & Mono       & 1.1182471  & 0.9884019  & 0.8893611  & 0.9351686  & 1.0140748  & 1.2963107  & 1.3469113  & 2.193913   & 0          & 0          & 0          & 0          & 0         \\\\\n",
       "\\end{tabular}\n"
      ],
      "text/markdown": [
       "\n",
       "Type_1 | Type_2 | Legendary | Type_summary | scaled_Total | scaled_Hit_Points | scaled_Attack | scaled_Defense | scaled_Special_Attack | scaled_Special_Defense | scaled_Speed | scaled_Gen_1 | scaled_Gen_2 | scaled_Gen_3 | scaled_Gen_4 | scaled_Gen_5 | scaled_Gen_6 | \n",
       "|---|---|---|---|---|---|\n",
       "| Fire      | Not_Dual  | False     | Mono      | 0.6842343 | 0.5280503 | 0.6085102 | 0.5361634 | 0.7511665 | 0.6481553 | 0.8754923 | 2.193913  | 0         | 0         | 0         | 0         | 0         | \n",
       "| Water     | Not_Dual  | False     | Mono      | 0.8968120 | 0.7988453 | 0.7372335 | 0.9975132 | 0.8137637 | 1.0370485 | 0.7812085 | 2.193913  | 0         | 0         | 0         | 0         | 0         | \n",
       "| Normal    | Not_Dual  | False     | Mono      | 0.9145268 | 0.7446863 | 0.9478717 | 0.7481349 | 0.6259721 | 0.9074175 | 1.3065039 | 2.193913  | 0         | 0         | 0         | 0         | 0         | \n",
       "| Ground    | Not_Dual  | False     | Mono      | 0.9964578 | 1.0154814 | 1.1702120 | 1.3715807 | 0.5633749 | 0.7129709 | 0.8754923 | 2.193913  | 0         | 0         | 0         | 0         | 0         | \n",
       "| Poison    | Not_Dual  | False     | Mono      | 0.8082380 | 0.9477826 | 0.7255314 | 0.8354173 | 0.6885693 | 0.7129709 | 0.7542703 | 2.193913  | 0         | 0         | 0         | 0         | 0         | \n",
       "| Fire      | Not_Dual  | False     | Mono      | 1.1182471 | 0.9884019 | 0.8893611 | 0.9351686 | 1.0140748 | 1.2963107 | 1.3469113 | 2.193913  | 0         | 0         | 0         | 0         | 0         | \n",
       "\n",
       "\n"
      ],
      "text/plain": [
       "  Type_1 Type_2   Legendary Type_summary scaled_Total scaled_Hit_Points\n",
       "1 Fire   Not_Dual False     Mono         0.6842343    0.5280503        \n",
       "2 Water  Not_Dual False     Mono         0.8968120    0.7988453        \n",
       "3 Normal Not_Dual False     Mono         0.9145268    0.7446863        \n",
       "4 Ground Not_Dual False     Mono         0.9964578    1.0154814        \n",
       "5 Poison Not_Dual False     Mono         0.8082380    0.9477826        \n",
       "6 Fire   Not_Dual False     Mono         1.1182471    0.9884019        \n",
       "  scaled_Attack scaled_Defense scaled_Special_Attack scaled_Special_Defense\n",
       "1 0.6085102     0.5361634      0.7511665             0.6481553             \n",
       "2 0.7372335     0.9975132      0.8137637             1.0370485             \n",
       "3 0.9478717     0.7481349      0.6259721             0.9074175             \n",
       "4 1.1702120     1.3715807      0.5633749             0.7129709             \n",
       "5 0.7255314     0.8354173      0.6885693             0.7129709             \n",
       "6 0.8893611     0.9351686      1.0140748             1.2963107             \n",
       "  scaled_Speed scaled_Gen_1 scaled_Gen_2 scaled_Gen_3 scaled_Gen_4 scaled_Gen_5\n",
       "1 0.8754923    2.193913     0            0            0            0           \n",
       "2 0.7812085    2.193913     0            0            0            0           \n",
       "3 1.3065039    2.193913     0            0            0            0           \n",
       "4 0.8754923    2.193913     0            0            0            0           \n",
       "5 0.7542703    2.193913     0            0            0            0           \n",
       "6 1.3469113    2.193913     0            0            0            0           \n",
       "  scaled_Gen_6\n",
       "1 0           \n",
       "2 0           \n",
       "3 0           \n",
       "4 0           \n",
       "5 0           \n",
       "6 0           "
      ]
     },
     "metadata": {},
     "output_type": "display_data"
    }
   ],
   "source": [
    "#knn using mono types data only to predict legendary status (model 2)\n",
    "\n",
    "set.seed(1234)\n",
    "training_rows <- scaled_pokemon %>% \n",
    "mutate(Legendary = as.factor(Legendary)) %>%\n",
    "  select(Legendary) %>% \n",
    "  unlist() %>% \n",
    "  createDataPartition(p = 0.80, list = FALSE)\n",
    "\n",
    "training_set <- scaled_pokemon %>% filter(Type_summary == \"Mono\") %>% slice(training_rows)\n",
    "testing_set <- scaled_pokemon %>%  slice(-training_rows) %>% filter(Type_summary == \"Mono\")\n",
    "\n",
    "head(training_set)\n",
    "head(testing_set)"
   ]
  },
  {
   "cell_type": "code",
   "execution_count": 14,
   "metadata": {},
   "outputs": [
    {
     "data": {
      "text/plain": [
       "k-Nearest Neighbors \n",
       "\n",
       "303 samples\n",
       " 12 predictor\n",
       "  2 classes: 'False', 'True' \n",
       "\n",
       "No pre-processing\n",
       "Resampling: Cross-Validated (10 fold) \n",
       "Summary of sample sizes: 272, 273, 273, 273, 273, 273, ... \n",
       "Resampling results across tuning parameters:\n",
       "\n",
       "  k   Accuracy   Kappa     \n",
       "   1  0.9506452  0.49754172\n",
       "   3  0.9372043  0.21239650\n",
       "   5  0.9340860  0.06511628\n",
       "   7  0.9307527  0.00000000\n",
       "   9  0.9307527  0.00000000\n",
       "  11  0.9307527  0.00000000\n",
       "\n",
       "Accuracy was used to select the optimal model using the largest value.\n",
       "The final value used for the model was k = 1."
      ]
     },
     "metadata": {},
     "output_type": "display_data"
    },
    {
     "data": {
      "text/html": [
       "<table>\n",
       "<thead><tr><th scope=col>k</th><th scope=col>Accuracy</th><th scope=col>Kappa</th><th scope=col>AccuracySD</th><th scope=col>KappaSD</th></tr></thead>\n",
       "<tbody>\n",
       "\t<tr><td> 1         </td><td>0.9506452  </td><td>0.49754172 </td><td>0.031794559</td><td>0.3708903  </td></tr>\n",
       "\t<tr><td> 3         </td><td>0.9372043  </td><td>0.21239650 </td><td>0.024693234</td><td>0.3656230  </td></tr>\n",
       "\t<tr><td> 5         </td><td>0.9340860  </td><td>0.06511628 </td><td>0.014985766</td><td>0.2059158  </td></tr>\n",
       "\t<tr><td> 7         </td><td>0.9307527  </td><td>0.00000000 </td><td>0.009713196</td><td>0.0000000  </td></tr>\n",
       "\t<tr><td> 9         </td><td>0.9307527  </td><td>0.00000000 </td><td>0.009713196</td><td>0.0000000  </td></tr>\n",
       "\t<tr><td>11         </td><td>0.9307527  </td><td>0.00000000 </td><td>0.009713196</td><td>0.0000000  </td></tr>\n",
       "</tbody>\n",
       "</table>\n"
      ],
      "text/latex": [
       "\\begin{tabular}{r|lllll}\n",
       " k & Accuracy & Kappa & AccuracySD & KappaSD\\\\\n",
       "\\hline\n",
       "\t  1          & 0.9506452   & 0.49754172  & 0.031794559 & 0.3708903  \\\\\n",
       "\t  3          & 0.9372043   & 0.21239650  & 0.024693234 & 0.3656230  \\\\\n",
       "\t  5          & 0.9340860   & 0.06511628  & 0.014985766 & 0.2059158  \\\\\n",
       "\t  7          & 0.9307527   & 0.00000000  & 0.009713196 & 0.0000000  \\\\\n",
       "\t  9          & 0.9307527   & 0.00000000  & 0.009713196 & 0.0000000  \\\\\n",
       "\t 11          & 0.9307527   & 0.00000000  & 0.009713196 & 0.0000000  \\\\\n",
       "\\end{tabular}\n"
      ],
      "text/markdown": [
       "\n",
       "k | Accuracy | Kappa | AccuracySD | KappaSD | \n",
       "|---|---|---|---|---|---|\n",
       "|  1          | 0.9506452   | 0.49754172  | 0.031794559 | 0.3708903   | \n",
       "|  3          | 0.9372043   | 0.21239650  | 0.024693234 | 0.3656230   | \n",
       "|  5          | 0.9340860   | 0.06511628  | 0.014985766 | 0.2059158   | \n",
       "|  7          | 0.9307527   | 0.00000000  | 0.009713196 | 0.0000000   | \n",
       "|  9          | 0.9307527   | 0.00000000  | 0.009713196 | 0.0000000   | \n",
       "| 11          | 0.9307527   | 0.00000000  | 0.009713196 | 0.0000000   | \n",
       "\n",
       "\n"
      ],
      "text/plain": [
       "  k  Accuracy  Kappa      AccuracySD  KappaSD  \n",
       "1  1 0.9506452 0.49754172 0.031794559 0.3708903\n",
       "2  3 0.9372043 0.21239650 0.024693234 0.3656230\n",
       "3  5 0.9340860 0.06511628 0.014985766 0.2059158\n",
       "4  7 0.9307527 0.00000000 0.009713196 0.0000000\n",
       "5  9 0.9307527 0.00000000 0.009713196 0.0000000\n",
       "6 11 0.9307527 0.00000000 0.009713196 0.0000000"
      ]
     },
     "metadata": {},
     "output_type": "display_data"
    }
   ],
   "source": [
    "Y_status <- training_set %>% select(Legendary) %>% unlist()\n",
    "X_attributes <- training_set %>% select(scaled_Hit_Points, scaled_Attack, scaled_Defense, \n",
    "                                        scaled_Special_Attack, scaled_Special_Defense, \n",
    "                                        scaled_Speed, scaled_Gen_1, scaled_Gen_2, scaled_Gen_3, \n",
    "                                        scaled_Gen_4, scaled_Gen_5, scaled_Gen_6) %>% data.frame()\n",
    "\n",
    "k <- c(1,3,5,7,9,11)\n",
    "ks <- data.frame(k)\n",
    "\n",
    "train_control <- trainControl(method = \"cv\", number = 10)\n",
    "choose_k <- train(x = X_attributes, y = Y_status, method = 'knn', tuneGrid = ks, trControl = train_control)\n",
    "choose_k\n",
    "\n",
    "k_accuracies <- choose_k$results\n",
    "k_accuracies "
   ]
  },
  {
   "cell_type": "code",
   "execution_count": 15,
   "metadata": {},
   "outputs": [
    {
     "data": {
      "text/plain": [
       "k-Nearest Neighbors \n",
       "\n",
       "303 samples\n",
       " 12 predictor\n",
       "  2 classes: 'False', 'True' \n",
       "\n",
       "No pre-processing\n",
       "Resampling: Bootstrapped (25 reps) \n",
       "Summary of sample sizes: 303, 303, 303, 303, 303, 303, ... \n",
       "Resampling results:\n",
       "\n",
       "  Accuracy   Kappa    \n",
       "  0.9457331  0.5218033\n",
       "\n",
       "Tuning parameter 'k' was held constant at a value of 1"
      ]
     },
     "metadata": {},
     "output_type": "display_data"
    },
    {
     "data": {
      "text/html": [
       "<ol class=list-inline>\n",
       "\t<li>False</li>\n",
       "\t<li>False</li>\n",
       "\t<li>False</li>\n",
       "\t<li>False</li>\n",
       "\t<li>False</li>\n",
       "\t<li>False</li>\n",
       "</ol>\n",
       "\n",
       "<details>\n",
       "\t<summary style=display:list-item;cursor:pointer>\n",
       "\t\t<strong>Levels</strong>:\n",
       "\t</summary>\n",
       "\t<ol class=list-inline>\n",
       "\t\t<li>'False'</li>\n",
       "\t\t<li>'True'</li>\n",
       "\t</ol>\n",
       "</details>"
      ],
      "text/latex": [
       "\\begin{enumerate*}\n",
       "\\item False\n",
       "\\item False\n",
       "\\item False\n",
       "\\item False\n",
       "\\item False\n",
       "\\item False\n",
       "\\end{enumerate*}\n",
       "\n",
       "\\emph{Levels}: \\begin{enumerate*}\n",
       "\\item 'False'\n",
       "\\item 'True'\n",
       "\\end{enumerate*}\n"
      ],
      "text/markdown": [
       "1. False\n",
       "2. False\n",
       "3. False\n",
       "4. False\n",
       "5. False\n",
       "6. False\n",
       "\n",
       "\n",
       "\n",
       "**Levels**: 1. 'False'\n",
       "2. 'True'\n",
       "\n",
       "\n"
      ],
      "text/plain": [
       "[1] False False False False False False\n",
       "Levels: False True"
      ]
     },
     "metadata": {},
     "output_type": "display_data"
    }
   ],
   "source": [
    "\n",
    "Y_train <- training_set %>% select(Legendary) %>% unlist()\n",
    "X_train <- training_set %>% select(scaled_Hit_Points, scaled_Attack, scaled_Defense, \n",
    "                                        scaled_Special_Attack, scaled_Special_Defense, \n",
    "                                        scaled_Speed, scaled_Gen_1, scaled_Gen_2, scaled_Gen_3, \n",
    "                                        scaled_Gen_4, scaled_Gen_5, scaled_Gen_6) %>% data.frame()\n",
    "\n",
    "\n",
    "final_k = data.frame(k = 1)\n",
    "final_classifier_legendary <- train(x = X_train, y = Y_train, method = \"knn\", tuneGrid = final_k)\n",
    "final_classifier_legendary\n",
    "\n",
    "\n",
    "X_test <- testing_set %>% \n",
    "    select(scaled_Hit_Points, scaled_Attack, scaled_Defense, \n",
    "        scaled_Special_Attack, scaled_Special_Defense, \n",
    "        scaled_Speed, scaled_Gen_1, scaled_Gen_2, scaled_Gen_3, \n",
    "        scaled_Gen_4, scaled_Gen_5, scaled_Gen_6) %>% \n",
    "        data.frame()\n",
    "\n",
    "Y_test <- testing_set %>% \n",
    "    select(Legendary) %>% \n",
    "    unlist()\n",
    "test_pred <- predict(final_classifier_legendary, X_test) \n",
    "head(test_pred)\n"
   ]
  },
  {
   "cell_type": "code",
   "execution_count": 16,
   "metadata": {},
   "outputs": [
    {
     "data": {
      "text/plain": [
       "k-Nearest Neighbors \n",
       "\n",
       "303 samples\n",
       " 12 predictor\n",
       " 18 classes: 'Bug', 'Dark', 'Dragon', 'Electric', 'Fairy', 'Fighting', 'Fire', 'Flying', 'Ghost', 'Grass', 'Ground', 'Ice', 'Normal', 'Poison', 'Psychic', 'Rock', 'Steel', 'Water' \n",
       "\n",
       "No pre-processing\n",
       "Resampling: Cross-Validated (10 fold) \n",
       "Summary of sample sizes: 272, 272, 272, 274, 272, 275, ... \n",
       "Resampling results across tuning parameters:\n",
       "\n",
       "  k   Accuracy   Kappa     \n",
       "   1  0.1952632  0.11658043\n",
       "   3  0.1715911  0.08900864\n",
       "   5  0.1784714  0.08374717\n",
       "   7  0.1615533  0.06684523\n",
       "   9  0.1583515  0.05876767\n",
       "  11  0.1617019  0.05531892\n",
       "\n",
       "Accuracy was used to select the optimal model using the largest value.\n",
       "The final value used for the model was k = 1."
      ]
     },
     "metadata": {},
     "output_type": "display_data"
    },
    {
     "data": {
      "text/html": [
       "<table>\n",
       "<thead><tr><th scope=col>k</th><th scope=col>Accuracy</th><th scope=col>Kappa</th><th scope=col>AccuracySD</th><th scope=col>KappaSD</th></tr></thead>\n",
       "<tbody>\n",
       "\t<tr><td> 1        </td><td>0.1952632 </td><td>0.11658043</td><td>0.07473645</td><td>0.08538417</td></tr>\n",
       "\t<tr><td> 3        </td><td>0.1715911 </td><td>0.08900864</td><td>0.05816237</td><td>0.07304048</td></tr>\n",
       "\t<tr><td> 5        </td><td>0.1784714 </td><td>0.08374717</td><td>0.07742227</td><td>0.08681777</td></tr>\n",
       "\t<tr><td> 7        </td><td>0.1615533 </td><td>0.06684523</td><td>0.06486816</td><td>0.07581190</td></tr>\n",
       "\t<tr><td> 9        </td><td>0.1583515 </td><td>0.05876767</td><td>0.05147582</td><td>0.05425150</td></tr>\n",
       "\t<tr><td>11        </td><td>0.1617019 </td><td>0.05531892</td><td>0.05785204</td><td>0.06810480</td></tr>\n",
       "</tbody>\n",
       "</table>\n"
      ],
      "text/latex": [
       "\\begin{tabular}{r|lllll}\n",
       " k & Accuracy & Kappa & AccuracySD & KappaSD\\\\\n",
       "\\hline\n",
       "\t  1         & 0.1952632  & 0.11658043 & 0.07473645 & 0.08538417\\\\\n",
       "\t  3         & 0.1715911  & 0.08900864 & 0.05816237 & 0.07304048\\\\\n",
       "\t  5         & 0.1784714  & 0.08374717 & 0.07742227 & 0.08681777\\\\\n",
       "\t  7         & 0.1615533  & 0.06684523 & 0.06486816 & 0.07581190\\\\\n",
       "\t  9         & 0.1583515  & 0.05876767 & 0.05147582 & 0.05425150\\\\\n",
       "\t 11         & 0.1617019  & 0.05531892 & 0.05785204 & 0.06810480\\\\\n",
       "\\end{tabular}\n"
      ],
      "text/markdown": [
       "\n",
       "k | Accuracy | Kappa | AccuracySD | KappaSD | \n",
       "|---|---|---|---|---|---|\n",
       "|  1         | 0.1952632  | 0.11658043 | 0.07473645 | 0.08538417 | \n",
       "|  3         | 0.1715911  | 0.08900864 | 0.05816237 | 0.07304048 | \n",
       "|  5         | 0.1784714  | 0.08374717 | 0.07742227 | 0.08681777 | \n",
       "|  7         | 0.1615533  | 0.06684523 | 0.06486816 | 0.07581190 | \n",
       "|  9         | 0.1583515  | 0.05876767 | 0.05147582 | 0.05425150 | \n",
       "| 11         | 0.1617019  | 0.05531892 | 0.05785204 | 0.06810480 | \n",
       "\n",
       "\n"
      ],
      "text/plain": [
       "  k  Accuracy  Kappa      AccuracySD KappaSD   \n",
       "1  1 0.1952632 0.11658043 0.07473645 0.08538417\n",
       "2  3 0.1715911 0.08900864 0.05816237 0.07304048\n",
       "3  5 0.1784714 0.08374717 0.07742227 0.08681777\n",
       "4  7 0.1615533 0.06684523 0.06486816 0.07581190\n",
       "5  9 0.1583515 0.05876767 0.05147582 0.05425150\n",
       "6 11 0.1617019 0.05531892 0.05785204 0.06810480"
      ]
     },
     "metadata": {},
     "output_type": "display_data"
    }
   ],
   "source": [
    "#knn using mono types data only to predict Type_1 (model 2)\n",
    "set.seed(5678)   \n",
    "training_rows2 <- scaled_pokemon %>% \n",
    "mutate(Type_1 = as.factor(Type_1)) %>%\n",
    "  select(Type_1) %>% \n",
    "  unlist() %>% \n",
    "  createDataPartition(p = 0.80, list = FALSE)\n",
    "\n",
    "Y_type1 <- training_set %>% select(Type_1) %>% unlist()\n",
    "\n",
    "k <- c(1,3,5,7,9,11)\n",
    "ks <- data.frame(k)\n",
    "\n",
    "\n",
    "train_control2 <- trainControl(method = \"cv\", number = 10)\n",
    "\n",
    "choose_k <- train(x = X_attributes, y = Y_type1, method = 'knn', tuneGrid = ks, trControl = train_control2)\n",
    "choose_k\n",
    "\n",
    "k_accuracies2 <- choose_k$results\n",
    "k_accuracies2 "
   ]
  },
  {
   "cell_type": "code",
   "execution_count": 17,
   "metadata": {
    "scrolled": false
   },
   "outputs": [
    {
     "name": "stderr",
     "output_type": "stream",
     "text": [
      "Warning message:\n",
      "“predictions failed for Resample10: k=1 Error in dimnames(x) <- dn : \n",
      "  length of 'dimnames' [2] not equal to array extent\n",
      "”Warning message:\n",
      "“predictions failed for Resample14: k=1 Error in dimnames(x) <- dn : \n",
      "  length of 'dimnames' [2] not equal to array extent\n",
      "”Warning message:\n",
      "“predictions failed for Resample16: k=1 Error in dimnames(x) <- dn : \n",
      "  length of 'dimnames' [2] not equal to array extent\n",
      "”Warning message in nominalTrainWorkflow(x = x, y = y, wts = weights, info = trainInfo, :\n",
      "“There were missing values in resampled performance measures.”"
     ]
    },
    {
     "data": {
      "text/plain": [
       "k-Nearest Neighbors \n",
       "\n",
       "303 samples\n",
       " 12 predictor\n",
       " 18 classes: 'Bug', 'Dark', 'Dragon', 'Electric', 'Fairy', 'Fighting', 'Fire', 'Flying', 'Ghost', 'Grass', 'Ground', 'Ice', 'Normal', 'Poison', 'Psychic', 'Rock', 'Steel', 'Water' \n",
       "\n",
       "No pre-processing\n",
       "Resampling: Bootstrapped (25 reps) \n",
       "Summary of sample sizes: 303, 303, 303, 303, 303, 303, ... \n",
       "Resampling results:\n",
       "\n",
       "  Accuracy  Kappa    \n",
       "  0.195173  0.1185508\n",
       "\n",
       "Tuning parameter 'k' was held constant at a value of 1"
      ]
     },
     "metadata": {},
     "output_type": "display_data"
    },
    {
     "data": {
      "text/html": [
       "<ol class=list-inline>\n",
       "\t<li>Fire</li>\n",
       "\t<li>Dragon</li>\n",
       "\t<li>Normal</li>\n",
       "\t<li>Water</li>\n",
       "\t<li>Poison</li>\n",
       "\t<li>Fire</li>\n",
       "</ol>\n",
       "\n",
       "<details>\n",
       "\t<summary style=display:list-item;cursor:pointer>\n",
       "\t\t<strong>Levels</strong>:\n",
       "\t</summary>\n",
       "\t<ol class=list-inline>\n",
       "\t\t<li>'Bug'</li>\n",
       "\t\t<li>'Dark'</li>\n",
       "\t\t<li>'Dragon'</li>\n",
       "\t\t<li>'Electric'</li>\n",
       "\t\t<li>'Fairy'</li>\n",
       "\t\t<li>'Fighting'</li>\n",
       "\t\t<li>'Fire'</li>\n",
       "\t\t<li>'Flying'</li>\n",
       "\t\t<li>'Ghost'</li>\n",
       "\t\t<li>'Grass'</li>\n",
       "\t\t<li>'Ground'</li>\n",
       "\t\t<li>'Ice'</li>\n",
       "\t\t<li>'Normal'</li>\n",
       "\t\t<li>'Poison'</li>\n",
       "\t\t<li>'Psychic'</li>\n",
       "\t\t<li>'Rock'</li>\n",
       "\t\t<li>'Steel'</li>\n",
       "\t\t<li>'Water'</li>\n",
       "\t</ol>\n",
       "</details>"
      ],
      "text/latex": [
       "\\begin{enumerate*}\n",
       "\\item Fire\n",
       "\\item Dragon\n",
       "\\item Normal\n",
       "\\item Water\n",
       "\\item Poison\n",
       "\\item Fire\n",
       "\\end{enumerate*}\n",
       "\n",
       "\\emph{Levels}: \\begin{enumerate*}\n",
       "\\item 'Bug'\n",
       "\\item 'Dark'\n",
       "\\item 'Dragon'\n",
       "\\item 'Electric'\n",
       "\\item 'Fairy'\n",
       "\\item 'Fighting'\n",
       "\\item 'Fire'\n",
       "\\item 'Flying'\n",
       "\\item 'Ghost'\n",
       "\\item 'Grass'\n",
       "\\item 'Ground'\n",
       "\\item 'Ice'\n",
       "\\item 'Normal'\n",
       "\\item 'Poison'\n",
       "\\item 'Psychic'\n",
       "\\item 'Rock'\n",
       "\\item 'Steel'\n",
       "\\item 'Water'\n",
       "\\end{enumerate*}\n"
      ],
      "text/markdown": [
       "1. Fire\n",
       "2. Dragon\n",
       "3. Normal\n",
       "4. Water\n",
       "5. Poison\n",
       "6. Fire\n",
       "\n",
       "\n",
       "\n",
       "**Levels**: 1. 'Bug'\n",
       "2. 'Dark'\n",
       "3. 'Dragon'\n",
       "4. 'Electric'\n",
       "5. 'Fairy'\n",
       "6. 'Fighting'\n",
       "7. 'Fire'\n",
       "8. 'Flying'\n",
       "9. 'Ghost'\n",
       "10. 'Grass'\n",
       "11. 'Ground'\n",
       "12. 'Ice'\n",
       "13. 'Normal'\n",
       "14. 'Poison'\n",
       "15. 'Psychic'\n",
       "16. 'Rock'\n",
       "17. 'Steel'\n",
       "18. 'Water'\n",
       "\n",
       "\n"
      ],
      "text/plain": [
       "[1] Fire   Dragon Normal Water  Poison Fire  \n",
       "18 Levels: Bug Dark Dragon Electric Fairy Fighting Fire Flying Ghost ... Water"
      ]
     },
     "metadata": {},
     "output_type": "display_data"
    }
   ],
   "source": [
    "\n",
    "final_k = data.frame(k = 1)\n",
    "final_classifier_type1 <- train(x = X_attributes, y = Y_type1, method = \"knn\", tuneGrid = final_k)\n",
    "final_classifier_type1\n",
    "\n",
    "test_pred <- predict(final_classifier_type1, X_test) \n",
    "head(test_pred)\n"
   ]
  },
  {
   "cell_type": "code",
   "execution_count": 18,
   "metadata": {},
   "outputs": [
    {
     "name": "stderr",
     "output_type": "stream",
     "text": [
      "Warning message in nominalTrainWorkflow(x = x, y = y, wts = weights, info = trainInfo, :\n",
      "“There were missing values in resampled performance measures.”"
     ]
    },
    {
     "data": {
      "text/plain": [
       "k-Nearest Neighbors \n",
       "\n",
       "303 samples\n",
       " 12 predictor\n",
       "  1 classes: 'Not_Dual' \n",
       "\n",
       "No pre-processing\n",
       "Resampling: Cross-Validated (10 fold) \n",
       "Summary of sample sizes: 273, 273, 273, 273, 273, 273, ... \n",
       "Resampling results across tuning parameters:\n",
       "\n",
       "  k   Accuracy  Kappa\n",
       "   1  1         NaN  \n",
       "   3  1         NaN  \n",
       "   5  1         NaN  \n",
       "   7  1         NaN  \n",
       "   9  1         NaN  \n",
       "  11  1         NaN  \n",
       "\n",
       "Accuracy was used to select the optimal model using the largest value.\n",
       "The final value used for the model was k = 11."
      ]
     },
     "metadata": {},
     "output_type": "display_data"
    },
    {
     "data": {
      "text/html": [
       "<table>\n",
       "<thead><tr><th scope=col>k</th><th scope=col>Accuracy</th><th scope=col>Kappa</th><th scope=col>AccuracySD</th><th scope=col>KappaSD</th></tr></thead>\n",
       "<tbody>\n",
       "\t<tr><td> 1 </td><td>1  </td><td>NaN</td><td>0  </td><td>NA </td></tr>\n",
       "\t<tr><td> 3 </td><td>1  </td><td>NaN</td><td>0  </td><td>NA </td></tr>\n",
       "\t<tr><td> 5 </td><td>1  </td><td>NaN</td><td>0  </td><td>NA </td></tr>\n",
       "\t<tr><td> 7 </td><td>1  </td><td>NaN</td><td>0  </td><td>NA </td></tr>\n",
       "\t<tr><td> 9 </td><td>1  </td><td>NaN</td><td>0  </td><td>NA </td></tr>\n",
       "\t<tr><td>11 </td><td>1  </td><td>NaN</td><td>0  </td><td>NA </td></tr>\n",
       "</tbody>\n",
       "</table>\n"
      ],
      "text/latex": [
       "\\begin{tabular}{r|lllll}\n",
       " k & Accuracy & Kappa & AccuracySD & KappaSD\\\\\n",
       "\\hline\n",
       "\t  1  & 1   & NaN & 0   & NA \\\\\n",
       "\t  3  & 1   & NaN & 0   & NA \\\\\n",
       "\t  5  & 1   & NaN & 0   & NA \\\\\n",
       "\t  7  & 1   & NaN & 0   & NA \\\\\n",
       "\t  9  & 1   & NaN & 0   & NA \\\\\n",
       "\t 11  & 1   & NaN & 0   & NA \\\\\n",
       "\\end{tabular}\n"
      ],
      "text/markdown": [
       "\n",
       "k | Accuracy | Kappa | AccuracySD | KappaSD | \n",
       "|---|---|---|---|---|---|\n",
       "|  1  | 1   | NaN | 0   | NA  | \n",
       "|  3  | 1   | NaN | 0   | NA  | \n",
       "|  5  | 1   | NaN | 0   | NA  | \n",
       "|  7  | 1   | NaN | 0   | NA  | \n",
       "|  9  | 1   | NaN | 0   | NA  | \n",
       "| 11  | 1   | NaN | 0   | NA  | \n",
       "\n",
       "\n"
      ],
      "text/plain": [
       "  k  Accuracy Kappa AccuracySD KappaSD\n",
       "1  1 1        NaN   0          NA     \n",
       "2  3 1        NaN   0          NA     \n",
       "3  5 1        NaN   0          NA     \n",
       "4  7 1        NaN   0          NA     \n",
       "5  9 1        NaN   0          NA     \n",
       "6 11 1        NaN   0          NA     "
      ]
     },
     "metadata": {},
     "output_type": "display_data"
    }
   ],
   "source": [
    "#knn using mono types data only to predict Type_2 (model 2)\n",
    "set.seed(1435)   \n",
    "training_rows3 <- scaled_pokemon %>% \n",
    "mutate(Type_2 = as.factor(Type_2)) %>%\n",
    "  select(Type_2) %>% \n",
    "  unlist() %>% \n",
    "  createDataPartition(p = 0.80, list = FALSE)\n",
    "\n",
    "Y_type2 <- training_set %>% select(Type_2) %>% unlist()\n",
    "\n",
    "k <- c(1,3,5,7,9,11)\n",
    "ks <- data.frame(k)\n",
    "\n",
    "\n",
    "train_control3 <- trainControl(method = \"cv\", number = 10)\n",
    "\n",
    "choose_k <- train(x = X_attributes, y = Y_type2, method = 'knn', tuneGrid = ks, trControl = train_control3)\n",
    "choose_k\n",
    "\n",
    "k_accuracies2 <- choose_k$results\n",
    "k_accuracies2 "
   ]
  },
  {
   "cell_type": "code",
   "execution_count": 19,
   "metadata": {},
   "outputs": [
    {
     "name": "stderr",
     "output_type": "stream",
     "text": [
      "Warning message in nominalTrainWorkflow(x = x, y = y, wts = weights, info = trainInfo, :\n",
      "“There were missing values in resampled performance measures.”"
     ]
    },
    {
     "data": {
      "text/plain": [
       "k-Nearest Neighbors \n",
       "\n",
       "303 samples\n",
       " 12 predictor\n",
       "  1 classes: 'Not_Dual' \n",
       "\n",
       "No pre-processing\n",
       "Resampling: Bootstrapped (25 reps) \n",
       "Summary of sample sizes: 303, 303, 303, 303, 303, 303, ... \n",
       "Resampling results:\n",
       "\n",
       "  Accuracy  Kappa\n",
       "  1         NaN  \n",
       "\n",
       "Tuning parameter 'k' was held constant at a value of 1"
      ]
     },
     "metadata": {},
     "output_type": "display_data"
    },
    {
     "data": {
      "text/html": [
       "<ol class=list-inline>\n",
       "\t<li>Not_Dual</li>\n",
       "\t<li>Not_Dual</li>\n",
       "\t<li>Not_Dual</li>\n",
       "\t<li>Not_Dual</li>\n",
       "\t<li>Not_Dual</li>\n",
       "\t<li>Not_Dual</li>\n",
       "</ol>\n",
       "\n",
       "<details>\n",
       "\t<summary style=display:list-item;cursor:pointer>\n",
       "\t\t<strong>Levels</strong>:\n",
       "\t</summary>\n",
       "\t'Not_Dual'\n",
       "</details>"
      ],
      "text/latex": [
       "\\begin{enumerate*}\n",
       "\\item Not\\_Dual\n",
       "\\item Not\\_Dual\n",
       "\\item Not\\_Dual\n",
       "\\item Not\\_Dual\n",
       "\\item Not\\_Dual\n",
       "\\item Not\\_Dual\n",
       "\\end{enumerate*}\n",
       "\n",
       "\\emph{Levels}: 'Not\\_Dual'"
      ],
      "text/markdown": [
       "1. Not_Dual\n",
       "2. Not_Dual\n",
       "3. Not_Dual\n",
       "4. Not_Dual\n",
       "5. Not_Dual\n",
       "6. Not_Dual\n",
       "\n",
       "\n",
       "\n",
       "**Levels**: 'Not_Dual'"
      ],
      "text/plain": [
       "[1] Not_Dual Not_Dual Not_Dual Not_Dual Not_Dual Not_Dual\n",
       "Levels: Not_Dual"
      ]
     },
     "metadata": {},
     "output_type": "display_data"
    }
   ],
   "source": [
    "final_k = data.frame(k = 1)\n",
    "final_classifier_type2 <- train(x = X_attributes, y = Y_type2, method = \"knn\", tuneGrid = final_k)\n",
    "final_classifier_type2\n",
    "\n",
    "test_pred <- predict(final_classifier_type2, X_test) \n",
    "head(test_pred)"
   ]
  },
  {
   "cell_type": "markdown",
   "metadata": {},
   "source": [
    "From the mono-models we see that training the model on mono type pokemon makes it very accurate in predicting legendary status of mono-type pokemon(95%) and distinguishing between a type1 and type2 pokemon with an accuracy of 100% when predicting type2. But it has a very low accuracy(19%) when predicting the types of the type1 pokemon which suggests that the predictor/ x variables are too similar amongst mono type pokemon to distinguish between them accurately."
   ]
  },
  {
   "cell_type": "code",
   "execution_count": 25,
   "metadata": {},
   "outputs": [
    {
     "data": {
      "text/html": [
       "<table>\n",
       "<thead><tr><th scope=col>Type_1</th><th scope=col>Type_2</th><th scope=col>Legendary</th><th scope=col>Type_summary</th><th scope=col>scaled_Total</th><th scope=col>scaled_Hit_Points</th><th scope=col>scaled_Attack</th><th scope=col>scaled_Defense</th><th scope=col>scaled_Special_Attack</th><th scope=col>scaled_Special_Defense</th><th scope=col>scaled_Speed</th><th scope=col>scaled_Gen_1</th><th scope=col>scaled_Gen_2</th><th scope=col>scaled_Gen_3</th><th scope=col>scaled_Gen_4</th><th scope=col>scaled_Gen_5</th><th scope=col>scaled_Gen_6</th></tr></thead>\n",
       "<tbody>\n",
       "\t<tr><td>Grass    </td><td>Poison   </td><td>False    </td><td>Dual     </td><td>0.7041635</td><td>0.6092888</td><td>0.5734039</td><td>0.6109768</td><td>0.8137637</td><td>0.8426019</td><td>0.6061101</td><td>2.193913 </td><td>0        </td><td>0        </td><td>0        </td><td>0        </td><td>0        </td></tr>\n",
       "\t<tr><td>Grass    </td><td>Poison   </td><td>False    </td><td>Dual     </td><td>0.8968120</td><td>0.8123851</td><td>0.7255314</td><td>0.7855417</td><td>1.0015554</td><td>1.0370485</td><td>0.8081468</td><td>2.193913 </td><td>0        </td><td>0        </td><td>0        </td><td>0        </td><td>0        </td></tr>\n",
       "\t<tr><td>Fire     </td><td>Dragon   </td><td>False    </td><td>Dual     </td><td>1.4038983</td><td>1.0561006</td><td>1.5212756</td><td>1.3840496</td><td>1.6275275</td><td>1.1018641</td><td>1.3469113</td><td>2.193913 </td><td>0        </td><td>0        </td><td>0        </td><td>0        </td><td>0        </td></tr>\n",
       "\t<tr><td>Fire     </td><td>Flying   </td><td>False    </td><td>Dual     </td><td>1.4038983</td><td>1.0561006</td><td>1.2170204</td><td>0.9725754</td><td>1.9905913</td><td>1.4907572</td><td>1.3469113</td><td>2.193913 </td><td>0        </td><td>0        </td><td>0        </td><td>0        </td><td>0        </td></tr>\n",
       "\t<tr><td>Bug      </td><td>Flying   </td><td>False    </td><td>Dual     </td><td>0.8746685</td><td>0.8123851</td><td>0.5265954</td><td>0.6234458</td><td>1.1267498</td><td>1.0370485</td><td>0.9428379</td><td>2.193913 </td><td>0        </td><td>0        </td><td>0        </td><td>0        </td><td>0        </td></tr>\n",
       "\t<tr><td>Bug      </td><td>Poison   </td><td>False    </td><td>Dual     </td><td>0.4317984</td><td>0.5415901</td><td>0.4095742</td><td>0.3740675</td><td>0.2503888</td><td>0.2592621</td><td>0.6734556</td><td>2.193913 </td><td>0        </td><td>0        </td><td>0        </td><td>0        </td><td>0        </td></tr>\n",
       "</tbody>\n",
       "</table>\n"
      ],
      "text/latex": [
       "\\begin{tabular}{r|lllllllllllllllll}\n",
       " Type\\_1 & Type\\_2 & Legendary & Type\\_summary & scaled\\_Total & scaled\\_Hit\\_Points & scaled\\_Attack & scaled\\_Defense & scaled\\_Special\\_Attack & scaled\\_Special\\_Defense & scaled\\_Speed & scaled\\_Gen\\_1 & scaled\\_Gen\\_2 & scaled\\_Gen\\_3 & scaled\\_Gen\\_4 & scaled\\_Gen\\_5 & scaled\\_Gen\\_6\\\\\n",
       "\\hline\n",
       "\t Grass     & Poison    & False     & Dual      & 0.7041635 & 0.6092888 & 0.5734039 & 0.6109768 & 0.8137637 & 0.8426019 & 0.6061101 & 2.193913  & 0         & 0         & 0         & 0         & 0        \\\\\n",
       "\t Grass     & Poison    & False     & Dual      & 0.8968120 & 0.8123851 & 0.7255314 & 0.7855417 & 1.0015554 & 1.0370485 & 0.8081468 & 2.193913  & 0         & 0         & 0         & 0         & 0        \\\\\n",
       "\t Fire      & Dragon    & False     & Dual      & 1.4038983 & 1.0561006 & 1.5212756 & 1.3840496 & 1.6275275 & 1.1018641 & 1.3469113 & 2.193913  & 0         & 0         & 0         & 0         & 0        \\\\\n",
       "\t Fire      & Flying    & False     & Dual      & 1.4038983 & 1.0561006 & 1.2170204 & 0.9725754 & 1.9905913 & 1.4907572 & 1.3469113 & 2.193913  & 0         & 0         & 0         & 0         & 0        \\\\\n",
       "\t Bug       & Flying    & False     & Dual      & 0.8746685 & 0.8123851 & 0.5265954 & 0.6234458 & 1.1267498 & 1.0370485 & 0.9428379 & 2.193913  & 0         & 0         & 0         & 0         & 0        \\\\\n",
       "\t Bug       & Poison    & False     & Dual      & 0.4317984 & 0.5415901 & 0.4095742 & 0.3740675 & 0.2503888 & 0.2592621 & 0.6734556 & 2.193913  & 0         & 0         & 0         & 0         & 0        \\\\\n",
       "\\end{tabular}\n"
      ],
      "text/markdown": [
       "\n",
       "Type_1 | Type_2 | Legendary | Type_summary | scaled_Total | scaled_Hit_Points | scaled_Attack | scaled_Defense | scaled_Special_Attack | scaled_Special_Defense | scaled_Speed | scaled_Gen_1 | scaled_Gen_2 | scaled_Gen_3 | scaled_Gen_4 | scaled_Gen_5 | scaled_Gen_6 | \n",
       "|---|---|---|---|---|---|\n",
       "| Grass     | Poison    | False     | Dual      | 0.7041635 | 0.6092888 | 0.5734039 | 0.6109768 | 0.8137637 | 0.8426019 | 0.6061101 | 2.193913  | 0         | 0         | 0         | 0         | 0         | \n",
       "| Grass     | Poison    | False     | Dual      | 0.8968120 | 0.8123851 | 0.7255314 | 0.7855417 | 1.0015554 | 1.0370485 | 0.8081468 | 2.193913  | 0         | 0         | 0         | 0         | 0         | \n",
       "| Fire      | Dragon    | False     | Dual      | 1.4038983 | 1.0561006 | 1.5212756 | 1.3840496 | 1.6275275 | 1.1018641 | 1.3469113 | 2.193913  | 0         | 0         | 0         | 0         | 0         | \n",
       "| Fire      | Flying    | False     | Dual      | 1.4038983 | 1.0561006 | 1.2170204 | 0.9725754 | 1.9905913 | 1.4907572 | 1.3469113 | 2.193913  | 0         | 0         | 0         | 0         | 0         | \n",
       "| Bug       | Flying    | False     | Dual      | 0.8746685 | 0.8123851 | 0.5265954 | 0.6234458 | 1.1267498 | 1.0370485 | 0.9428379 | 2.193913  | 0         | 0         | 0         | 0         | 0         | \n",
       "| Bug       | Poison    | False     | Dual      | 0.4317984 | 0.5415901 | 0.4095742 | 0.3740675 | 0.2503888 | 0.2592621 | 0.6734556 | 2.193913  | 0         | 0         | 0         | 0         | 0         | \n",
       "\n",
       "\n"
      ],
      "text/plain": [
       "  Type_1 Type_2 Legendary Type_summary scaled_Total scaled_Hit_Points\n",
       "1 Grass  Poison False     Dual         0.7041635    0.6092888        \n",
       "2 Grass  Poison False     Dual         0.8968120    0.8123851        \n",
       "3 Fire   Dragon False     Dual         1.4038983    1.0561006        \n",
       "4 Fire   Flying False     Dual         1.4038983    1.0561006        \n",
       "5 Bug    Flying False     Dual         0.8746685    0.8123851        \n",
       "6 Bug    Poison False     Dual         0.4317984    0.5415901        \n",
       "  scaled_Attack scaled_Defense scaled_Special_Attack scaled_Special_Defense\n",
       "1 0.5734039     0.6109768      0.8137637             0.8426019             \n",
       "2 0.7255314     0.7855417      1.0015554             1.0370485             \n",
       "3 1.5212756     1.3840496      1.6275275             1.1018641             \n",
       "4 1.2170204     0.9725754      1.9905913             1.4907572             \n",
       "5 0.5265954     0.6234458      1.1267498             1.0370485             \n",
       "6 0.4095742     0.3740675      0.2503888             0.2592621             \n",
       "  scaled_Speed scaled_Gen_1 scaled_Gen_2 scaled_Gen_3 scaled_Gen_4 scaled_Gen_5\n",
       "1 0.6061101    2.193913     0            0            0            0           \n",
       "2 0.8081468    2.193913     0            0            0            0           \n",
       "3 1.3469113    2.193913     0            0            0            0           \n",
       "4 1.3469113    2.193913     0            0            0            0           \n",
       "5 0.9428379    2.193913     0            0            0            0           \n",
       "6 0.6734556    2.193913     0            0            0            0           \n",
       "  scaled_Gen_6\n",
       "1 0           \n",
       "2 0           \n",
       "3 0           \n",
       "4 0           \n",
       "5 0           \n",
       "6 0           "
      ]
     },
     "metadata": {},
     "output_type": "display_data"
    },
    {
     "data": {
      "text/html": [
       "<table>\n",
       "<thead><tr><th scope=col>Type_1</th><th scope=col>Type_2</th><th scope=col>Legendary</th><th scope=col>Type_summary</th><th scope=col>scaled_Total</th><th scope=col>scaled_Hit_Points</th><th scope=col>scaled_Attack</th><th scope=col>scaled_Defense</th><th scope=col>scaled_Special_Attack</th><th scope=col>scaled_Special_Defense</th><th scope=col>scaled_Speed</th><th scope=col>scaled_Gen_1</th><th scope=col>scaled_Gen_2</th><th scope=col>scaled_Gen_3</th><th scope=col>scaled_Gen_4</th><th scope=col>scaled_Gen_5</th><th scope=col>scaled_Gen_6</th></tr></thead>\n",
       "<tbody>\n",
       "\t<tr><td>Grass    </td><td>Poison   </td><td>False    </td><td>Dual     </td><td>1.1625341</td><td>1.0831801</td><td>0.9595738</td><td>1.0349200</td><td>1.2519442</td><td>1.2963107</td><td>1.0775290</td><td>2.193913 </td><td>0        </td><td>0        </td><td>0        </td><td>0        </td><td>0        </td></tr>\n",
       "\t<tr><td>Grass    </td><td>Poison   </td><td>False    </td><td>Dual     </td><td>1.3839691</td><td>1.0831801</td><td>1.1702120</td><td>1.5336766</td><td>1.5273719</td><td>1.5555728</td><td>1.0775290</td><td>2.193913 </td><td>0        </td><td>0        </td><td>0        </td><td>0        </td><td>0        </td></tr>\n",
       "\t<tr><td>Bug      </td><td>Flying   </td><td>False    </td><td>Dual     </td><td>0.8746685</td><td>0.8123851</td><td>0.5265954</td><td>0.6234458</td><td>1.1267498</td><td>1.0370485</td><td>0.9428379</td><td>2.193913 </td><td>0        </td><td>0        </td><td>0        </td><td>0        </td><td>0        </td></tr>\n",
       "\t<tr><td>Normal   </td><td>Flying   </td><td>False    </td><td>Dual     </td><td>0.5558020</td><td>0.5415901</td><td>0.5265954</td><td>0.4987566</td><td>0.4381805</td><td>0.4537087</td><td>0.7542703</td><td>2.193913 </td><td>0        </td><td>0        </td><td>0        </td><td>0        </td><td>0        </td></tr>\n",
       "\t<tr><td>Normal   </td><td>Flying   </td><td>False    </td><td>Dual     </td><td>0.7728084</td><td>0.8530043</td><td>0.7021272</td><td>0.6857903</td><td>0.6259721</td><td>0.6481553</td><td>0.9563070</td><td>2.193913 </td><td>0        </td><td>0        </td><td>0        </td><td>0        </td><td>0        </td></tr>\n",
       "\t<tr><td>Normal   </td><td>Flying   </td><td>False    </td><td>Dual     </td><td>0.5801599</td><td>0.5415901</td><td>0.7021272</td><td>0.3740675</td><td>0.3881027</td><td>0.4018563</td><td>0.9428379</td><td>2.193913 </td><td>0        </td><td>0        </td><td>0        </td><td>0        </td><td>0        </td></tr>\n",
       "</tbody>\n",
       "</table>\n"
      ],
      "text/latex": [
       "\\begin{tabular}{r|lllllllllllllllll}\n",
       " Type\\_1 & Type\\_2 & Legendary & Type\\_summary & scaled\\_Total & scaled\\_Hit\\_Points & scaled\\_Attack & scaled\\_Defense & scaled\\_Special\\_Attack & scaled\\_Special\\_Defense & scaled\\_Speed & scaled\\_Gen\\_1 & scaled\\_Gen\\_2 & scaled\\_Gen\\_3 & scaled\\_Gen\\_4 & scaled\\_Gen\\_5 & scaled\\_Gen\\_6\\\\\n",
       "\\hline\n",
       "\t Grass     & Poison    & False     & Dual      & 1.1625341 & 1.0831801 & 0.9595738 & 1.0349200 & 1.2519442 & 1.2963107 & 1.0775290 & 2.193913  & 0         & 0         & 0         & 0         & 0        \\\\\n",
       "\t Grass     & Poison    & False     & Dual      & 1.3839691 & 1.0831801 & 1.1702120 & 1.5336766 & 1.5273719 & 1.5555728 & 1.0775290 & 2.193913  & 0         & 0         & 0         & 0         & 0        \\\\\n",
       "\t Bug       & Flying    & False     & Dual      & 0.8746685 & 0.8123851 & 0.5265954 & 0.6234458 & 1.1267498 & 1.0370485 & 0.9428379 & 2.193913  & 0         & 0         & 0         & 0         & 0        \\\\\n",
       "\t Normal    & Flying    & False     & Dual      & 0.5558020 & 0.5415901 & 0.5265954 & 0.4987566 & 0.4381805 & 0.4537087 & 0.7542703 & 2.193913  & 0         & 0         & 0         & 0         & 0        \\\\\n",
       "\t Normal    & Flying    & False     & Dual      & 0.7728084 & 0.8530043 & 0.7021272 & 0.6857903 & 0.6259721 & 0.6481553 & 0.9563070 & 2.193913  & 0         & 0         & 0         & 0         & 0        \\\\\n",
       "\t Normal    & Flying    & False     & Dual      & 0.5801599 & 0.5415901 & 0.7021272 & 0.3740675 & 0.3881027 & 0.4018563 & 0.9428379 & 2.193913  & 0         & 0         & 0         & 0         & 0        \\\\\n",
       "\\end{tabular}\n"
      ],
      "text/markdown": [
       "\n",
       "Type_1 | Type_2 | Legendary | Type_summary | scaled_Total | scaled_Hit_Points | scaled_Attack | scaled_Defense | scaled_Special_Attack | scaled_Special_Defense | scaled_Speed | scaled_Gen_1 | scaled_Gen_2 | scaled_Gen_3 | scaled_Gen_4 | scaled_Gen_5 | scaled_Gen_6 | \n",
       "|---|---|---|---|---|---|\n",
       "| Grass     | Poison    | False     | Dual      | 1.1625341 | 1.0831801 | 0.9595738 | 1.0349200 | 1.2519442 | 1.2963107 | 1.0775290 | 2.193913  | 0         | 0         | 0         | 0         | 0         | \n",
       "| Grass     | Poison    | False     | Dual      | 1.3839691 | 1.0831801 | 1.1702120 | 1.5336766 | 1.5273719 | 1.5555728 | 1.0775290 | 2.193913  | 0         | 0         | 0         | 0         | 0         | \n",
       "| Bug       | Flying    | False     | Dual      | 0.8746685 | 0.8123851 | 0.5265954 | 0.6234458 | 1.1267498 | 1.0370485 | 0.9428379 | 2.193913  | 0         | 0         | 0         | 0         | 0         | \n",
       "| Normal    | Flying    | False     | Dual      | 0.5558020 | 0.5415901 | 0.5265954 | 0.4987566 | 0.4381805 | 0.4537087 | 0.7542703 | 2.193913  | 0         | 0         | 0         | 0         | 0         | \n",
       "| Normal    | Flying    | False     | Dual      | 0.7728084 | 0.8530043 | 0.7021272 | 0.6857903 | 0.6259721 | 0.6481553 | 0.9563070 | 2.193913  | 0         | 0         | 0         | 0         | 0         | \n",
       "| Normal    | Flying    | False     | Dual      | 0.5801599 | 0.5415901 | 0.7021272 | 0.3740675 | 0.3881027 | 0.4018563 | 0.9428379 | 2.193913  | 0         | 0         | 0         | 0         | 0         | \n",
       "\n",
       "\n"
      ],
      "text/plain": [
       "  Type_1 Type_2 Legendary Type_summary scaled_Total scaled_Hit_Points\n",
       "1 Grass  Poison False     Dual         1.1625341    1.0831801        \n",
       "2 Grass  Poison False     Dual         1.3839691    1.0831801        \n",
       "3 Bug    Flying False     Dual         0.8746685    0.8123851        \n",
       "4 Normal Flying False     Dual         0.5558020    0.5415901        \n",
       "5 Normal Flying False     Dual         0.7728084    0.8530043        \n",
       "6 Normal Flying False     Dual         0.5801599    0.5415901        \n",
       "  scaled_Attack scaled_Defense scaled_Special_Attack scaled_Special_Defense\n",
       "1 0.9595738     1.0349200      1.2519442             1.2963107             \n",
       "2 1.1702120     1.5336766      1.5273719             1.5555728             \n",
       "3 0.5265954     0.6234458      1.1267498             1.0370485             \n",
       "4 0.5265954     0.4987566      0.4381805             0.4537087             \n",
       "5 0.7021272     0.6857903      0.6259721             0.6481553             \n",
       "6 0.7021272     0.3740675      0.3881027             0.4018563             \n",
       "  scaled_Speed scaled_Gen_1 scaled_Gen_2 scaled_Gen_3 scaled_Gen_4 scaled_Gen_5\n",
       "1 1.0775290    2.193913     0            0            0            0           \n",
       "2 1.0775290    2.193913     0            0            0            0           \n",
       "3 0.9428379    2.193913     0            0            0            0           \n",
       "4 0.7542703    2.193913     0            0            0            0           \n",
       "5 0.9563070    2.193913     0            0            0            0           \n",
       "6 0.9428379    2.193913     0            0            0            0           \n",
       "  scaled_Gen_6\n",
       "1 0           \n",
       "2 0           \n",
       "3 0           \n",
       "4 0           \n",
       "5 0           \n",
       "6 0           "
      ]
     },
     "metadata": {},
     "output_type": "display_data"
    }
   ],
   "source": [
    "#knn using Dual type only predicting legendary status (modal 2)\n",
    "set.seed(1234)\n",
    "training_rows_d <- scaled_pokemon %>% \n",
    "mutate(Legendary = as.factor(Legendary)) %>%\n",
    "  select(Legendary) %>% \n",
    "  unlist() %>% \n",
    "  createDataPartition(p = 0.80, list = FALSE)\n",
    "\n",
    "training_set_d <- scaled_pokemon %>% filter(Type_summary == \"Dual\") %>% slice(training_rows)\n",
    "testing_set_d <- scaled_pokemon %>%  slice(-training_rows) %>% filter(Type_summary == \"Dual\")\n",
    "\n",
    "head(training_set_d)\n",
    "head(testing_set_d)"
   ]
  },
  {
   "cell_type": "code",
   "execution_count": 29,
   "metadata": {},
   "outputs": [
    {
     "data": {
      "text/plain": [
       "k-Nearest Neighbors \n",
       "\n",
       "327 samples\n",
       " 12 predictor\n",
       "  2 classes: 'False', 'True' \n",
       "\n",
       "No pre-processing\n",
       "Resampling: Cross-Validated (10 fold) \n",
       "Summary of sample sizes: 295, 294, 294, 294, 294, 294, ... \n",
       "Resampling results across tuning parameters:\n",
       "\n",
       "  k   Accuracy   Kappa    \n",
       "   1  0.9295343  0.6419826\n",
       "   3  0.9298128  0.5782780\n",
       "   5  0.9144719  0.4545834\n",
       "   7  0.9145611  0.3980889\n",
       "   9  0.9205270  0.4467015\n",
       "  11  0.9050914  0.2284049\n",
       "\n",
       "Accuracy was used to select the optimal model using the largest value.\n",
       "The final value used for the model was k = 3."
      ]
     },
     "metadata": {},
     "output_type": "display_data"
    },
    {
     "data": {
      "text/html": [
       "<table>\n",
       "<thead><tr><th scope=col>k</th><th scope=col>Accuracy</th><th scope=col>Kappa</th><th scope=col>AccuracySD</th><th scope=col>KappaSD</th></tr></thead>\n",
       "<tbody>\n",
       "\t<tr><td> 1        </td><td>0.9295343 </td><td>0.6419826 </td><td>0.03859474</td><td>0.1836167 </td></tr>\n",
       "\t<tr><td> 3        </td><td>0.9298128 </td><td>0.5782780 </td><td>0.02852390</td><td>0.2517303 </td></tr>\n",
       "\t<tr><td> 5        </td><td>0.9144719 </td><td>0.4545834 </td><td>0.02806874</td><td>0.2214610 </td></tr>\n",
       "\t<tr><td> 7        </td><td>0.9145611 </td><td>0.3980889 </td><td>0.03743633</td><td>0.3136992 </td></tr>\n",
       "\t<tr><td> 9        </td><td>0.9205270 </td><td>0.4467015 </td><td>0.04420073</td><td>0.2923632 </td></tr>\n",
       "\t<tr><td>11        </td><td>0.9050914 </td><td>0.2284049 </td><td>0.03997370</td><td>0.3220975 </td></tr>\n",
       "</tbody>\n",
       "</table>\n"
      ],
      "text/latex": [
       "\\begin{tabular}{r|lllll}\n",
       " k & Accuracy & Kappa & AccuracySD & KappaSD\\\\\n",
       "\\hline\n",
       "\t  1         & 0.9295343  & 0.6419826  & 0.03859474 & 0.1836167 \\\\\n",
       "\t  3         & 0.9298128  & 0.5782780  & 0.02852390 & 0.2517303 \\\\\n",
       "\t  5         & 0.9144719  & 0.4545834  & 0.02806874 & 0.2214610 \\\\\n",
       "\t  7         & 0.9145611  & 0.3980889  & 0.03743633 & 0.3136992 \\\\\n",
       "\t  9         & 0.9205270  & 0.4467015  & 0.04420073 & 0.2923632 \\\\\n",
       "\t 11         & 0.9050914  & 0.2284049  & 0.03997370 & 0.3220975 \\\\\n",
       "\\end{tabular}\n"
      ],
      "text/markdown": [
       "\n",
       "k | Accuracy | Kappa | AccuracySD | KappaSD | \n",
       "|---|---|---|---|---|---|\n",
       "|  1         | 0.9295343  | 0.6419826  | 0.03859474 | 0.1836167  | \n",
       "|  3         | 0.9298128  | 0.5782780  | 0.02852390 | 0.2517303  | \n",
       "|  5         | 0.9144719  | 0.4545834  | 0.02806874 | 0.2214610  | \n",
       "|  7         | 0.9145611  | 0.3980889  | 0.03743633 | 0.3136992  | \n",
       "|  9         | 0.9205270  | 0.4467015  | 0.04420073 | 0.2923632  | \n",
       "| 11         | 0.9050914  | 0.2284049  | 0.03997370 | 0.3220975  | \n",
       "\n",
       "\n"
      ],
      "text/plain": [
       "  k  Accuracy  Kappa     AccuracySD KappaSD  \n",
       "1  1 0.9295343 0.6419826 0.03859474 0.1836167\n",
       "2  3 0.9298128 0.5782780 0.02852390 0.2517303\n",
       "3  5 0.9144719 0.4545834 0.02806874 0.2214610\n",
       "4  7 0.9145611 0.3980889 0.03743633 0.3136992\n",
       "5  9 0.9205270 0.4467015 0.04420073 0.2923632\n",
       "6 11 0.9050914 0.2284049 0.03997370 0.3220975"
      ]
     },
     "metadata": {},
     "output_type": "display_data"
    }
   ],
   "source": [
    "Y_train_d <- training_set_d %>% select(Legendary) %>% unlist()\n",
    "X_train_d <- training_set_d %>% select(scaled_Hit_Points, scaled_Attack, scaled_Defense, \n",
    "                                        scaled_Special_Attack, scaled_Special_Defense, \n",
    "                                        scaled_Speed, scaled_Gen_1, scaled_Gen_2, scaled_Gen_3, \n",
    "                                        scaled_Gen_4, scaled_Gen_5, scaled_Gen_6) %>% data.frame()\n",
    "\n",
    "k <- c(1,3,5,7,9,11)\n",
    "ks <- data.frame(k)\n",
    "\n",
    "train_control <- trainControl(method = \"cv\", number = 10)\n",
    "choose_k_d <- train(x = X_train_d, y = Y_train_d, method = 'knn', tuneGrid = ks, trControl = train_control)\n",
    "choose_k_d\n",
    "\n",
    "k_accuracies_d <- choose_k_d$results\n",
    "k_accuracies_d"
   ]
  },
  {
   "cell_type": "code",
   "execution_count": 31,
   "metadata": {},
   "outputs": [
    {
     "data": {
      "text/plain": [
       "k-Nearest Neighbors \n",
       "\n",
       "303 samples\n",
       " 12 predictor\n",
       "  2 classes: 'False', 'True' \n",
       "\n",
       "No pre-processing\n",
       "Resampling: Bootstrapped (25 reps) \n",
       "Summary of sample sizes: 303, 303, 303, 303, 303, 303, ... \n",
       "Resampling results:\n",
       "\n",
       "  Accuracy   Kappa    \n",
       "  0.9313059  0.3112954\n",
       "\n",
       "Tuning parameter 'k' was held constant at a value of 3"
      ]
     },
     "metadata": {},
     "output_type": "display_data"
    },
    {
     "data": {
      "text/html": [
       "<ol class=list-inline>\n",
       "\t<li>False</li>\n",
       "\t<li>False</li>\n",
       "\t<li>False</li>\n",
       "\t<li>False</li>\n",
       "\t<li>False</li>\n",
       "\t<li>False</li>\n",
       "</ol>\n",
       "\n",
       "<details>\n",
       "\t<summary style=display:list-item;cursor:pointer>\n",
       "\t\t<strong>Levels</strong>:\n",
       "\t</summary>\n",
       "\t<ol class=list-inline>\n",
       "\t\t<li>'False'</li>\n",
       "\t\t<li>'True'</li>\n",
       "\t</ol>\n",
       "</details>"
      ],
      "text/latex": [
       "\\begin{enumerate*}\n",
       "\\item False\n",
       "\\item False\n",
       "\\item False\n",
       "\\item False\n",
       "\\item False\n",
       "\\item False\n",
       "\\end{enumerate*}\n",
       "\n",
       "\\emph{Levels}: \\begin{enumerate*}\n",
       "\\item 'False'\n",
       "\\item 'True'\n",
       "\\end{enumerate*}\n"
      ],
      "text/markdown": [
       "1. False\n",
       "2. False\n",
       "3. False\n",
       "4. False\n",
       "5. False\n",
       "6. False\n",
       "\n",
       "\n",
       "\n",
       "**Levels**: 1. 'False'\n",
       "2. 'True'\n",
       "\n",
       "\n"
      ],
      "text/plain": [
       "[1] False False False False False False\n",
       "Levels: False True"
      ]
     },
     "metadata": {},
     "output_type": "display_data"
    }
   ],
   "source": [
    "#test on k = 3\n",
    "Y_train_d2 <- training_set %>% select(Legendary) %>% unlist()\n",
    "X_train_d2 <- training_set %>% select(scaled_Hit_Points, scaled_Attack, scaled_Defense, \n",
    "                                        scaled_Special_Attack, scaled_Special_Defense, \n",
    "                                        scaled_Speed, scaled_Gen_1, scaled_Gen_2, scaled_Gen_3, \n",
    "                                        scaled_Gen_4, scaled_Gen_5, scaled_Gen_6) %>% data.frame()\n",
    "\n",
    "\n",
    "final_kd = data.frame(k = 3)\n",
    "final_classifier_legendary_d <- train(x = X_train_d2, y = Y_train_d2, method = \"knn\", tuneGrid = final_kd)\n",
    "final_classifier_legendary_d\n",
    "\n",
    "\n",
    "X_test_d2 <- testing_set_d %>% \n",
    "    select(scaled_Hit_Points, scaled_Attack, scaled_Defense, \n",
    "        scaled_Special_Attack, scaled_Special_Defense, \n",
    "        scaled_Speed, scaled_Gen_1, scaled_Gen_2, scaled_Gen_3, \n",
    "        scaled_Gen_4, scaled_Gen_5, scaled_Gen_6) %>% \n",
    "        data.frame()\n",
    "\n",
    "Y_test_d2 <- testing_set_d %>% \n",
    "    select(Legendary) %>% \n",
    "    unlist()\n",
    "test_pred_d <- predict(final_classifier_legendary_d, X_test_d2) \n",
    "head(test_pred_d)"
   ]
  },
  {
   "cell_type": "code",
   "execution_count": 43,
   "metadata": {},
   "outputs": [
    {
     "name": "stderr",
     "output_type": "stream",
     "text": [
      "Warning message:\n",
      "“predictions failed for Fold10: k= 1 Error in dimnames(x) <- dn : \n",
      "  length of 'dimnames' [2] not equal to array extent\n",
      "”Warning message:\n",
      "“predictions failed for Fold10: k= 3 Error in dimnames(x) <- dn : \n",
      "  length of 'dimnames' [2] not equal to array extent\n",
      "”Warning message:\n",
      "“predictions failed for Fold10: k= 5 Error in dimnames(x) <- dn : \n",
      "  length of 'dimnames' [2] not equal to array extent\n",
      "”Warning message:\n",
      "“predictions failed for Fold10: k= 7 Error in dimnames(x) <- dn : \n",
      "  length of 'dimnames' [2] not equal to array extent\n",
      "”Warning message:\n",
      "“predictions failed for Fold10: k= 9 Error in dimnames(x) <- dn : \n",
      "  length of 'dimnames' [2] not equal to array extent\n",
      "”Warning message:\n",
      "“predictions failed for Fold10: k=11 Error in dimnames(x) <- dn : \n",
      "  length of 'dimnames' [2] not equal to array extent\n",
      "”Warning message in nominalTrainWorkflow(x = x, y = y, wts = weights, info = trainInfo, :\n",
      "“There were missing values in resampled performance measures.”"
     ]
    },
    {
     "data": {
      "text/plain": [
       "k-Nearest Neighbors \n",
       "\n",
       "327 samples\n",
       " 12 predictor\n",
       " 18 classes: 'Bug', 'Dark', 'Dragon', 'Electric', 'Fairy', 'Fighting', 'Fire', 'Flying', 'Ghost', 'Grass', 'Ground', 'Ice', 'Normal', 'Poison', 'Psychic', 'Rock', 'Steel', 'Water' \n",
       "\n",
       "No pre-processing\n",
       "Resampling: Cross-Validated (10 fold) \n",
       "Summary of sample sizes: 298, 293, 296, 297, 293, 295, ... \n",
       "Resampling results across tuning parameters:\n",
       "\n",
       "  k   Accuracy   Kappa     \n",
       "   1  0.2458138  0.18281744\n",
       "   3  0.1875831  0.11944745\n",
       "   5  0.1717389  0.09992249\n",
       "   7  0.1870474  0.11272043\n",
       "   9  0.1867106  0.10963513\n",
       "  11  0.1746942  0.09396675\n",
       "\n",
       "Accuracy was used to select the optimal model using the largest value.\n",
       "The final value used for the model was k = 1."
      ]
     },
     "metadata": {},
     "output_type": "display_data"
    },
    {
     "data": {
      "text/html": [
       "<table>\n",
       "<thead><tr><th scope=col>k</th><th scope=col>Accuracy</th><th scope=col>Kappa</th><th scope=col>AccuracySD</th><th scope=col>KappaSD</th></tr></thead>\n",
       "<tbody>\n",
       "\t<tr><td> 1        </td><td>0.2458138 </td><td>0.18281744</td><td>0.10023991</td><td>0.10941390</td></tr>\n",
       "\t<tr><td> 3        </td><td>0.1875831 </td><td>0.11944745</td><td>0.06156023</td><td>0.06247315</td></tr>\n",
       "\t<tr><td> 5        </td><td>0.1717389 </td><td>0.09992249</td><td>0.06342728</td><td>0.07071898</td></tr>\n",
       "\t<tr><td> 7        </td><td>0.1870474 </td><td>0.11272043</td><td>0.06609838</td><td>0.07436145</td></tr>\n",
       "\t<tr><td> 9        </td><td>0.1867106 </td><td>0.10963513</td><td>0.07057343</td><td>0.07574137</td></tr>\n",
       "\t<tr><td>11        </td><td>0.1746942 </td><td>0.09396675</td><td>0.06500294</td><td>0.07408662</td></tr>\n",
       "</tbody>\n",
       "</table>\n"
      ],
      "text/latex": [
       "\\begin{tabular}{r|lllll}\n",
       " k & Accuracy & Kappa & AccuracySD & KappaSD\\\\\n",
       "\\hline\n",
       "\t  1         & 0.2458138  & 0.18281744 & 0.10023991 & 0.10941390\\\\\n",
       "\t  3         & 0.1875831  & 0.11944745 & 0.06156023 & 0.06247315\\\\\n",
       "\t  5         & 0.1717389  & 0.09992249 & 0.06342728 & 0.07071898\\\\\n",
       "\t  7         & 0.1870474  & 0.11272043 & 0.06609838 & 0.07436145\\\\\n",
       "\t  9         & 0.1867106  & 0.10963513 & 0.07057343 & 0.07574137\\\\\n",
       "\t 11         & 0.1746942  & 0.09396675 & 0.06500294 & 0.07408662\\\\\n",
       "\\end{tabular}\n"
      ],
      "text/markdown": [
       "\n",
       "k | Accuracy | Kappa | AccuracySD | KappaSD | \n",
       "|---|---|---|---|---|---|\n",
       "|  1         | 0.2458138  | 0.18281744 | 0.10023991 | 0.10941390 | \n",
       "|  3         | 0.1875831  | 0.11944745 | 0.06156023 | 0.06247315 | \n",
       "|  5         | 0.1717389  | 0.09992249 | 0.06342728 | 0.07071898 | \n",
       "|  7         | 0.1870474  | 0.11272043 | 0.06609838 | 0.07436145 | \n",
       "|  9         | 0.1867106  | 0.10963513 | 0.07057343 | 0.07574137 | \n",
       "| 11         | 0.1746942  | 0.09396675 | 0.06500294 | 0.07408662 | \n",
       "\n",
       "\n"
      ],
      "text/plain": [
       "  k  Accuracy  Kappa      AccuracySD KappaSD   \n",
       "1  1 0.2458138 0.18281744 0.10023991 0.10941390\n",
       "2  3 0.1875831 0.11944745 0.06156023 0.06247315\n",
       "3  5 0.1717389 0.09992249 0.06342728 0.07071898\n",
       "4  7 0.1870474 0.11272043 0.06609838 0.07436145\n",
       "5  9 0.1867106 0.10963513 0.07057343 0.07574137\n",
       "6 11 0.1746942 0.09396675 0.06500294 0.07408662"
      ]
     },
     "metadata": {},
     "output_type": "display_data"
    }
   ],
   "source": [
    "#knn using dual types data only to predict Type_1 (model 2)\n",
    "set.seed(5678)   \n",
    "training_rows2_d <- scaled_pokemon %>% \n",
    "mutate(Type_1 = as.factor(Type_1)) %>%\n",
    "  select(Type_1) %>% \n",
    "  unlist() %>% \n",
    "  createDataPartition(p = 0.80, list = FALSE)\n",
    "\n",
    "Y_type1_d <- training_set_d %>% select(Type_1) %>% unlist()\n",
    "\n",
    "k <- c(1,3,5,7,9,11)\n",
    "kks <- data.frame(k)\n",
    "\n",
    "\n",
    "train_control2_d <- trainControl(method = \"cv\", number = 10)\n",
    "\n",
    "choose_k_d3 <- train(x = X_train_d, y = Y_type1_d, method = 'knn', tuneGrid = kks, trControl = train_control2_d)\n",
    "choose_k_d3\n",
    "\n",
    "k_accuracies2_d <- choose_k_d3$results\n",
    "k_accuracies2_d"
   ]
  },
  {
   "cell_type": "code",
   "execution_count": 44,
   "metadata": {},
   "outputs": [
    {
     "name": "stderr",
     "output_type": "stream",
     "text": [
      "Warning message:\n",
      "“predictions failed for Resample01: k=1 Error in dimnames(x) <- dn : \n",
      "  length of 'dimnames' [2] not equal to array extent\n",
      "”Warning message:\n",
      "“predictions failed for Resample02: k=1 Error in dimnames(x) <- dn : \n",
      "  length of 'dimnames' [2] not equal to array extent\n",
      "”Warning message:\n",
      "“predictions failed for Resample06: k=1 Error in dimnames(x) <- dn : \n",
      "  length of 'dimnames' [2] not equal to array extent\n",
      "”Warning message:\n",
      "“predictions failed for Resample07: k=1 Error in dimnames(x) <- dn : \n",
      "  length of 'dimnames' [2] not equal to array extent\n",
      "”Warning message:\n",
      "“predictions failed for Resample08: k=1 Error in dimnames(x) <- dn : \n",
      "  length of 'dimnames' [2] not equal to array extent\n",
      "”Warning message:\n",
      "“predictions failed for Resample09: k=1 Error in dimnames(x) <- dn : \n",
      "  length of 'dimnames' [2] not equal to array extent\n",
      "”Warning message:\n",
      "“predictions failed for Resample11: k=1 Error in dimnames(x) <- dn : \n",
      "  length of 'dimnames' [2] not equal to array extent\n",
      "”Warning message:\n",
      "“predictions failed for Resample12: k=1 Error in dimnames(x) <- dn : \n",
      "  length of 'dimnames' [2] not equal to array extent\n",
      "”Warning message:\n",
      "“predictions failed for Resample20: k=1 Error in dimnames(x) <- dn : \n",
      "  length of 'dimnames' [2] not equal to array extent\n",
      "”Warning message:\n",
      "“predictions failed for Resample24: k=1 Error in dimnames(x) <- dn : \n",
      "  length of 'dimnames' [2] not equal to array extent\n",
      "”Warning message:\n",
      "“predictions failed for Resample25: k=1 Error in dimnames(x) <- dn : \n",
      "  length of 'dimnames' [2] not equal to array extent\n",
      "”Warning message in nominalTrainWorkflow(x = x, y = y, wts = weights, info = trainInfo, :\n",
      "“There were missing values in resampled performance measures.”"
     ]
    },
    {
     "data": {
      "text/plain": [
       "k-Nearest Neighbors \n",
       "\n",
       "327 samples\n",
       " 12 predictor\n",
       " 18 classes: 'Bug', 'Dark', 'Dragon', 'Electric', 'Fairy', 'Fighting', 'Fire', 'Flying', 'Ghost', 'Grass', 'Ground', 'Ice', 'Normal', 'Poison', 'Psychic', 'Rock', 'Steel', 'Water' \n",
       "\n",
       "No pre-processing\n",
       "Resampling: Bootstrapped (25 reps) \n",
       "Summary of sample sizes: 327, 327, 327, 327, 327, 327, ... \n",
       "Resampling results:\n",
       "\n",
       "  Accuracy   Kappa    \n",
       "  0.2040254  0.1416021\n",
       "\n",
       "Tuning parameter 'k' was held constant at a value of 1"
      ]
     },
     "metadata": {},
     "output_type": "display_data"
    },
    {
     "data": {
      "text/html": [
       "<ol class=list-inline>\n",
       "\t<li>Poison</li>\n",
       "\t<li>Fire</li>\n",
       "\t<li>Bug</li>\n",
       "\t<li>Normal</li>\n",
       "\t<li>Normal</li>\n",
       "\t<li>Normal</li>\n",
       "</ol>\n",
       "\n",
       "<details>\n",
       "\t<summary style=display:list-item;cursor:pointer>\n",
       "\t\t<strong>Levels</strong>:\n",
       "\t</summary>\n",
       "\t<ol class=list-inline>\n",
       "\t\t<li>'Bug'</li>\n",
       "\t\t<li>'Dark'</li>\n",
       "\t\t<li>'Dragon'</li>\n",
       "\t\t<li>'Electric'</li>\n",
       "\t\t<li>'Fairy'</li>\n",
       "\t\t<li>'Fighting'</li>\n",
       "\t\t<li>'Fire'</li>\n",
       "\t\t<li>'Flying'</li>\n",
       "\t\t<li>'Ghost'</li>\n",
       "\t\t<li>'Grass'</li>\n",
       "\t\t<li>'Ground'</li>\n",
       "\t\t<li>'Ice'</li>\n",
       "\t\t<li>'Normal'</li>\n",
       "\t\t<li>'Poison'</li>\n",
       "\t\t<li>'Psychic'</li>\n",
       "\t\t<li>'Rock'</li>\n",
       "\t\t<li>'Steel'</li>\n",
       "\t\t<li>'Water'</li>\n",
       "\t</ol>\n",
       "</details>"
      ],
      "text/latex": [
       "\\begin{enumerate*}\n",
       "\\item Poison\n",
       "\\item Fire\n",
       "\\item Bug\n",
       "\\item Normal\n",
       "\\item Normal\n",
       "\\item Normal\n",
       "\\end{enumerate*}\n",
       "\n",
       "\\emph{Levels}: \\begin{enumerate*}\n",
       "\\item 'Bug'\n",
       "\\item 'Dark'\n",
       "\\item 'Dragon'\n",
       "\\item 'Electric'\n",
       "\\item 'Fairy'\n",
       "\\item 'Fighting'\n",
       "\\item 'Fire'\n",
       "\\item 'Flying'\n",
       "\\item 'Ghost'\n",
       "\\item 'Grass'\n",
       "\\item 'Ground'\n",
       "\\item 'Ice'\n",
       "\\item 'Normal'\n",
       "\\item 'Poison'\n",
       "\\item 'Psychic'\n",
       "\\item 'Rock'\n",
       "\\item 'Steel'\n",
       "\\item 'Water'\n",
       "\\end{enumerate*}\n"
      ],
      "text/markdown": [
       "1. Poison\n",
       "2. Fire\n",
       "3. Bug\n",
       "4. Normal\n",
       "5. Normal\n",
       "6. Normal\n",
       "\n",
       "\n",
       "\n",
       "**Levels**: 1. 'Bug'\n",
       "2. 'Dark'\n",
       "3. 'Dragon'\n",
       "4. 'Electric'\n",
       "5. 'Fairy'\n",
       "6. 'Fighting'\n",
       "7. 'Fire'\n",
       "8. 'Flying'\n",
       "9. 'Ghost'\n",
       "10. 'Grass'\n",
       "11. 'Ground'\n",
       "12. 'Ice'\n",
       "13. 'Normal'\n",
       "14. 'Poison'\n",
       "15. 'Psychic'\n",
       "16. 'Rock'\n",
       "17. 'Steel'\n",
       "18. 'Water'\n",
       "\n",
       "\n"
      ],
      "text/plain": [
       "[1] Poison Fire   Bug    Normal Normal Normal\n",
       "18 Levels: Bug Dark Dragon Electric Fairy Fighting Fire Flying Ghost ... Water"
      ]
     },
     "metadata": {},
     "output_type": "display_data"
    }
   ],
   "source": [
    "final_k = data.frame(k = 1)\n",
    "final_classifier_type1_d <- train(x = X_train_d, y = Y_type1_d, method = \"knn\", tuneGrid = final_k)\n",
    "final_classifier_type1_d\n",
    "\n",
    "test_pred_d <- predict(final_classifier_type1_d, X_test_d2) \n",
    "head(test_pred_d)"
   ]
  },
  {
   "cell_type": "code",
   "execution_count": 45,
   "metadata": {},
   "outputs": [
    {
     "data": {
      "text/plain": [
       "k-Nearest Neighbors \n",
       "\n",
       "327 samples\n",
       " 12 predictor\n",
       " 18 classes: 'Bug', 'Dark', 'Dragon', 'Electric', 'Fairy', 'Fighting', 'Fire', 'Flying', 'Ghost', 'Grass', 'Ground', 'Ice', 'Normal', 'Poison', 'Psychic', 'Rock', 'Steel', 'Water' \n",
       "\n",
       "No pre-processing\n",
       "Resampling: Cross-Validated (10 fold) \n",
       "Summary of sample sizes: 296, 294, 296, 294, 293, 293, ... \n",
       "Resampling results across tuning parameters:\n",
       "\n",
       "  k   Accuracy   Kappa    \n",
       "   1  0.2995429  0.2118374\n",
       "   3  0.2714876  0.1786466\n",
       "   5  0.2645625  0.1619522\n",
       "   7  0.2850497  0.1712489\n",
       "   9  0.2840003  0.1695245\n",
       "  11  0.2966423  0.1808772\n",
       "\n",
       "Accuracy was used to select the optimal model using the largest value.\n",
       "The final value used for the model was k = 1."
      ]
     },
     "metadata": {},
     "output_type": "display_data"
    },
    {
     "data": {
      "text/html": [
       "<table>\n",
       "<thead><tr><th scope=col>k</th><th scope=col>Accuracy</th><th scope=col>Kappa</th><th scope=col>AccuracySD</th><th scope=col>KappaSD</th></tr></thead>\n",
       "<tbody>\n",
       "\t<tr><td> 1        </td><td>0.2995429 </td><td>0.2118374 </td><td>0.07758183</td><td>0.08776478</td></tr>\n",
       "\t<tr><td> 3        </td><td>0.2714876 </td><td>0.1786466 </td><td>0.08590694</td><td>0.09323327</td></tr>\n",
       "\t<tr><td> 5        </td><td>0.2645625 </td><td>0.1619522 </td><td>0.10186800</td><td>0.11591703</td></tr>\n",
       "\t<tr><td> 7        </td><td>0.2850497 </td><td>0.1712489 </td><td>0.08545017</td><td>0.09665607</td></tr>\n",
       "\t<tr><td> 9        </td><td>0.2840003 </td><td>0.1695245 </td><td>0.09262634</td><td>0.10480822</td></tr>\n",
       "\t<tr><td>11        </td><td>0.2966423 </td><td>0.1808772 </td><td>0.09079941</td><td>0.10373043</td></tr>\n",
       "</tbody>\n",
       "</table>\n"
      ],
      "text/latex": [
       "\\begin{tabular}{r|lllll}\n",
       " k & Accuracy & Kappa & AccuracySD & KappaSD\\\\\n",
       "\\hline\n",
       "\t  1         & 0.2995429  & 0.2118374  & 0.07758183 & 0.08776478\\\\\n",
       "\t  3         & 0.2714876  & 0.1786466  & 0.08590694 & 0.09323327\\\\\n",
       "\t  5         & 0.2645625  & 0.1619522  & 0.10186800 & 0.11591703\\\\\n",
       "\t  7         & 0.2850497  & 0.1712489  & 0.08545017 & 0.09665607\\\\\n",
       "\t  9         & 0.2840003  & 0.1695245  & 0.09262634 & 0.10480822\\\\\n",
       "\t 11         & 0.2966423  & 0.1808772  & 0.09079941 & 0.10373043\\\\\n",
       "\\end{tabular}\n"
      ],
      "text/markdown": [
       "\n",
       "k | Accuracy | Kappa | AccuracySD | KappaSD | \n",
       "|---|---|---|---|---|---|\n",
       "|  1         | 0.2995429  | 0.2118374  | 0.07758183 | 0.08776478 | \n",
       "|  3         | 0.2714876  | 0.1786466  | 0.08590694 | 0.09323327 | \n",
       "|  5         | 0.2645625  | 0.1619522  | 0.10186800 | 0.11591703 | \n",
       "|  7         | 0.2850497  | 0.1712489  | 0.08545017 | 0.09665607 | \n",
       "|  9         | 0.2840003  | 0.1695245  | 0.09262634 | 0.10480822 | \n",
       "| 11         | 0.2966423  | 0.1808772  | 0.09079941 | 0.10373043 | \n",
       "\n",
       "\n"
      ],
      "text/plain": [
       "  k  Accuracy  Kappa     AccuracySD KappaSD   \n",
       "1  1 0.2995429 0.2118374 0.07758183 0.08776478\n",
       "2  3 0.2714876 0.1786466 0.08590694 0.09323327\n",
       "3  5 0.2645625 0.1619522 0.10186800 0.11591703\n",
       "4  7 0.2850497 0.1712489 0.08545017 0.09665607\n",
       "5  9 0.2840003 0.1695245 0.09262634 0.10480822\n",
       "6 11 0.2966423 0.1808772 0.09079941 0.10373043"
      ]
     },
     "metadata": {},
     "output_type": "display_data"
    }
   ],
   "source": [
    "#knn using Dual types data only to predict Type_2 (model 2)\n",
    "set.seed(1435)   \n",
    "training_rows3_d <- scaled_pokemon %>% \n",
    "mutate(Type_2 = as.factor(Type_2)) %>%\n",
    "  select(Type_2) %>% \n",
    "  unlist() %>% \n",
    "  createDataPartition(p = 0.80, list = FALSE)\n",
    "\n",
    "Y_type2_d <- training_set_d %>% select(Type_2) %>% unlist()\n",
    "\n",
    "k <- c(1,3,5,7,9,11)\n",
    "ks <- data.frame(k)\n",
    "\n",
    "\n",
    "train_control3_d <- trainControl(method = \"cv\", number = 10)\n",
    "\n",
    "choose_k_d <- train(x = X_train_d, y = Y_type2_d, method = 'knn', tuneGrid = ks, trControl = train_control3_d)\n",
    "choose_k_d\n",
    "\n",
    "k_accuracies2_d <- choose_k_d$results\n",
    "k_accuracies2_d"
   ]
  },
  {
   "cell_type": "code",
   "execution_count": 46,
   "metadata": {},
   "outputs": [
    {
     "name": "stderr",
     "output_type": "stream",
     "text": [
      "Warning message:\n",
      "“predictions failed for Resample05: k=1 Error in dimnames(x) <- dn : \n",
      "  length of 'dimnames' [2] not equal to array extent\n",
      "”Warning message:\n",
      "“predictions failed for Resample19: k=1 Error in dimnames(x) <- dn : \n",
      "  length of 'dimnames' [2] not equal to array extent\n",
      "”Warning message:\n",
      "“predictions failed for Resample21: k=1 Error in dimnames(x) <- dn : \n",
      "  length of 'dimnames' [2] not equal to array extent\n",
      "”Warning message in nominalTrainWorkflow(x = x, y = y, wts = weights, info = trainInfo, :\n",
      "“There were missing values in resampled performance measures.”"
     ]
    },
    {
     "data": {
      "text/plain": [
       "k-Nearest Neighbors \n",
       "\n",
       "327 samples\n",
       " 12 predictor\n",
       " 18 classes: 'Bug', 'Dark', 'Dragon', 'Electric', 'Fairy', 'Fighting', 'Fire', 'Flying', 'Ghost', 'Grass', 'Ground', 'Ice', 'Normal', 'Poison', 'Psychic', 'Rock', 'Steel', 'Water' \n",
       "\n",
       "No pre-processing\n",
       "Resampling: Bootstrapped (25 reps) \n",
       "Summary of sample sizes: 327, 327, 327, 327, 327, 327, ... \n",
       "Resampling results:\n",
       "\n",
       "  Accuracy   Kappa    \n",
       "  0.2768639  0.1923828\n",
       "\n",
       "Tuning parameter 'k' was held constant at a value of 1"
      ]
     },
     "metadata": {},
     "output_type": "display_data"
    },
    {
     "data": {
      "text/html": [
       "<ol class=list-inline>\n",
       "\t<li>Ground</li>\n",
       "\t<li>Flying</li>\n",
       "\t<li>Flying</li>\n",
       "\t<li>Flying</li>\n",
       "\t<li>Flying</li>\n",
       "\t<li>Flying</li>\n",
       "</ol>\n",
       "\n",
       "<details>\n",
       "\t<summary style=display:list-item;cursor:pointer>\n",
       "\t\t<strong>Levels</strong>:\n",
       "\t</summary>\n",
       "\t<ol class=list-inline>\n",
       "\t\t<li>'Bug'</li>\n",
       "\t\t<li>'Dark'</li>\n",
       "\t\t<li>'Dragon'</li>\n",
       "\t\t<li>'Electric'</li>\n",
       "\t\t<li>'Fairy'</li>\n",
       "\t\t<li>'Fighting'</li>\n",
       "\t\t<li>'Fire'</li>\n",
       "\t\t<li>'Flying'</li>\n",
       "\t\t<li>'Ghost'</li>\n",
       "\t\t<li>'Grass'</li>\n",
       "\t\t<li>'Ground'</li>\n",
       "\t\t<li>'Ice'</li>\n",
       "\t\t<li>'Normal'</li>\n",
       "\t\t<li>'Poison'</li>\n",
       "\t\t<li>'Psychic'</li>\n",
       "\t\t<li>'Rock'</li>\n",
       "\t\t<li>'Steel'</li>\n",
       "\t\t<li>'Water'</li>\n",
       "\t</ol>\n",
       "</details>"
      ],
      "text/latex": [
       "\\begin{enumerate*}\n",
       "\\item Ground\n",
       "\\item Flying\n",
       "\\item Flying\n",
       "\\item Flying\n",
       "\\item Flying\n",
       "\\item Flying\n",
       "\\end{enumerate*}\n",
       "\n",
       "\\emph{Levels}: \\begin{enumerate*}\n",
       "\\item 'Bug'\n",
       "\\item 'Dark'\n",
       "\\item 'Dragon'\n",
       "\\item 'Electric'\n",
       "\\item 'Fairy'\n",
       "\\item 'Fighting'\n",
       "\\item 'Fire'\n",
       "\\item 'Flying'\n",
       "\\item 'Ghost'\n",
       "\\item 'Grass'\n",
       "\\item 'Ground'\n",
       "\\item 'Ice'\n",
       "\\item 'Normal'\n",
       "\\item 'Poison'\n",
       "\\item 'Psychic'\n",
       "\\item 'Rock'\n",
       "\\item 'Steel'\n",
       "\\item 'Water'\n",
       "\\end{enumerate*}\n"
      ],
      "text/markdown": [
       "1. Ground\n",
       "2. Flying\n",
       "3. Flying\n",
       "4. Flying\n",
       "5. Flying\n",
       "6. Flying\n",
       "\n",
       "\n",
       "\n",
       "**Levels**: 1. 'Bug'\n",
       "2. 'Dark'\n",
       "3. 'Dragon'\n",
       "4. 'Electric'\n",
       "5. 'Fairy'\n",
       "6. 'Fighting'\n",
       "7. 'Fire'\n",
       "8. 'Flying'\n",
       "9. 'Ghost'\n",
       "10. 'Grass'\n",
       "11. 'Ground'\n",
       "12. 'Ice'\n",
       "13. 'Normal'\n",
       "14. 'Poison'\n",
       "15. 'Psychic'\n",
       "16. 'Rock'\n",
       "17. 'Steel'\n",
       "18. 'Water'\n",
       "\n",
       "\n"
      ],
      "text/plain": [
       "[1] Ground Flying Flying Flying Flying Flying\n",
       "18 Levels: Bug Dark Dragon Electric Fairy Fighting Fire Flying Ghost ... Water"
      ]
     },
     "metadata": {},
     "output_type": "display_data"
    }
   ],
   "source": [
    "final_k_d = data.frame(k = 1)\n",
    "final_classifier_type2_d <- train(x = X_train_d, y = Y_type2_d, method = \"knn\", tuneGrid = final_k_d)\n",
    "final_classifier_type2_d\n",
    "\n",
    "test_pred_d <- predict(final_classifier_type2_d, X_test_d2) \n",
    "head(test_pred_d)"
   ]
  },
  {
   "cell_type": "code",
   "execution_count": null,
   "metadata": {},
   "outputs": [],
   "source": []
  }
 ],
 "metadata": {
  "kernelspec": {
   "display_name": "R",
   "language": "R",
   "name": "ir"
  },
  "language_info": {
   "codemirror_mode": "r",
   "file_extension": ".r",
   "mimetype": "text/x-r-source",
   "name": "R",
   "pygments_lexer": "r",
   "version": "3.4.1"
  }
 },
 "nbformat": 4,
 "nbformat_minor": 2
}
