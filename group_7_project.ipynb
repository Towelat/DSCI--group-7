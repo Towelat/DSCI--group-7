{
 "cells": [
  {
   "cell_type": "code",
   "execution_count": 1,
   "metadata": {},
   "outputs": [
    {
     "name": "stderr",
     "output_type": "stream",
     "text": [
      "Loading tidyverse: ggplot2\n",
      "Loading tidyverse: tibble\n",
      "Loading tidyverse: tidyr\n",
      "Loading tidyverse: readr\n",
      "Loading tidyverse: purrr\n",
      "Loading tidyverse: dplyr\n",
      "Conflicts with tidy packages ---------------------------------------------------\n",
      "filter(): dplyr, stats\n",
      "lag():    dplyr, stats\n",
      "\n",
      "Attaching package: ‘testthat’\n",
      "\n",
      "The following object is masked from ‘package:dplyr’:\n",
      "\n",
      "    matches\n",
      "\n",
      "The following object is masked from ‘package:purrr’:\n",
      "\n",
      "    is_null\n",
      "\n",
      "Loading required package: lattice\n",
      "\n",
      "Attaching package: ‘caret’\n",
      "\n",
      "The following object is masked from ‘package:purrr’:\n",
      "\n",
      "    lift\n",
      "\n"
     ]
    }
   ],
   "source": [
    "library(tidyverse)\n",
    "library(testthat)\n",
    "library(digest)\n",
    "library(repr)\n",
    "library(caret)\n",
    "library(stringr)"
   ]
  },
  {
   "cell_type": "code",
   "execution_count": null,
   "metadata": {},
   "outputs": [],
   "source": []
  },
  {
   "cell_type": "markdown",
   "metadata": {},
   "source": [
    "## “Who’s that Pokémon?”: Predicting Pokémon Types and Legendary status from their Generation and various Attributes using k-nn classification. "
   ]
  },
  {
   "cell_type": "code",
   "execution_count": 2,
   "metadata": {
    "scrolled": false
   },
   "outputs": [
    {
     "name": "stderr",
     "output_type": "stream",
     "text": [
      "Parsed with column specification:\n",
      "cols(\n",
      "  `#` = col_integer(),\n",
      "  Name = col_character(),\n",
      "  `Type 1` = col_character(),\n",
      "  `Type 2` = col_character(),\n",
      "  Total = col_integer(),\n",
      "  HP = col_integer(),\n",
      "  Attack = col_integer(),\n",
      "  Defense = col_integer(),\n",
      "  `Sp. Atk` = col_integer(),\n",
      "  `Sp. Def` = col_integer(),\n",
      "  Speed = col_integer(),\n",
      "  Generation = col_integer(),\n",
      "  Legendary = col_character()\n",
      ")\n"
     ]
    },
    {
     "data": {
      "text/html": [
       "<table>\n",
       "<thead><tr><th scope=col>#</th><th scope=col>Name</th><th scope=col>Type 1</th><th scope=col>Type 2</th><th scope=col>Total</th><th scope=col>HP</th><th scope=col>Attack</th><th scope=col>Defense</th><th scope=col>Sp. Atk</th><th scope=col>Sp. Def</th><th scope=col>Speed</th><th scope=col>Generation</th><th scope=col>Legendary</th></tr></thead>\n",
       "<tbody>\n",
       "\t<tr><td>1                    </td><td>Bulbasaur            </td><td>Grass                </td><td>Poison               </td><td>318                  </td><td>45                   </td><td> 49                  </td><td> 49                  </td><td> 65                  </td><td> 65                  </td><td>45                   </td><td>1                    </td><td>False                </td></tr>\n",
       "\t<tr><td>2                    </td><td>Ivysaur              </td><td>Grass                </td><td>Poison               </td><td>405                  </td><td>60                   </td><td> 62                  </td><td> 63                  </td><td> 80                  </td><td> 80                  </td><td>60                   </td><td>1                    </td><td>False                </td></tr>\n",
       "\t<tr><td>3                    </td><td>Venusaur             </td><td>Grass                </td><td>Poison               </td><td>525                  </td><td>80                   </td><td> 82                  </td><td> 83                  </td><td>100                  </td><td>100                  </td><td>80                   </td><td>1                    </td><td>False                </td></tr>\n",
       "\t<tr><td>3                    </td><td>VenusaurMega Venusaur</td><td>Grass                </td><td>Poison               </td><td>625                  </td><td>80                   </td><td>100                  </td><td>123                  </td><td>122                  </td><td>120                  </td><td>80                   </td><td>1                    </td><td>False                </td></tr>\n",
       "\t<tr><td>4                    </td><td>Charmander           </td><td>Fire                 </td><td>NA                   </td><td>309                  </td><td>39                   </td><td> 52                  </td><td> 43                  </td><td> 60                  </td><td> 50                  </td><td>65                   </td><td>1                    </td><td>False                </td></tr>\n",
       "\t<tr><td>5                    </td><td>Charmeleon           </td><td>Fire                 </td><td>NA                   </td><td>405                  </td><td>58                   </td><td> 64                  </td><td> 58                  </td><td> 80                  </td><td> 65                  </td><td>80                   </td><td>1                    </td><td>False                </td></tr>\n",
       "</tbody>\n",
       "</table>\n"
      ],
      "text/latex": [
       "\\begin{tabular}{r|lllllllllllll}\n",
       " \\# & Name & Type 1 & Type 2 & Total & HP & Attack & Defense & Sp. Atk & Sp. Def & Speed & Generation & Legendary\\\\\n",
       "\\hline\n",
       "\t 1                     & Bulbasaur             & Grass                 & Poison                & 318                   & 45                    &  49                   &  49                   &  65                   &  65                   & 45                    & 1                     & False                \\\\\n",
       "\t 2                     & Ivysaur               & Grass                 & Poison                & 405                   & 60                    &  62                   &  63                   &  80                   &  80                   & 60                    & 1                     & False                \\\\\n",
       "\t 3                     & Venusaur              & Grass                 & Poison                & 525                   & 80                    &  82                   &  83                   & 100                   & 100                   & 80                    & 1                     & False                \\\\\n",
       "\t 3                     & VenusaurMega Venusaur & Grass                 & Poison                & 625                   & 80                    & 100                   & 123                   & 122                   & 120                   & 80                    & 1                     & False                \\\\\n",
       "\t 4                     & Charmander            & Fire                  & NA                    & 309                   & 39                    &  52                   &  43                   &  60                   &  50                   & 65                    & 1                     & False                \\\\\n",
       "\t 5                     & Charmeleon            & Fire                  & NA                    & 405                   & 58                    &  64                   &  58                   &  80                   &  65                   & 80                    & 1                     & False                \\\\\n",
       "\\end{tabular}\n"
      ],
      "text/markdown": [
       "\n",
       "# | Name | Type 1 | Type 2 | Total | HP | Attack | Defense | Sp. Atk | Sp. Def | Speed | Generation | Legendary | \n",
       "|---|---|---|---|---|---|\n",
       "| 1                     | Bulbasaur             | Grass                 | Poison                | 318                   | 45                    |  49                   |  49                   |  65                   |  65                   | 45                    | 1                     | False                 | \n",
       "| 2                     | Ivysaur               | Grass                 | Poison                | 405                   | 60                    |  62                   |  63                   |  80                   |  80                   | 60                    | 1                     | False                 | \n",
       "| 3                     | Venusaur              | Grass                 | Poison                | 525                   | 80                    |  82                   |  83                   | 100                   | 100                   | 80                    | 1                     | False                 | \n",
       "| 3                     | VenusaurMega Venusaur | Grass                 | Poison                | 625                   | 80                    | 100                   | 123                   | 122                   | 120                   | 80                    | 1                     | False                 | \n",
       "| 4                     | Charmander            | Fire                  | NA                    | 309                   | 39                    |  52                   |  43                   |  60                   |  50                   | 65                    | 1                     | False                 | \n",
       "| 5                     | Charmeleon            | Fire                  | NA                    | 405                   | 58                    |  64                   |  58                   |  80                   |  65                   | 80                    | 1                     | False                 | \n",
       "\n",
       "\n"
      ],
      "text/plain": [
       "  # Name                  Type 1 Type 2 Total HP Attack Defense Sp. Atk Sp. Def\n",
       "1 1 Bulbasaur             Grass  Poison 318   45  49     49      65      65    \n",
       "2 2 Ivysaur               Grass  Poison 405   60  62     63      80      80    \n",
       "3 3 Venusaur              Grass  Poison 525   80  82     83     100     100    \n",
       "4 3 VenusaurMega Venusaur Grass  Poison 625   80 100    123     122     120    \n",
       "5 4 Charmander            Fire   NA     309   39  52     43      60      50    \n",
       "6 5 Charmeleon            Fire   NA     405   58  64     58      80      65    \n",
       "  Speed Generation Legendary\n",
       "1 45    1          False    \n",
       "2 60    1          False    \n",
       "3 80    1          False    \n",
       "4 80    1          False    \n",
       "5 65    1          False    \n",
       "6 80    1          False    "
      ]
     },
     "metadata": {},
     "output_type": "display_data"
    }
   ],
   "source": [
    "pokemon <- read_csv(\"https://raw.githubusercontent.com/UBC-DSCI/datasets/master/pokemon/Pokemon.csv\")\n",
    "head(pokemon)"
   ]
  },
  {
   "cell_type": "markdown",
   "metadata": {},
   "source": [
    "Looking at the data as it is, it needs to be wrangled and cleaned to get it to a format necessary for classification. This process will involve, renaming the column names, removing unnecessary columns, adding new columns, and scaling the data."
   ]
  },
  {
   "cell_type": "code",
   "execution_count": 3,
   "metadata": {},
   "outputs": [
    {
     "data": {
      "text/html": [
       "<ol class=list-inline>\n",
       "\t<li>'Number'</li>\n",
       "\t<li>'Name'</li>\n",
       "\t<li>'Type_1'</li>\n",
       "\t<li>'Type_2'</li>\n",
       "\t<li>'Total'</li>\n",
       "\t<li>'Hit_Points'</li>\n",
       "\t<li>'Attack'</li>\n",
       "\t<li>'Defense'</li>\n",
       "\t<li>'Special_Attack'</li>\n",
       "\t<li>'Special_Defense'</li>\n",
       "\t<li>'Speed'</li>\n",
       "\t<li>'Generation'</li>\n",
       "\t<li>'Legendary'</li>\n",
       "</ol>\n"
      ],
      "text/latex": [
       "\\begin{enumerate*}\n",
       "\\item 'Number'\n",
       "\\item 'Name'\n",
       "\\item 'Type\\_1'\n",
       "\\item 'Type\\_2'\n",
       "\\item 'Total'\n",
       "\\item 'Hit\\_Points'\n",
       "\\item 'Attack'\n",
       "\\item 'Defense'\n",
       "\\item 'Special\\_Attack'\n",
       "\\item 'Special\\_Defense'\n",
       "\\item 'Speed'\n",
       "\\item 'Generation'\n",
       "\\item 'Legendary'\n",
       "\\end{enumerate*}\n"
      ],
      "text/markdown": [
       "1. 'Number'\n",
       "2. 'Name'\n",
       "3. 'Type_1'\n",
       "4. 'Type_2'\n",
       "5. 'Total'\n",
       "6. 'Hit_Points'\n",
       "7. 'Attack'\n",
       "8. 'Defense'\n",
       "9. 'Special_Attack'\n",
       "10. 'Special_Defense'\n",
       "11. 'Speed'\n",
       "12. 'Generation'\n",
       "13. 'Legendary'\n",
       "\n",
       "\n"
      ],
      "text/plain": [
       " [1] \"Number\"          \"Name\"            \"Type_1\"          \"Type_2\"         \n",
       " [5] \"Total\"           \"Hit_Points\"      \"Attack\"          \"Defense\"        \n",
       " [9] \"Special_Attack\"  \"Special_Defense\" \"Speed\"           \"Generation\"     \n",
       "[13] \"Legendary\"      "
      ]
     },
     "metadata": {},
     "output_type": "display_data"
    },
    {
     "data": {
      "text/html": [
       "<table>\n",
       "<thead><tr><th scope=col>Number</th><th scope=col>Name</th><th scope=col>Type_1</th><th scope=col>Type_2</th><th scope=col>Total</th><th scope=col>Hit_Points</th><th scope=col>Attack</th><th scope=col>Defense</th><th scope=col>Special_Attack</th><th scope=col>Special_Defense</th><th scope=col>Speed</th><th scope=col>Generation</th><th scope=col>Legendary</th></tr></thead>\n",
       "<tbody>\n",
       "\t<tr><td>1                    </td><td>Bulbasaur            </td><td>Grass                </td><td>Poison               </td><td>318                  </td><td>45                   </td><td> 49                  </td><td> 49                  </td><td> 65                  </td><td> 65                  </td><td>45                   </td><td>1                    </td><td>False                </td></tr>\n",
       "\t<tr><td>2                    </td><td>Ivysaur              </td><td>Grass                </td><td>Poison               </td><td>405                  </td><td>60                   </td><td> 62                  </td><td> 63                  </td><td> 80                  </td><td> 80                  </td><td>60                   </td><td>1                    </td><td>False                </td></tr>\n",
       "\t<tr><td>3                    </td><td>Venusaur             </td><td>Grass                </td><td>Poison               </td><td>525                  </td><td>80                   </td><td> 82                  </td><td> 83                  </td><td>100                  </td><td>100                  </td><td>80                   </td><td>1                    </td><td>False                </td></tr>\n",
       "\t<tr><td>3                    </td><td>VenusaurMega Venusaur</td><td>Grass                </td><td>Poison               </td><td>625                  </td><td>80                   </td><td>100                  </td><td>123                  </td><td>122                  </td><td>120                  </td><td>80                   </td><td>1                    </td><td>False                </td></tr>\n",
       "\t<tr><td>4                    </td><td>Charmander           </td><td>Fire                 </td><td>NA                   </td><td>309                  </td><td>39                   </td><td> 52                  </td><td> 43                  </td><td> 60                  </td><td> 50                  </td><td>65                   </td><td>1                    </td><td>False                </td></tr>\n",
       "\t<tr><td>5                    </td><td>Charmeleon           </td><td>Fire                 </td><td>NA                   </td><td>405                  </td><td>58                   </td><td> 64                  </td><td> 58                  </td><td> 80                  </td><td> 65                  </td><td>80                   </td><td>1                    </td><td>False                </td></tr>\n",
       "</tbody>\n",
       "</table>\n"
      ],
      "text/latex": [
       "\\begin{tabular}{r|lllllllllllll}\n",
       " Number & Name & Type\\_1 & Type\\_2 & Total & Hit\\_Points & Attack & Defense & Special\\_Attack & Special\\_Defense & Speed & Generation & Legendary\\\\\n",
       "\\hline\n",
       "\t 1                     & Bulbasaur             & Grass                 & Poison                & 318                   & 45                    &  49                   &  49                   &  65                   &  65                   & 45                    & 1                     & False                \\\\\n",
       "\t 2                     & Ivysaur               & Grass                 & Poison                & 405                   & 60                    &  62                   &  63                   &  80                   &  80                   & 60                    & 1                     & False                \\\\\n",
       "\t 3                     & Venusaur              & Grass                 & Poison                & 525                   & 80                    &  82                   &  83                   & 100                   & 100                   & 80                    & 1                     & False                \\\\\n",
       "\t 3                     & VenusaurMega Venusaur & Grass                 & Poison                & 625                   & 80                    & 100                   & 123                   & 122                   & 120                   & 80                    & 1                     & False                \\\\\n",
       "\t 4                     & Charmander            & Fire                  & NA                    & 309                   & 39                    &  52                   &  43                   &  60                   &  50                   & 65                    & 1                     & False                \\\\\n",
       "\t 5                     & Charmeleon            & Fire                  & NA                    & 405                   & 58                    &  64                   &  58                   &  80                   &  65                   & 80                    & 1                     & False                \\\\\n",
       "\\end{tabular}\n"
      ],
      "text/markdown": [
       "\n",
       "Number | Name | Type_1 | Type_2 | Total | Hit_Points | Attack | Defense | Special_Attack | Special_Defense | Speed | Generation | Legendary | \n",
       "|---|---|---|---|---|---|\n",
       "| 1                     | Bulbasaur             | Grass                 | Poison                | 318                   | 45                    |  49                   |  49                   |  65                   |  65                   | 45                    | 1                     | False                 | \n",
       "| 2                     | Ivysaur               | Grass                 | Poison                | 405                   | 60                    |  62                   |  63                   |  80                   |  80                   | 60                    | 1                     | False                 | \n",
       "| 3                     | Venusaur              | Grass                 | Poison                | 525                   | 80                    |  82                   |  83                   | 100                   | 100                   | 80                    | 1                     | False                 | \n",
       "| 3                     | VenusaurMega Venusaur | Grass                 | Poison                | 625                   | 80                    | 100                   | 123                   | 122                   | 120                   | 80                    | 1                     | False                 | \n",
       "| 4                     | Charmander            | Fire                  | NA                    | 309                   | 39                    |  52                   |  43                   |  60                   |  50                   | 65                    | 1                     | False                 | \n",
       "| 5                     | Charmeleon            | Fire                  | NA                    | 405                   | 58                    |  64                   |  58                   |  80                   |  65                   | 80                    | 1                     | False                 | \n",
       "\n",
       "\n"
      ],
      "text/plain": [
       "  Number Name                  Type_1 Type_2 Total Hit_Points Attack Defense\n",
       "1 1      Bulbasaur             Grass  Poison 318   45          49     49    \n",
       "2 2      Ivysaur               Grass  Poison 405   60          62     63    \n",
       "3 3      Venusaur              Grass  Poison 525   80          82     83    \n",
       "4 3      VenusaurMega Venusaur Grass  Poison 625   80         100    123    \n",
       "5 4      Charmander            Fire   NA     309   39          52     43    \n",
       "6 5      Charmeleon            Fire   NA     405   58          64     58    \n",
       "  Special_Attack Special_Defense Speed Generation Legendary\n",
       "1  65             65             45    1          False    \n",
       "2  80             80             60    1          False    \n",
       "3 100            100             80    1          False    \n",
       "4 122            120             80    1          False    \n",
       "5  60             50             65    1          False    \n",
       "6  80             65             80    1          False    "
      ]
     },
     "metadata": {},
     "output_type": "display_data"
    }
   ],
   "source": [
    "#renaming the column headings to remove spaces between Type 1 and Type 2 and make the rest more understandable.\n",
    "cleaning_data <- names(pokemon) <- c(\"Number\",\"Name\",\"Type_1\", \"Type_2\", \"Total\", \"Hit_Points\", \"Attack\", \"Defense\", \n",
    "                                     \"Special_Attack\",\"Special_Defense\", \"Speed\", \"Generation\", \"Legendary\")\n",
    "cleaning_data\n",
    "head(pokemon)"
   ]
  },
  {
   "cell_type": "code",
   "execution_count": 4,
   "metadata": {},
   "outputs": [
    {
     "data": {
      "text/html": [
       "<table>\n",
       "<thead><tr><th scope=col>Type_1</th><th scope=col>Type_2</th><th scope=col>Total</th><th scope=col>Hit_Points</th><th scope=col>Attack</th><th scope=col>Defense</th><th scope=col>Special_Attack</th><th scope=col>Special_Defense</th><th scope=col>Speed</th><th scope=col>Generation</th><th scope=col>Legendary</th></tr></thead>\n",
       "<tbody>\n",
       "\t<tr><td>Grass </td><td>Poison</td><td>318   </td><td>45    </td><td> 49   </td><td> 49   </td><td> 65   </td><td> 65   </td><td>45    </td><td>1     </td><td>False </td></tr>\n",
       "\t<tr><td>Grass </td><td>Poison</td><td>405   </td><td>60    </td><td> 62   </td><td> 63   </td><td> 80   </td><td> 80   </td><td>60    </td><td>1     </td><td>False </td></tr>\n",
       "\t<tr><td>Grass </td><td>Poison</td><td>525   </td><td>80    </td><td> 82   </td><td> 83   </td><td>100   </td><td>100   </td><td>80    </td><td>1     </td><td>False </td></tr>\n",
       "\t<tr><td>Grass </td><td>Poison</td><td>625   </td><td>80    </td><td>100   </td><td>123   </td><td>122   </td><td>120   </td><td>80    </td><td>1     </td><td>False </td></tr>\n",
       "\t<tr><td>Fire  </td><td>NA    </td><td>309   </td><td>39    </td><td> 52   </td><td> 43   </td><td> 60   </td><td> 50   </td><td>65    </td><td>1     </td><td>False </td></tr>\n",
       "\t<tr><td>Fire  </td><td>NA    </td><td>405   </td><td>58    </td><td> 64   </td><td> 58   </td><td> 80   </td><td> 65   </td><td>80    </td><td>1     </td><td>False </td></tr>\n",
       "</tbody>\n",
       "</table>\n"
      ],
      "text/latex": [
       "\\begin{tabular}{r|lllllllllll}\n",
       " Type\\_1 & Type\\_2 & Total & Hit\\_Points & Attack & Defense & Special\\_Attack & Special\\_Defense & Speed & Generation & Legendary\\\\\n",
       "\\hline\n",
       "\t Grass  & Poison & 318    & 45     &  49    &  49    &  65    &  65    & 45     & 1      & False \\\\\n",
       "\t Grass  & Poison & 405    & 60     &  62    &  63    &  80    &  80    & 60     & 1      & False \\\\\n",
       "\t Grass  & Poison & 525    & 80     &  82    &  83    & 100    & 100    & 80     & 1      & False \\\\\n",
       "\t Grass  & Poison & 625    & 80     & 100    & 123    & 122    & 120    & 80     & 1      & False \\\\\n",
       "\t Fire   & NA     & 309    & 39     &  52    &  43    &  60    &  50    & 65     & 1      & False \\\\\n",
       "\t Fire   & NA     & 405    & 58     &  64    &  58    &  80    &  65    & 80     & 1      & False \\\\\n",
       "\\end{tabular}\n"
      ],
      "text/markdown": [
       "\n",
       "Type_1 | Type_2 | Total | Hit_Points | Attack | Defense | Special_Attack | Special_Defense | Speed | Generation | Legendary | \n",
       "|---|---|---|---|---|---|\n",
       "| Grass  | Poison | 318    | 45     |  49    |  49    |  65    |  65    | 45     | 1      | False  | \n",
       "| Grass  | Poison | 405    | 60     |  62    |  63    |  80    |  80    | 60     | 1      | False  | \n",
       "| Grass  | Poison | 525    | 80     |  82    |  83    | 100    | 100    | 80     | 1      | False  | \n",
       "| Grass  | Poison | 625    | 80     | 100    | 123    | 122    | 120    | 80     | 1      | False  | \n",
       "| Fire   | NA     | 309    | 39     |  52    |  43    |  60    |  50    | 65     | 1      | False  | \n",
       "| Fire   | NA     | 405    | 58     |  64    |  58    |  80    |  65    | 80     | 1      | False  | \n",
       "\n",
       "\n"
      ],
      "text/plain": [
       "  Type_1 Type_2 Total Hit_Points Attack Defense Special_Attack Special_Defense\n",
       "1 Grass  Poison 318   45          49     49      65             65            \n",
       "2 Grass  Poison 405   60          62     63      80             80            \n",
       "3 Grass  Poison 525   80          82     83     100            100            \n",
       "4 Grass  Poison 625   80         100    123     122            120            \n",
       "5 Fire   NA     309   39          52     43      60             50            \n",
       "6 Fire   NA     405   58          64     58      80             65            \n",
       "  Speed Generation Legendary\n",
       "1 45    1          False    \n",
       "2 60    1          False    \n",
       "3 80    1          False    \n",
       "4 80    1          False    \n",
       "5 65    1          False    \n",
       "6 80    1          False    "
      ]
     },
     "metadata": {},
     "output_type": "display_data"
    }
   ],
   "source": [
    "# removing the unnecessary columns\n",
    "cleaned_pokemon <- pokemon %>% \n",
    "                    select(-Number, -Name)\n",
    "head(cleaned_pokemon)"
   ]
  },
  {
   "cell_type": "markdown",
   "metadata": {},
   "source": [
    "Below we will be creating new columns namely the Type_summary column and the Gen_1, Gen_2... columns.\n",
    "The Type_summary column is required because it will be used to separate the data into pokemon with one or two types for further classification. The Generation column is split into six separate ones because,it is a categorical variable and would not have been evenly spaced."
   ]
  },
  {
   "cell_type": "code",
   "execution_count": 5,
   "metadata": {},
   "outputs": [
    {
     "data": {
      "text/html": [
       "<table>\n",
       "<thead><tr><th scope=col>Type_1</th><th scope=col>Type_2</th><th scope=col>Total</th><th scope=col>Hit_Points</th><th scope=col>Attack</th><th scope=col>Defense</th><th scope=col>Special_Attack</th><th scope=col>Special_Defense</th><th scope=col>Speed</th><th scope=col>Generation</th><th scope=col>Legendary</th><th scope=col>Type_sum</th><th scope=col>Gen_1</th><th scope=col>Gen_2</th><th scope=col>Gen_3</th><th scope=col>Gen_4</th><th scope=col>Gen_5</th><th scope=col>Gen_6</th><th scope=col>Type_summary</th></tr></thead>\n",
       "<tbody>\n",
       "\t<tr><td>Grass </td><td>Poison</td><td>318   </td><td>45    </td><td> 49   </td><td> 49   </td><td> 65   </td><td> 65   </td><td> 45   </td><td>1     </td><td>False </td><td>FALSE </td><td>1     </td><td>0     </td><td>0     </td><td>0     </td><td>0     </td><td>0     </td><td>Dual  </td></tr>\n",
       "\t<tr><td>Grass </td><td>Poison</td><td>405   </td><td>60    </td><td> 62   </td><td> 63   </td><td> 80   </td><td> 80   </td><td> 60   </td><td>1     </td><td>False </td><td>FALSE </td><td>1     </td><td>0     </td><td>0     </td><td>0     </td><td>0     </td><td>0     </td><td>Dual  </td></tr>\n",
       "\t<tr><td>Grass </td><td>Poison</td><td>525   </td><td>80    </td><td> 82   </td><td> 83   </td><td>100   </td><td>100   </td><td> 80   </td><td>1     </td><td>False </td><td>FALSE </td><td>1     </td><td>0     </td><td>0     </td><td>0     </td><td>0     </td><td>0     </td><td>Dual  </td></tr>\n",
       "\t<tr><td>Grass </td><td>Poison</td><td>625   </td><td>80    </td><td>100   </td><td>123   </td><td>122   </td><td>120   </td><td> 80   </td><td>1     </td><td>False </td><td>FALSE </td><td>1     </td><td>0     </td><td>0     </td><td>0     </td><td>0     </td><td>0     </td><td>Dual  </td></tr>\n",
       "\t<tr><td>Fire  </td><td>NA    </td><td>309   </td><td>39    </td><td> 52   </td><td> 43   </td><td> 60   </td><td> 50   </td><td> 65   </td><td>1     </td><td>False </td><td>   NA </td><td>1     </td><td>0     </td><td>0     </td><td>0     </td><td>0     </td><td>0     </td><td>Mono  </td></tr>\n",
       "\t<tr><td>Fire  </td><td>NA    </td><td>405   </td><td>58    </td><td> 64   </td><td> 58   </td><td> 80   </td><td> 65   </td><td> 80   </td><td>1     </td><td>False </td><td>   NA </td><td>1     </td><td>0     </td><td>0     </td><td>0     </td><td>0     </td><td>0     </td><td>Mono  </td></tr>\n",
       "\t<tr><td>Fire  </td><td>Flying</td><td>534   </td><td>78    </td><td> 84   </td><td> 78   </td><td>109   </td><td> 85   </td><td>100   </td><td>1     </td><td>False </td><td>FALSE </td><td>1     </td><td>0     </td><td>0     </td><td>0     </td><td>0     </td><td>0     </td><td>Dual  </td></tr>\n",
       "\t<tr><td>Fire  </td><td>Dragon</td><td>634   </td><td>78    </td><td>130   </td><td>111   </td><td>130   </td><td> 85   </td><td>100   </td><td>1     </td><td>False </td><td>FALSE </td><td>1     </td><td>0     </td><td>0     </td><td>0     </td><td>0     </td><td>0     </td><td>Dual  </td></tr>\n",
       "\t<tr><td>Fire  </td><td>Flying</td><td>634   </td><td>78    </td><td>104   </td><td> 78   </td><td>159   </td><td>115   </td><td>100   </td><td>1     </td><td>False </td><td>FALSE </td><td>1     </td><td>0     </td><td>0     </td><td>0     </td><td>0     </td><td>0     </td><td>Dual  </td></tr>\n",
       "\t<tr><td>Water </td><td>NA    </td><td>314   </td><td>44    </td><td> 48   </td><td> 65   </td><td> 50   </td><td> 64   </td><td> 43   </td><td>1     </td><td>False </td><td>   NA </td><td>1     </td><td>0     </td><td>0     </td><td>0     </td><td>0     </td><td>0     </td><td>Mono  </td></tr>\n",
       "</tbody>\n",
       "</table>\n"
      ],
      "text/latex": [
       "\\begin{tabular}{r|lllllllllllllllllll}\n",
       " Type\\_1 & Type\\_2 & Total & Hit\\_Points & Attack & Defense & Special\\_Attack & Special\\_Defense & Speed & Generation & Legendary & Type\\_sum & Gen\\_1 & Gen\\_2 & Gen\\_3 & Gen\\_4 & Gen\\_5 & Gen\\_6 & Type\\_summary\\\\\n",
       "\\hline\n",
       "\t Grass  & Poison & 318    & 45     &  49    &  49    &  65    &  65    &  45    & 1      & False  & FALSE  & 1      & 0      & 0      & 0      & 0      & 0      & Dual  \\\\\n",
       "\t Grass  & Poison & 405    & 60     &  62    &  63    &  80    &  80    &  60    & 1      & False  & FALSE  & 1      & 0      & 0      & 0      & 0      & 0      & Dual  \\\\\n",
       "\t Grass  & Poison & 525    & 80     &  82    &  83    & 100    & 100    &  80    & 1      & False  & FALSE  & 1      & 0      & 0      & 0      & 0      & 0      & Dual  \\\\\n",
       "\t Grass  & Poison & 625    & 80     & 100    & 123    & 122    & 120    &  80    & 1      & False  & FALSE  & 1      & 0      & 0      & 0      & 0      & 0      & Dual  \\\\\n",
       "\t Fire   & NA     & 309    & 39     &  52    &  43    &  60    &  50    &  65    & 1      & False  &    NA  & 1      & 0      & 0      & 0      & 0      & 0      & Mono  \\\\\n",
       "\t Fire   & NA     & 405    & 58     &  64    &  58    &  80    &  65    &  80    & 1      & False  &    NA  & 1      & 0      & 0      & 0      & 0      & 0      & Mono  \\\\\n",
       "\t Fire   & Flying & 534    & 78     &  84    &  78    & 109    &  85    & 100    & 1      & False  & FALSE  & 1      & 0      & 0      & 0      & 0      & 0      & Dual  \\\\\n",
       "\t Fire   & Dragon & 634    & 78     & 130    & 111    & 130    &  85    & 100    & 1      & False  & FALSE  & 1      & 0      & 0      & 0      & 0      & 0      & Dual  \\\\\n",
       "\t Fire   & Flying & 634    & 78     & 104    &  78    & 159    & 115    & 100    & 1      & False  & FALSE  & 1      & 0      & 0      & 0      & 0      & 0      & Dual  \\\\\n",
       "\t Water  & NA     & 314    & 44     &  48    &  65    &  50    &  64    &  43    & 1      & False  &    NA  & 1      & 0      & 0      & 0      & 0      & 0      & Mono  \\\\\n",
       "\\end{tabular}\n"
      ],
      "text/markdown": [
       "\n",
       "Type_1 | Type_2 | Total | Hit_Points | Attack | Defense | Special_Attack | Special_Defense | Speed | Generation | Legendary | Type_sum | Gen_1 | Gen_2 | Gen_3 | Gen_4 | Gen_5 | Gen_6 | Type_summary | \n",
       "|---|---|---|---|---|---|---|---|---|---|\n",
       "| Grass  | Poison | 318    | 45     |  49    |  49    |  65    |  65    |  45    | 1      | False  | FALSE  | 1      | 0      | 0      | 0      | 0      | 0      | Dual   | \n",
       "| Grass  | Poison | 405    | 60     |  62    |  63    |  80    |  80    |  60    | 1      | False  | FALSE  | 1      | 0      | 0      | 0      | 0      | 0      | Dual   | \n",
       "| Grass  | Poison | 525    | 80     |  82    |  83    | 100    | 100    |  80    | 1      | False  | FALSE  | 1      | 0      | 0      | 0      | 0      | 0      | Dual   | \n",
       "| Grass  | Poison | 625    | 80     | 100    | 123    | 122    | 120    |  80    | 1      | False  | FALSE  | 1      | 0      | 0      | 0      | 0      | 0      | Dual   | \n",
       "| Fire   | NA     | 309    | 39     |  52    |  43    |  60    |  50    |  65    | 1      | False  |    NA  | 1      | 0      | 0      | 0      | 0      | 0      | Mono   | \n",
       "| Fire   | NA     | 405    | 58     |  64    |  58    |  80    |  65    |  80    | 1      | False  |    NA  | 1      | 0      | 0      | 0      | 0      | 0      | Mono   | \n",
       "| Fire   | Flying | 534    | 78     |  84    |  78    | 109    |  85    | 100    | 1      | False  | FALSE  | 1      | 0      | 0      | 0      | 0      | 0      | Dual   | \n",
       "| Fire   | Dragon | 634    | 78     | 130    | 111    | 130    |  85    | 100    | 1      | False  | FALSE  | 1      | 0      | 0      | 0      | 0      | 0      | Dual   | \n",
       "| Fire   | Flying | 634    | 78     | 104    |  78    | 159    | 115    | 100    | 1      | False  | FALSE  | 1      | 0      | 0      | 0      | 0      | 0      | Dual   | \n",
       "| Water  | NA     | 314    | 44     |  48    |  65    |  50    |  64    |  43    | 1      | False  |    NA  | 1      | 0      | 0      | 0      | 0      | 0      | Mono   | \n",
       "\n",
       "\n"
      ],
      "text/plain": [
       "   Type_1 Type_2 Total Hit_Points Attack Defense Special_Attack Special_Defense\n",
       "1  Grass  Poison 318   45          49     49      65             65            \n",
       "2  Grass  Poison 405   60          62     63      80             80            \n",
       "3  Grass  Poison 525   80          82     83     100            100            \n",
       "4  Grass  Poison 625   80         100    123     122            120            \n",
       "5  Fire   NA     309   39          52     43      60             50            \n",
       "6  Fire   NA     405   58          64     58      80             65            \n",
       "7  Fire   Flying 534   78          84     78     109             85            \n",
       "8  Fire   Dragon 634   78         130    111     130             85            \n",
       "9  Fire   Flying 634   78         104     78     159            115            \n",
       "10 Water  NA     314   44          48     65      50             64            \n",
       "   Speed Generation Legendary Type_sum Gen_1 Gen_2 Gen_3 Gen_4 Gen_5 Gen_6\n",
       "1   45   1          False     FALSE    1     0     0     0     0     0    \n",
       "2   60   1          False     FALSE    1     0     0     0     0     0    \n",
       "3   80   1          False     FALSE    1     0     0     0     0     0    \n",
       "4   80   1          False     FALSE    1     0     0     0     0     0    \n",
       "5   65   1          False        NA    1     0     0     0     0     0    \n",
       "6   80   1          False        NA    1     0     0     0     0     0    \n",
       "7  100   1          False     FALSE    1     0     0     0     0     0    \n",
       "8  100   1          False     FALSE    1     0     0     0     0     0    \n",
       "9  100   1          False     FALSE    1     0     0     0     0     0    \n",
       "10  43   1          False        NA    1     0     0     0     0     0    \n",
       "   Type_summary\n",
       "1  Dual        \n",
       "2  Dual        \n",
       "3  Dual        \n",
       "4  Dual        \n",
       "5  Mono        \n",
       "6  Mono        \n",
       "7  Dual        \n",
       "8  Dual        \n",
       "9  Dual        \n",
       "10 Mono        "
      ]
     },
     "metadata": {},
     "output_type": "display_data"
    }
   ],
   "source": [
    "#creating new columns \n",
    "cleaned_pokemon2 <- cleaned_pokemon %>% mutate(Type_sum =(Type_1 == Type_2),\n",
    "                                               Gen_1 = as.numeric(Generation == 1),\n",
    "                                               Gen_2 = as.numeric(Generation == 2),\n",
    "                                               Gen_3 = as.numeric(Generation == 3),\n",
    "                                               Gen_4 = as.numeric(Generation == 4),\n",
    "                                               Gen_5 = as.numeric(Generation == 5),\n",
    "                                               Gen_6 = as.numeric(Generation == 6),\n",
    "                                               Type_summary = if_else(is.na(`Type_2`), \"Mono\", \"Dual\"))\n",
    "                                        \n",
    "head(n = 10, cleaned_pokemon2)\n",
    "\n"
   ]
  },
  {
   "cell_type": "code",
   "execution_count": 6,
   "metadata": {},
   "outputs": [
    {
     "data": {
      "text/html": [
       "<table>\n",
       "<thead><tr><th scope=col>Type_1</th><th scope=col>Type_2</th><th scope=col>Legendary</th><th scope=col>Type_summary</th><th scope=col>scaled_Total</th><th scope=col>scaled_Hit_Points</th><th scope=col>scaled_Attack</th><th scope=col>scaled_Defense</th><th scope=col>scaled_Special_Attack</th><th scope=col>scaled_Special_Defense</th><th scope=col>scaled_Speed</th><th scope=col>scaled_Gen_1</th><th scope=col>scaled_Gen_2</th><th scope=col>scaled_Gen_3</th><th scope=col>scaled_Gen_4</th><th scope=col>scaled_Gen_5</th><th scope=col>scaled_Gen_6</th></tr></thead>\n",
       "<tbody>\n",
       "\t<tr><td>Grass    </td><td>Poison   </td><td>False    </td><td>Dual     </td><td>0.7041635</td><td>0.6092888</td><td>0.5734039</td><td>0.6109768</td><td>0.8137637</td><td>0.8426019</td><td>0.6061101</td><td>2.193913 </td><td>0        </td><td>0        </td><td>0        </td><td>0        </td><td>0        </td></tr>\n",
       "\t<tr><td>Grass    </td><td>Poison   </td><td>False    </td><td>Dual     </td><td>0.8968120</td><td>0.8123851</td><td>0.7255314</td><td>0.7855417</td><td>1.0015554</td><td>1.0370485</td><td>0.8081468</td><td>2.193913 </td><td>0        </td><td>0        </td><td>0        </td><td>0        </td><td>0        </td></tr>\n",
       "\t<tr><td>Grass    </td><td>Poison   </td><td>False    </td><td>Dual     </td><td>1.1625341</td><td>1.0831801</td><td>0.9595738</td><td>1.0349200</td><td>1.2519442</td><td>1.2963107</td><td>1.0775290</td><td>2.193913 </td><td>0        </td><td>0        </td><td>0        </td><td>0        </td><td>0        </td></tr>\n",
       "\t<tr><td>Grass    </td><td>Poison   </td><td>False    </td><td>Dual     </td><td>1.3839691</td><td>1.0831801</td><td>1.1702120</td><td>1.5336766</td><td>1.5273719</td><td>1.5555728</td><td>1.0775290</td><td>2.193913 </td><td>0        </td><td>0        </td><td>0        </td><td>0        </td><td>0        </td></tr>\n",
       "\t<tr><td>Fire     </td><td>NA       </td><td>False    </td><td>Mono     </td><td>0.6842343</td><td>0.5280503</td><td>0.6085102</td><td>0.5361634</td><td>0.7511665</td><td>0.6481553</td><td>0.8754923</td><td>2.193913 </td><td>0        </td><td>0        </td><td>0        </td><td>0        </td><td>0        </td></tr>\n",
       "\t<tr><td>Fire     </td><td>NA       </td><td>False    </td><td>Mono     </td><td>0.8968120</td><td>0.7853056</td><td>0.7489357</td><td>0.7231971</td><td>1.0015554</td><td>0.8426019</td><td>1.0775290</td><td>2.193913 </td><td>0        </td><td>0        </td><td>0        </td><td>0        </td><td>0        </td></tr>\n",
       "</tbody>\n",
       "</table>\n"
      ],
      "text/latex": [
       "\\begin{tabular}{r|lllllllllllllllll}\n",
       " Type\\_1 & Type\\_2 & Legendary & Type\\_summary & scaled\\_Total & scaled\\_Hit\\_Points & scaled\\_Attack & scaled\\_Defense & scaled\\_Special\\_Attack & scaled\\_Special\\_Defense & scaled\\_Speed & scaled\\_Gen\\_1 & scaled\\_Gen\\_2 & scaled\\_Gen\\_3 & scaled\\_Gen\\_4 & scaled\\_Gen\\_5 & scaled\\_Gen\\_6\\\\\n",
       "\\hline\n",
       "\t Grass     & Poison    & False     & Dual      & 0.7041635 & 0.6092888 & 0.5734039 & 0.6109768 & 0.8137637 & 0.8426019 & 0.6061101 & 2.193913  & 0         & 0         & 0         & 0         & 0        \\\\\n",
       "\t Grass     & Poison    & False     & Dual      & 0.8968120 & 0.8123851 & 0.7255314 & 0.7855417 & 1.0015554 & 1.0370485 & 0.8081468 & 2.193913  & 0         & 0         & 0         & 0         & 0        \\\\\n",
       "\t Grass     & Poison    & False     & Dual      & 1.1625341 & 1.0831801 & 0.9595738 & 1.0349200 & 1.2519442 & 1.2963107 & 1.0775290 & 2.193913  & 0         & 0         & 0         & 0         & 0        \\\\\n",
       "\t Grass     & Poison    & False     & Dual      & 1.3839691 & 1.0831801 & 1.1702120 & 1.5336766 & 1.5273719 & 1.5555728 & 1.0775290 & 2.193913  & 0         & 0         & 0         & 0         & 0        \\\\\n",
       "\t Fire      & NA        & False     & Mono      & 0.6842343 & 0.5280503 & 0.6085102 & 0.5361634 & 0.7511665 & 0.6481553 & 0.8754923 & 2.193913  & 0         & 0         & 0         & 0         & 0        \\\\\n",
       "\t Fire      & NA        & False     & Mono      & 0.8968120 & 0.7853056 & 0.7489357 & 0.7231971 & 1.0015554 & 0.8426019 & 1.0775290 & 2.193913  & 0         & 0         & 0         & 0         & 0        \\\\\n",
       "\\end{tabular}\n"
      ],
      "text/markdown": [
       "\n",
       "Type_1 | Type_2 | Legendary | Type_summary | scaled_Total | scaled_Hit_Points | scaled_Attack | scaled_Defense | scaled_Special_Attack | scaled_Special_Defense | scaled_Speed | scaled_Gen_1 | scaled_Gen_2 | scaled_Gen_3 | scaled_Gen_4 | scaled_Gen_5 | scaled_Gen_6 | \n",
       "|---|---|---|---|---|---|\n",
       "| Grass     | Poison    | False     | Dual      | 0.7041635 | 0.6092888 | 0.5734039 | 0.6109768 | 0.8137637 | 0.8426019 | 0.6061101 | 2.193913  | 0         | 0         | 0         | 0         | 0         | \n",
       "| Grass     | Poison    | False     | Dual      | 0.8968120 | 0.8123851 | 0.7255314 | 0.7855417 | 1.0015554 | 1.0370485 | 0.8081468 | 2.193913  | 0         | 0         | 0         | 0         | 0         | \n",
       "| Grass     | Poison    | False     | Dual      | 1.1625341 | 1.0831801 | 0.9595738 | 1.0349200 | 1.2519442 | 1.2963107 | 1.0775290 | 2.193913  | 0         | 0         | 0         | 0         | 0         | \n",
       "| Grass     | Poison    | False     | Dual      | 1.3839691 | 1.0831801 | 1.1702120 | 1.5336766 | 1.5273719 | 1.5555728 | 1.0775290 | 2.193913  | 0         | 0         | 0         | 0         | 0         | \n",
       "| Fire      | NA        | False     | Mono      | 0.6842343 | 0.5280503 | 0.6085102 | 0.5361634 | 0.7511665 | 0.6481553 | 0.8754923 | 2.193913  | 0         | 0         | 0         | 0         | 0         | \n",
       "| Fire      | NA        | False     | Mono      | 0.8968120 | 0.7853056 | 0.7489357 | 0.7231971 | 1.0015554 | 0.8426019 | 1.0775290 | 2.193913  | 0         | 0         | 0         | 0         | 0         | \n",
       "\n",
       "\n"
      ],
      "text/plain": [
       "  Type_1 Type_2 Legendary Type_summary scaled_Total scaled_Hit_Points\n",
       "1 Grass  Poison False     Dual         0.7041635    0.6092888        \n",
       "2 Grass  Poison False     Dual         0.8968120    0.8123851        \n",
       "3 Grass  Poison False     Dual         1.1625341    1.0831801        \n",
       "4 Grass  Poison False     Dual         1.3839691    1.0831801        \n",
       "5 Fire   NA     False     Mono         0.6842343    0.5280503        \n",
       "6 Fire   NA     False     Mono         0.8968120    0.7853056        \n",
       "  scaled_Attack scaled_Defense scaled_Special_Attack scaled_Special_Defense\n",
       "1 0.5734039     0.6109768      0.8137637             0.8426019             \n",
       "2 0.7255314     0.7855417      1.0015554             1.0370485             \n",
       "3 0.9595738     1.0349200      1.2519442             1.2963107             \n",
       "4 1.1702120     1.5336766      1.5273719             1.5555728             \n",
       "5 0.6085102     0.5361634      0.7511665             0.6481553             \n",
       "6 0.7489357     0.7231971      1.0015554             0.8426019             \n",
       "  scaled_Speed scaled_Gen_1 scaled_Gen_2 scaled_Gen_3 scaled_Gen_4 scaled_Gen_5\n",
       "1 0.6061101    2.193913     0            0            0            0           \n",
       "2 0.8081468    2.193913     0            0            0            0           \n",
       "3 1.0775290    2.193913     0            0            0            0           \n",
       "4 1.0775290    2.193913     0            0            0            0           \n",
       "5 0.8754923    2.193913     0            0            0            0           \n",
       "6 1.0775290    2.193913     0            0            0            0           \n",
       "  scaled_Gen_6\n",
       "1 0           \n",
       "2 0           \n",
       "3 0           \n",
       "4 0           \n",
       "5 0           \n",
       "6 0           "
      ]
     },
     "metadata": {},
     "output_type": "display_data"
    }
   ],
   "source": [
    "#scaling relevant column data to normalize the features because different magnitudes in the attributes would\n",
    "#bias the predictions. \n",
    "#Also removing unneccessary columns.\n",
    "scaled_pokemon <- cleaned_pokemon2 %>%\n",
    "                                    mutate(scaled_Total = scale(Total,center = FALSE), \n",
    "                                    scaled_Hit_Points = scale(Hit_Points, center = FALSE), \n",
    "                                    scaled_Attack = scale(Attack, center = FALSE),\n",
    "                                    scaled_Defense = scale(Defense, center = FALSE),\n",
    "                                    scaled_Special_Attack = scale(Special_Attack, center = FALSE),\n",
    "                                    scaled_Special_Defense = scale(Special_Defense, center = FALSE),\n",
    "                                    scaled_Speed = scale(Speed, center = FALSE),\n",
    "                                    scaled_Gen_1 = scale(Gen_1, center = FALSE),\n",
    "                                    scaled_Gen_2 = scale(Gen_2, center = FALSE),\n",
    "                                    scaled_Gen_3 = scale(Gen_3, center = FALSE),\n",
    "                                    scaled_Gen_4 = scale(Gen_4, center = FALSE),\n",
    "                                    scaled_Gen_5 = scale(Gen_5, center = FALSE),\n",
    "                                    scaled_Gen_6 = scale(Gen_6, center = FALSE)) %>%\n",
    "                                    select(-Type_sum, -Generation,-Total, -Hit_Points, -Attack, -Defense, -Special_Attack, \n",
    "                                           -Special_Defense, -Speed, -Gen_1, -Gen_2, -Gen_3, -Gen_4, -Gen_5, -Gen_6)\n",
    "head(scaled_pokemon)"
   ]
  },
  {
   "cell_type": "code",
   "execution_count": 12,
   "metadata": {},
   "outputs": [],
   "source": [
    "#knn using full data (model 1)\n",
    "set.seed(151)\n",
    "training_rows <- scaled_pokemon %>%\n",
    "    select(Legendary) %>%\n",
    "    unlist() %>%\n",
    "    createDataPartition(p=0.75, list=FALSE)\n",
    "\n",
    "scaled_pokemon <- scaled_pokemon %>%\n",
    "    mutate(Legendary=as.factor(Legendary))\n",
    "\n",
    "scaled_pokemon$Type_2[is.na(scaled_pokemon$Type_2)] <- 'Mono'\n",
    "\n",
    "X_train <- scaled_pokemon %>% \n",
    "    select(scaled_Total, scaled_Hit_Points, scaled_Attack, scaled_Defense, scaled_Special_Attack, scaled_Special_Defense, scaled_Speed) %>% \n",
    "    slice(training_rows) %>% \n",
    "    data.frame()\n",
    "\n",
    "Y_train_legendary <- scaled_pokemon %>% \n",
    "    select(Legendary) %>% \n",
    "    slice(training_rows) %>% \n",
    "    unlist()\n",
    "\n",
    "Y_train_type1 <- scaled_pokemon %>% \n",
    "    select(Type_1) %>% \n",
    "    slice(training_rows) %>% \n",
    "    unlist()\n",
    "\n",
    "Y_train_type2 <- scaled_pokemon %>% \n",
    "    select(Type_2) %>% \n",
    "    slice(training_rows) %>% \n",
    "    unlist()\n",
    "\n",
    "X_test <- scaled_pokemon %>% \n",
    "    select(scaled_Total, scaled_Hit_Points, scaled_Attack, scaled_Defense, scaled_Special_Attack, scaled_Special_Defense, scaled_Speed) %>% \n",
    "    slice(-training_rows) %>% \n",
    "    data.frame()\n",
    "\n",
    "Y_test_legendary <- scaled_pokemon %>% \n",
    "    select(Legendary) %>% \n",
    "    slice(-training_rows) %>%\n",
    "    unlist()\n",
    "\n",
    "Y_test_type1 <- scaled_pokemon %>% \n",
    "    select(Type_1) %>% \n",
    "    slice(training_rows) %>% \n",
    "    unlist()\n",
    "\n",
    "Y_test_type2 <- scaled_pokemon %>% \n",
    "    select(Type_2) %>% \n",
    "    slice(training_rows) %>% \n",
    "    unlist()\n",
    "\n",
    "ks <- data.frame(k=c(1:11))\n",
    "train_control <- trainControl(method='cv', number=3)"
   ]
  },
  {
   "cell_type": "code",
   "execution_count": 8,
   "metadata": {},
   "outputs": [
    {
     "name": "stderr",
     "output_type": "stream",
     "text": [
      "also installing the dependencies ‘cluster’, ‘mlbench’, ‘SparseM’\n",
      "\n",
      "Updating HTML index of packages in '.Library'\n",
      "Making 'packages.html' ... done\n"
     ]
    }
   ],
   "source": [
    "install.packages(\"e1071\", dependencies=TRUE, type='source')\n",
    "library(e1071)"
   ]
  },
  {
   "cell_type": "code",
   "execution_count": 15,
   "metadata": {},
   "outputs": [
    {
     "data": {
      "text/plain": [
       "k-Nearest Neighbors \n",
       "\n",
       "601 samples\n",
       "  7 predictor\n",
       "  2 classes: 'False', 'True' \n",
       "\n",
       "No pre-processing\n",
       "Resampling: Cross-Validated (3 fold) \n",
       "Summary of sample sizes: 400, 401, 401 \n",
       "Resampling results across tuning parameters:\n",
       "\n",
       "  k   Accuracy   Kappa    \n",
       "   1  0.9351078  0.5623313\n",
       "   2  0.9317828  0.5132229\n",
       "   3  0.9400995  0.5832989\n",
       "   4  0.9301078  0.5173349\n",
       "   5  0.9434163  0.6142356\n",
       "   6  0.9434163  0.6047997\n",
       "   7  0.9450912  0.6336299\n",
       "   8  0.9384245  0.5761218\n",
       "   9  0.9384245  0.5811766\n",
       "  10  0.9384245  0.5704622\n",
       "  11  0.9367579  0.5550565\n",
       "\n",
       "Accuracy was used to select the optimal model using the largest value.\n",
       "The final value used for the model was k = 7."
      ]
     },
     "metadata": {},
     "output_type": "display_data"
    }
   ],
   "source": [
    "set.seed(151)\n",
    "knn_cv_legendary <- train(x=X_train, y=Y_train_legendary, method='knn', tuneGrid=ks, trControl=train_control)\n",
    "knn_cv_legendary"
   ]
  },
  {
   "cell_type": "code",
   "execution_count": 16,
   "metadata": {},
   "outputs": [
    {
     "data": {
      "text/plain": [
       "k-Nearest Neighbors \n",
       "\n",
       "601 samples\n",
       "  7 predictor\n",
       " 18 classes: 'Bug', 'Dark', 'Dragon', 'Electric', 'Fairy', 'Fighting', 'Fire', 'Flying', 'Ghost', 'Grass', 'Ground', 'Ice', 'Normal', 'Poison', 'Psychic', 'Rock', 'Steel', 'Water' \n",
       "\n",
       "No pre-processing\n",
       "Resampling: Cross-Validated (3 fold) \n",
       "Summary of sample sizes: 398, 403, 401 \n",
       "Resampling results across tuning parameters:\n",
       "\n",
       "  k   Accuracy   Kappa    \n",
       "   1  0.2063458  0.1402913\n",
       "   2  0.1914936  0.1231304\n",
       "   3  0.1932276  0.1235876\n",
       "   4  0.1865363  0.1145878\n",
       "   5  0.2180150  0.1464921\n",
       "   6  0.2247243  0.1515009\n",
       "   7  0.2163729  0.1416106\n",
       "   8  0.2264571  0.1511181\n",
       "   9  0.2198138  0.1417513\n",
       "  10  0.2280240  0.1497314\n",
       "  11  0.2280150  0.1503588\n",
       "\n",
       "Accuracy was used to select the optimal model using the largest value.\n",
       "The final value used for the model was k = 10."
      ]
     },
     "metadata": {},
     "output_type": "display_data"
    }
   ],
   "source": [
    "set.seed(151)\n",
    "knn_cv_type1 <- train(x=X_train, y=Y_train_type1, method='knn', tuneGrid=ks, trControl=train_control)\n",
    "knn_cv_type1"
   ]
  },
  {
   "cell_type": "code",
   "execution_count": 17,
   "metadata": {},
   "outputs": [
    {
     "data": {
      "text/plain": [
       "k-Nearest Neighbors \n",
       "\n",
       "601 samples\n",
       "  7 predictor\n",
       " 19 classes: 'Bug', 'Dark', 'Dragon', 'Electric', 'Fairy', 'Fighting', 'Fire', 'Flying', 'Ghost', 'Grass', 'Ground', 'Ice', 'Mono', 'Normal', 'Poison', 'Psychic', 'Rock', 'Steel', 'Water' \n",
       "\n",
       "No pre-processing\n",
       "Resampling: Cross-Validated (3 fold) \n",
       "Summary of sample sizes: 400, 403, 399 \n",
       "Resampling results across tuning parameters:\n",
       "\n",
       "  k   Accuracy   Kappa     \n",
       "   1  0.3094819  0.04354262\n",
       "   2  0.2962144  0.03191236\n",
       "   3  0.3543180  0.05429599\n",
       "   4  0.3828042  0.05792460\n",
       "   5  0.4194151  0.08142840\n",
       "   6  0.4526764  0.09193225\n",
       "   7  0.4593263  0.07631357\n",
       "   8  0.4558926  0.06602656\n",
       "   9  0.4576264  0.05908062\n",
       "  10  0.4677192  0.05595406\n",
       "  11  0.4609518  0.02872364\n",
       "\n",
       "Accuracy was used to select the optimal model using the largest value.\n",
       "The final value used for the model was k = 10."
      ]
     },
     "metadata": {},
     "output_type": "display_data"
    }
   ],
   "source": [
    "set.seed(151)\n",
    "knn_cv_type2 <- train(x=X_train, y=Y_train_type2, method='knn', tuneGrid=ks, trControl=train_control)\n",
    "knn_cv_type2"
   ]
  },
  {
   "cell_type": "code",
   "execution_count": null,
   "metadata": {},
   "outputs": [],
   "source": []
  }
 ],
 "metadata": {
  "kernelspec": {
   "display_name": "R",
   "language": "R",
   "name": "ir"
  },
  "language_info": {
   "codemirror_mode": "r",
   "file_extension": ".r",
   "mimetype": "text/x-r-source",
   "name": "R",
   "pygments_lexer": "r",
   "version": "3.4.1"
  }
 },
 "nbformat": 4,
 "nbformat_minor": 2
}
