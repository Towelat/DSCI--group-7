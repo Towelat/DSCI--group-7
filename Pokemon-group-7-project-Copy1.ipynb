{
 "cells": [
  {
   "cell_type": "code",
   "execution_count": 2,
   "metadata": {},
   "outputs": [
    {
     "name": "stderr",
     "output_type": "stream",
     "text": [
      "Loading tidyverse: ggplot2\n",
      "Loading tidyverse: tibble\n",
      "Loading tidyverse: tidyr\n",
      "Loading tidyverse: readr\n",
      "Loading tidyverse: purrr\n",
      "Loading tidyverse: dplyr\n",
      "Conflicts with tidy packages ---------------------------------------------------\n",
      "filter(): dplyr, stats\n",
      "lag():    dplyr, stats\n",
      "\n",
      "Attaching package: ‘testthat’\n",
      "\n",
      "The following object is masked from ‘package:dplyr’:\n",
      "\n",
      "    matches\n",
      "\n",
      "The following object is masked from ‘package:purrr’:\n",
      "\n",
      "    is_null\n",
      "\n",
      "Loading required package: lattice\n",
      "\n",
      "Attaching package: ‘caret’\n",
      "\n",
      "The following object is masked from ‘package:purrr’:\n",
      "\n",
      "    lift\n",
      "\n"
     ]
    }
   ],
   "source": [
    "library(tidyverse)\n",
    "library(testthat)\n",
    "library(digest)\n",
    "library(repr)\n",
    "library(caret)"
   ]
  },
  {
   "cell_type": "code",
   "execution_count": 3,
   "metadata": {},
   "outputs": [
    {
     "name": "stderr",
     "output_type": "stream",
     "text": [
      "Parsed with column specification:\n",
      "cols(\n",
      "  `#` = col_integer(),\n",
      "  Name = col_character(),\n",
      "  `Type 1` = col_character(),\n",
      "  `Type 2` = col_character(),\n",
      "  Total = col_integer(),\n",
      "  HP = col_integer(),\n",
      "  Attack = col_integer(),\n",
      "  Defense = col_integer(),\n",
      "  `Sp. Atk` = col_integer(),\n",
      "  `Sp. Def` = col_integer(),\n",
      "  Speed = col_integer(),\n",
      "  Generation = col_integer(),\n",
      "  Legendary = col_character()\n",
      ")\n"
     ]
    },
    {
     "data": {
      "text/html": [
       "<table>\n",
       "<thead><tr><th scope=col>#</th><th scope=col>Name</th><th scope=col>Type 1</th><th scope=col>Type 2</th><th scope=col>Total</th><th scope=col>HP</th><th scope=col>Attack</th><th scope=col>Defense</th><th scope=col>Sp. Atk</th><th scope=col>Sp. Def</th><th scope=col>Speed</th><th scope=col>Generation</th><th scope=col>Legendary</th></tr></thead>\n",
       "<tbody>\n",
       "\t<tr><td>1                        </td><td>Bulbasaur                </td><td>Grass                    </td><td>Poison                   </td><td>318                      </td><td>45                       </td><td> 49                      </td><td> 49                      </td><td> 65                      </td><td> 65                      </td><td> 45                      </td><td>1                        </td><td>False                    </td></tr>\n",
       "\t<tr><td>2                        </td><td>Ivysaur                  </td><td>Grass                    </td><td>Poison                   </td><td>405                      </td><td>60                       </td><td> 62                      </td><td> 63                      </td><td> 80                      </td><td> 80                      </td><td> 60                      </td><td>1                        </td><td>False                    </td></tr>\n",
       "\t<tr><td>3                        </td><td>Venusaur                 </td><td>Grass                    </td><td>Poison                   </td><td>525                      </td><td>80                       </td><td> 82                      </td><td> 83                      </td><td>100                      </td><td>100                      </td><td> 80                      </td><td>1                        </td><td>False                    </td></tr>\n",
       "\t<tr><td>3                        </td><td>VenusaurMega Venusaur    </td><td>Grass                    </td><td>Poison                   </td><td>625                      </td><td>80                       </td><td>100                      </td><td>123                      </td><td>122                      </td><td>120                      </td><td> 80                      </td><td>1                        </td><td>False                    </td></tr>\n",
       "\t<tr><td>4                        </td><td>Charmander               </td><td>Fire                     </td><td>NA                       </td><td>309                      </td><td>39                       </td><td> 52                      </td><td> 43                      </td><td> 60                      </td><td> 50                      </td><td> 65                      </td><td>1                        </td><td>False                    </td></tr>\n",
       "\t<tr><td>5                        </td><td>Charmeleon               </td><td>Fire                     </td><td>NA                       </td><td>405                      </td><td>58                       </td><td> 64                      </td><td> 58                      </td><td> 80                      </td><td> 65                      </td><td> 80                      </td><td>1                        </td><td>False                    </td></tr>\n",
       "\t<tr><td>6                        </td><td>Charizard                </td><td>Fire                     </td><td>Flying                   </td><td>534                      </td><td>78                       </td><td> 84                      </td><td> 78                      </td><td>109                      </td><td> 85                      </td><td>100                      </td><td>1                        </td><td>False                    </td></tr>\n",
       "\t<tr><td>6                        </td><td>CharizardMega Charizard X</td><td>Fire                     </td><td>Dragon                   </td><td>634                      </td><td>78                       </td><td>130                      </td><td>111                      </td><td>130                      </td><td> 85                      </td><td>100                      </td><td>1                        </td><td>False                    </td></tr>\n",
       "\t<tr><td>6                        </td><td>CharizardMega Charizard Y</td><td>Fire                     </td><td>Flying                   </td><td>634                      </td><td>78                       </td><td>104                      </td><td> 78                      </td><td>159                      </td><td>115                      </td><td>100                      </td><td>1                        </td><td>False                    </td></tr>\n",
       "\t<tr><td>7                        </td><td>Squirtle                 </td><td>Water                    </td><td>NA                       </td><td>314                      </td><td>44                       </td><td> 48                      </td><td> 65                      </td><td> 50                      </td><td> 64                      </td><td> 43                      </td><td>1                        </td><td>False                    </td></tr>\n",
       "\t<tr><td>8                        </td><td>Wartortle                </td><td>Water                    </td><td>NA                       </td><td>405                      </td><td>59                       </td><td> 63                      </td><td> 80                      </td><td> 65                      </td><td> 80                      </td><td> 58                      </td><td>1                        </td><td>False                    </td></tr>\n",
       "</tbody>\n",
       "</table>\n"
      ],
      "text/latex": [
       "\\begin{tabular}{r|lllllllllllll}\n",
       " \\# & Name & Type 1 & Type 2 & Total & HP & Attack & Defense & Sp. Atk & Sp. Def & Speed & Generation & Legendary\\\\\n",
       "\\hline\n",
       "\t 1                         & Bulbasaur                 & Grass                     & Poison                    & 318                       & 45                        &  49                       &  49                       &  65                       &  65                       &  45                       & 1                         & False                    \\\\\n",
       "\t 2                         & Ivysaur                   & Grass                     & Poison                    & 405                       & 60                        &  62                       &  63                       &  80                       &  80                       &  60                       & 1                         & False                    \\\\\n",
       "\t 3                         & Venusaur                  & Grass                     & Poison                    & 525                       & 80                        &  82                       &  83                       & 100                       & 100                       &  80                       & 1                         & False                    \\\\\n",
       "\t 3                         & VenusaurMega Venusaur     & Grass                     & Poison                    & 625                       & 80                        & 100                       & 123                       & 122                       & 120                       &  80                       & 1                         & False                    \\\\\n",
       "\t 4                         & Charmander                & Fire                      & NA                        & 309                       & 39                        &  52                       &  43                       &  60                       &  50                       &  65                       & 1                         & False                    \\\\\n",
       "\t 5                         & Charmeleon                & Fire                      & NA                        & 405                       & 58                        &  64                       &  58                       &  80                       &  65                       &  80                       & 1                         & False                    \\\\\n",
       "\t 6                         & Charizard                 & Fire                      & Flying                    & 534                       & 78                        &  84                       &  78                       & 109                       &  85                       & 100                       & 1                         & False                    \\\\\n",
       "\t 6                         & CharizardMega Charizard X & Fire                      & Dragon                    & 634                       & 78                        & 130                       & 111                       & 130                       &  85                       & 100                       & 1                         & False                    \\\\\n",
       "\t 6                         & CharizardMega Charizard Y & Fire                      & Flying                    & 634                       & 78                        & 104                       &  78                       & 159                       & 115                       & 100                       & 1                         & False                    \\\\\n",
       "\t 7                         & Squirtle                  & Water                     & NA                        & 314                       & 44                        &  48                       &  65                       &  50                       &  64                       &  43                       & 1                         & False                    \\\\\n",
       "\t 8                         & Wartortle                 & Water                     & NA                        & 405                       & 59                        &  63                       &  80                       &  65                       &  80                       &  58                       & 1                         & False                    \\\\\n",
       "\\end{tabular}\n"
      ],
      "text/markdown": [
       "\n",
       "# | Name | Type 1 | Type 2 | Total | HP | Attack | Defense | Sp. Atk | Sp. Def | Speed | Generation | Legendary | \n",
       "|---|---|---|---|---|---|---|---|---|---|---|\n",
       "| 1                         | Bulbasaur                 | Grass                     | Poison                    | 318                       | 45                        |  49                       |  49                       |  65                       |  65                       |  45                       | 1                         | False                     | \n",
       "| 2                         | Ivysaur                   | Grass                     | Poison                    | 405                       | 60                        |  62                       |  63                       |  80                       |  80                       |  60                       | 1                         | False                     | \n",
       "| 3                         | Venusaur                  | Grass                     | Poison                    | 525                       | 80                        |  82                       |  83                       | 100                       | 100                       |  80                       | 1                         | False                     | \n",
       "| 3                         | VenusaurMega Venusaur     | Grass                     | Poison                    | 625                       | 80                        | 100                       | 123                       | 122                       | 120                       |  80                       | 1                         | False                     | \n",
       "| 4                         | Charmander                | Fire                      | NA                        | 309                       | 39                        |  52                       |  43                       |  60                       |  50                       |  65                       | 1                         | False                     | \n",
       "| 5                         | Charmeleon                | Fire                      | NA                        | 405                       | 58                        |  64                       |  58                       |  80                       |  65                       |  80                       | 1                         | False                     | \n",
       "| 6                         | Charizard                 | Fire                      | Flying                    | 534                       | 78                        |  84                       |  78                       | 109                       |  85                       | 100                       | 1                         | False                     | \n",
       "| 6                         | CharizardMega Charizard X | Fire                      | Dragon                    | 634                       | 78                        | 130                       | 111                       | 130                       |  85                       | 100                       | 1                         | False                     | \n",
       "| 6                         | CharizardMega Charizard Y | Fire                      | Flying                    | 634                       | 78                        | 104                       |  78                       | 159                       | 115                       | 100                       | 1                         | False                     | \n",
       "| 7                         | Squirtle                  | Water                     | NA                        | 314                       | 44                        |  48                       |  65                       |  50                       |  64                       |  43                       | 1                         | False                     | \n",
       "| 8                         | Wartortle                 | Water                     | NA                        | 405                       | 59                        |  63                       |  80                       |  65                       |  80                       |  58                       | 1                         | False                     | \n",
       "\n",
       "\n"
      ],
      "text/plain": [
       "   # Name                      Type 1 Type 2 Total HP Attack Defense Sp. Atk\n",
       "1  1 Bulbasaur                 Grass  Poison 318   45  49     49      65    \n",
       "2  2 Ivysaur                   Grass  Poison 405   60  62     63      80    \n",
       "3  3 Venusaur                  Grass  Poison 525   80  82     83     100    \n",
       "4  3 VenusaurMega Venusaur     Grass  Poison 625   80 100    123     122    \n",
       "5  4 Charmander                Fire   NA     309   39  52     43      60    \n",
       "6  5 Charmeleon                Fire   NA     405   58  64     58      80    \n",
       "7  6 Charizard                 Fire   Flying 534   78  84     78     109    \n",
       "8  6 CharizardMega Charizard X Fire   Dragon 634   78 130    111     130    \n",
       "9  6 CharizardMega Charizard Y Fire   Flying 634   78 104     78     159    \n",
       "10 7 Squirtle                  Water  NA     314   44  48     65      50    \n",
       "11 8 Wartortle                 Water  NA     405   59  63     80      65    \n",
       "   Sp. Def Speed Generation Legendary\n",
       "1   65      45   1          False    \n",
       "2   80      60   1          False    \n",
       "3  100      80   1          False    \n",
       "4  120      80   1          False    \n",
       "5   50      65   1          False    \n",
       "6   65      80   1          False    \n",
       "7   85     100   1          False    \n",
       "8   85     100   1          False    \n",
       "9  115     100   1          False    \n",
       "10  64      43   1          False    \n",
       "11  80      58   1          False    "
      ]
     },
     "metadata": {},
     "output_type": "display_data"
    }
   ],
   "source": [
    "pokemon <- read_csv(\"https://raw.githubusercontent.com/UBC-DSCI/datasets/master/pokemon/Pokemon.csv\")\n",
    "head(pokemon, n = 11)"
   ]
  },
  {
   "cell_type": "code",
   "execution_count": 11,
   "metadata": {},
   "outputs": [
    {
     "data": {
      "text/html": [
       "<ol class=list-inline>\n",
       "\t<li>'number'</li>\n",
       "\t<li>'Name'</li>\n",
       "\t<li>'Type_1'</li>\n",
       "\t<li>'Type_2'</li>\n",
       "\t<li>'Total'</li>\n",
       "\t<li>'Hit_points'</li>\n",
       "\t<li>'Attack'</li>\n",
       "\t<li>'Defense'</li>\n",
       "\t<li>'Attack_strength'</li>\n",
       "\t<li>'Defense_strength'</li>\n",
       "\t<li>'Speed'</li>\n",
       "\t<li>'Generation'</li>\n",
       "\t<li>'Legendary'</li>\n",
       "</ol>\n"
      ],
      "text/latex": [
       "\\begin{enumerate*}\n",
       "\\item 'number'\n",
       "\\item 'Name'\n",
       "\\item 'Type\\_1'\n",
       "\\item 'Type\\_2'\n",
       "\\item 'Total'\n",
       "\\item 'Hit\\_points'\n",
       "\\item 'Attack'\n",
       "\\item 'Defense'\n",
       "\\item 'Attack\\_strength'\n",
       "\\item 'Defense\\_strength'\n",
       "\\item 'Speed'\n",
       "\\item 'Generation'\n",
       "\\item 'Legendary'\n",
       "\\end{enumerate*}\n"
      ],
      "text/markdown": [
       "1. 'number'\n",
       "2. 'Name'\n",
       "3. 'Type_1'\n",
       "4. 'Type_2'\n",
       "5. 'Total'\n",
       "6. 'Hit_points'\n",
       "7. 'Attack'\n",
       "8. 'Defense'\n",
       "9. 'Attack_strength'\n",
       "10. 'Defense_strength'\n",
       "11. 'Speed'\n",
       "12. 'Generation'\n",
       "13. 'Legendary'\n",
       "\n",
       "\n"
      ],
      "text/plain": [
       " [1] \"number\"           \"Name\"             \"Type_1\"           \"Type_2\"          \n",
       " [5] \"Total\"            \"Hit_points\"       \"Attack\"           \"Defense\"         \n",
       " [9] \"Attack_strength\"  \"Defense_strength\" \"Speed\"            \"Generation\"      \n",
       "[13] \"Legendary\"       "
      ]
     },
     "metadata": {},
     "output_type": "display_data"
    },
    {
     "data": {
      "text/html": [
       "<table>\n",
       "<thead><tr><th scope=col>number</th><th scope=col>Name</th><th scope=col>Type_1</th><th scope=col>Type_2</th><th scope=col>Total</th><th scope=col>Hit_points</th><th scope=col>Attack</th><th scope=col>Defense</th><th scope=col>Attack_strength</th><th scope=col>Defense_strength</th><th scope=col>Speed</th><th scope=col>Generation</th><th scope=col>Legendary</th></tr></thead>\n",
       "<tbody>\n",
       "\t<tr><td>1                    </td><td>Bulbasaur            </td><td>Grass                </td><td>Poison               </td><td>318                  </td><td>45                   </td><td> 49                  </td><td> 49                  </td><td> 65                  </td><td> 65                  </td><td>45                   </td><td>1                    </td><td>False                </td></tr>\n",
       "\t<tr><td>2                    </td><td>Ivysaur              </td><td>Grass                </td><td>Poison               </td><td>405                  </td><td>60                   </td><td> 62                  </td><td> 63                  </td><td> 80                  </td><td> 80                  </td><td>60                   </td><td>1                    </td><td>False                </td></tr>\n",
       "\t<tr><td>3                    </td><td>Venusaur             </td><td>Grass                </td><td>Poison               </td><td>525                  </td><td>80                   </td><td> 82                  </td><td> 83                  </td><td>100                  </td><td>100                  </td><td>80                   </td><td>1                    </td><td>False                </td></tr>\n",
       "\t<tr><td>3                    </td><td>VenusaurMega Venusaur</td><td>Grass                </td><td>Poison               </td><td>625                  </td><td>80                   </td><td>100                  </td><td>123                  </td><td>122                  </td><td>120                  </td><td>80                   </td><td>1                    </td><td>False                </td></tr>\n",
       "\t<tr><td>4                    </td><td>Charmander           </td><td>Fire                 </td><td>NA                   </td><td>309                  </td><td>39                   </td><td> 52                  </td><td> 43                  </td><td> 60                  </td><td> 50                  </td><td>65                   </td><td>1                    </td><td>False                </td></tr>\n",
       "\t<tr><td>5                    </td><td>Charmeleon           </td><td>Fire                 </td><td>NA                   </td><td>405                  </td><td>58                   </td><td> 64                  </td><td> 58                  </td><td> 80                  </td><td> 65                  </td><td>80                   </td><td>1                    </td><td>False                </td></tr>\n",
       "</tbody>\n",
       "</table>\n"
      ],
      "text/latex": [
       "\\begin{tabular}{r|lllllllllllll}\n",
       " number & Name & Type\\_1 & Type\\_2 & Total & Hit\\_points & Attack & Defense & Attack\\_strength & Defense\\_strength & Speed & Generation & Legendary\\\\\n",
       "\\hline\n",
       "\t 1                     & Bulbasaur             & Grass                 & Poison                & 318                   & 45                    &  49                   &  49                   &  65                   &  65                   & 45                    & 1                     & False                \\\\\n",
       "\t 2                     & Ivysaur               & Grass                 & Poison                & 405                   & 60                    &  62                   &  63                   &  80                   &  80                   & 60                    & 1                     & False                \\\\\n",
       "\t 3                     & Venusaur              & Grass                 & Poison                & 525                   & 80                    &  82                   &  83                   & 100                   & 100                   & 80                    & 1                     & False                \\\\\n",
       "\t 3                     & VenusaurMega Venusaur & Grass                 & Poison                & 625                   & 80                    & 100                   & 123                   & 122                   & 120                   & 80                    & 1                     & False                \\\\\n",
       "\t 4                     & Charmander            & Fire                  & NA                    & 309                   & 39                    &  52                   &  43                   &  60                   &  50                   & 65                    & 1                     & False                \\\\\n",
       "\t 5                     & Charmeleon            & Fire                  & NA                    & 405                   & 58                    &  64                   &  58                   &  80                   &  65                   & 80                    & 1                     & False                \\\\\n",
       "\\end{tabular}\n"
      ],
      "text/markdown": [
       "\n",
       "number | Name | Type_1 | Type_2 | Total | Hit_points | Attack | Defense | Attack_strength | Defense_strength | Speed | Generation | Legendary | \n",
       "|---|---|---|---|---|---|\n",
       "| 1                     | Bulbasaur             | Grass                 | Poison                | 318                   | 45                    |  49                   |  49                   |  65                   |  65                   | 45                    | 1                     | False                 | \n",
       "| 2                     | Ivysaur               | Grass                 | Poison                | 405                   | 60                    |  62                   |  63                   |  80                   |  80                   | 60                    | 1                     | False                 | \n",
       "| 3                     | Venusaur              | Grass                 | Poison                | 525                   | 80                    |  82                   |  83                   | 100                   | 100                   | 80                    | 1                     | False                 | \n",
       "| 3                     | VenusaurMega Venusaur | Grass                 | Poison                | 625                   | 80                    | 100                   | 123                   | 122                   | 120                   | 80                    | 1                     | False                 | \n",
       "| 4                     | Charmander            | Fire                  | NA                    | 309                   | 39                    |  52                   |  43                   |  60                   |  50                   | 65                    | 1                     | False                 | \n",
       "| 5                     | Charmeleon            | Fire                  | NA                    | 405                   | 58                    |  64                   |  58                   |  80                   |  65                   | 80                    | 1                     | False                 | \n",
       "\n",
       "\n"
      ],
      "text/plain": [
       "  number Name                  Type_1 Type_2 Total Hit_points Attack Defense\n",
       "1 1      Bulbasaur             Grass  Poison 318   45          49     49    \n",
       "2 2      Ivysaur               Grass  Poison 405   60          62     63    \n",
       "3 3      Venusaur              Grass  Poison 525   80          82     83    \n",
       "4 3      VenusaurMega Venusaur Grass  Poison 625   80         100    123    \n",
       "5 4      Charmander            Fire   NA     309   39          52     43    \n",
       "6 5      Charmeleon            Fire   NA     405   58          64     58    \n",
       "  Attack_strength Defense_strength Speed Generation Legendary\n",
       "1  65              65              45    1          False    \n",
       "2  80              80              60    1          False    \n",
       "3 100             100              80    1          False    \n",
       "4 122             120              80    1          False    \n",
       "5  60              50              65    1          False    \n",
       "6  80              65              80    1          False    "
      ]
     },
     "metadata": {},
     "output_type": "display_data"
    }
   ],
   "source": [
    "cleaning_data <- names(pokemon) <- c(\"number\",\"Name\",\"Type_1\", \"Type_2\", \"Total\", \"Hit_points\", \"Attack\", \"Defense\", \n",
    "                                     \"Attack_strength\",\"Defense_strength\", \"Speed\", \"Generation\", \"Legendary\")\n",
    "cleaning_data\n",
    "head(pokemon)"
   ]
  },
  {
   "cell_type": "code",
   "execution_count": 14,
   "metadata": {},
   "outputs": [
    {
     "data": {
      "text/html": [
       "<table>\n",
       "<thead><tr><th scope=col>Type_1</th><th scope=col>Type_2</th><th scope=col>Total</th><th scope=col>Hit_points</th><th scope=col>Attack</th><th scope=col>Defense</th><th scope=col>Attack_strength</th><th scope=col>Defense_strength</th><th scope=col>Speed</th><th scope=col>Generation</th><th scope=col>Legendary</th></tr></thead>\n",
       "<tbody>\n",
       "\t<tr><td>Grass </td><td>Poison</td><td>318   </td><td>45    </td><td> 49   </td><td> 49   </td><td> 65   </td><td> 65   </td><td>45    </td><td>1     </td><td>False </td></tr>\n",
       "\t<tr><td>Grass </td><td>Poison</td><td>405   </td><td>60    </td><td> 62   </td><td> 63   </td><td> 80   </td><td> 80   </td><td>60    </td><td>1     </td><td>False </td></tr>\n",
       "\t<tr><td>Grass </td><td>Poison</td><td>525   </td><td>80    </td><td> 82   </td><td> 83   </td><td>100   </td><td>100   </td><td>80    </td><td>1     </td><td>False </td></tr>\n",
       "\t<tr><td>Grass </td><td>Poison</td><td>625   </td><td>80    </td><td>100   </td><td>123   </td><td>122   </td><td>120   </td><td>80    </td><td>1     </td><td>False </td></tr>\n",
       "\t<tr><td>Fire  </td><td>NA    </td><td>309   </td><td>39    </td><td> 52   </td><td> 43   </td><td> 60   </td><td> 50   </td><td>65    </td><td>1     </td><td>False </td></tr>\n",
       "\t<tr><td>Fire  </td><td>NA    </td><td>405   </td><td>58    </td><td> 64   </td><td> 58   </td><td> 80   </td><td> 65   </td><td>80    </td><td>1     </td><td>False </td></tr>\n",
       "</tbody>\n",
       "</table>\n"
      ],
      "text/latex": [
       "\\begin{tabular}{r|lllllllllll}\n",
       " Type\\_1 & Type\\_2 & Total & Hit\\_points & Attack & Defense & Attack\\_strength & Defense\\_strength & Speed & Generation & Legendary\\\\\n",
       "\\hline\n",
       "\t Grass  & Poison & 318    & 45     &  49    &  49    &  65    &  65    & 45     & 1      & False \\\\\n",
       "\t Grass  & Poison & 405    & 60     &  62    &  63    &  80    &  80    & 60     & 1      & False \\\\\n",
       "\t Grass  & Poison & 525    & 80     &  82    &  83    & 100    & 100    & 80     & 1      & False \\\\\n",
       "\t Grass  & Poison & 625    & 80     & 100    & 123    & 122    & 120    & 80     & 1      & False \\\\\n",
       "\t Fire   & NA     & 309    & 39     &  52    &  43    &  60    &  50    & 65     & 1      & False \\\\\n",
       "\t Fire   & NA     & 405    & 58     &  64    &  58    &  80    &  65    & 80     & 1      & False \\\\\n",
       "\\end{tabular}\n"
      ],
      "text/markdown": [
       "\n",
       "Type_1 | Type_2 | Total | Hit_points | Attack | Defense | Attack_strength | Defense_strength | Speed | Generation | Legendary | \n",
       "|---|---|---|---|---|---|\n",
       "| Grass  | Poison | 318    | 45     |  49    |  49    |  65    |  65    | 45     | 1      | False  | \n",
       "| Grass  | Poison | 405    | 60     |  62    |  63    |  80    |  80    | 60     | 1      | False  | \n",
       "| Grass  | Poison | 525    | 80     |  82    |  83    | 100    | 100    | 80     | 1      | False  | \n",
       "| Grass  | Poison | 625    | 80     | 100    | 123    | 122    | 120    | 80     | 1      | False  | \n",
       "| Fire   | NA     | 309    | 39     |  52    |  43    |  60    |  50    | 65     | 1      | False  | \n",
       "| Fire   | NA     | 405    | 58     |  64    |  58    |  80    |  65    | 80     | 1      | False  | \n",
       "\n",
       "\n"
      ],
      "text/plain": [
       "  Type_1 Type_2 Total Hit_points Attack Defense Attack_strength\n",
       "1 Grass  Poison 318   45          49     49      65            \n",
       "2 Grass  Poison 405   60          62     63      80            \n",
       "3 Grass  Poison 525   80          82     83     100            \n",
       "4 Grass  Poison 625   80         100    123     122            \n",
       "5 Fire   NA     309   39          52     43      60            \n",
       "6 Fire   NA     405   58          64     58      80            \n",
       "  Defense_strength Speed Generation Legendary\n",
       "1  65              45    1          False    \n",
       "2  80              60    1          False    \n",
       "3 100              80    1          False    \n",
       "4 120              80    1          False    \n",
       "5  50              65    1          False    \n",
       "6  65              80    1          False    "
      ]
     },
     "metadata": {},
     "output_type": "display_data"
    }
   ],
   "source": [
    "cleaned_pokemon <- pokemon %>% \n",
    "                    select(-number, -Name)\n",
    "head(cleaned_pokemon)"
   ]
  }
 ],
 "metadata": {
  "kernelspec": {
   "display_name": "R",
   "language": "R",
   "name": "ir"
  },
  "language_info": {
   "codemirror_mode": "r",
   "file_extension": ".r",
   "mimetype": "text/x-r-source",
   "name": "R",
   "pygments_lexer": "r",
   "version": "3.4.1"
  }
 },
 "nbformat": 4,
 "nbformat_minor": 2
}
